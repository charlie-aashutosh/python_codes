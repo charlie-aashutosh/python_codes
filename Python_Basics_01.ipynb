{
  "nbformat": 4,
  "nbformat_minor": 0,
  "metadata": {
    "colab": {
      "name": "Python_Basics_01.ipynb",
      "provenance": [],
      "collapsed_sections": [],
      "authorship_tag": "ABX9TyP9mc7Ba2s0XlyREl3RATmW",
      "include_colab_link": true
    },
    "kernelspec": {
      "name": "python3",
      "display_name": "Python 3"
    }
  },
  "cells": [
    {
      "cell_type": "markdown",
      "metadata": {
        "id": "view-in-github",
        "colab_type": "text"
      },
      "source": [
        "<a href=\"https://colab.research.google.com/github/charlie-aashutosh/python_codes/blob/master/Python_Basics_01.ipynb\" target=\"_parent\"><img src=\"https://colab.research.google.com/assets/colab-badge.svg\" alt=\"Open In Colab\"/></a>"
      ]
    },
    {
      "cell_type": "code",
      "metadata": {
        "id": "iihex-L1hSR8"
      },
      "source": [
        "#This is a Code Cell"
      ],
      "execution_count": 1,
      "outputs": []
    },
    {
      "cell_type": "markdown",
      "metadata": {
        "id": "NTY5Ismhhh9k"
      },
      "source": [
        "This is a Text Cell\n"
      ]
    },
    {
      "cell_type": "markdown",
      "metadata": {
        "id": "o3ftzXBVq_NY"
      },
      "source": [
        "Comp. will not understand English lang and so we use Prog. lang and then we write a code which will be converted to Binary Format which will be understood by Comp."
      ]
    },
    {
      "cell_type": "code",
      "metadata": {
        "id": "Z__5jHWjhwzC",
        "outputId": "2dde681c-40a6-4ca0-a7f2-575794401b7d",
        "colab": {
          "base_uri": "https://localhost:8080/",
          "height": 35
        }
      },
      "source": [
        "1+3"
      ],
      "execution_count": 2,
      "outputs": [
        {
          "output_type": "execute_result",
          "data": {
            "text/plain": [
              "4"
            ]
          },
          "metadata": {
            "tags": []
          },
          "execution_count": 2
        }
      ]
    },
    {
      "cell_type": "code",
      "metadata": {
        "id": "Rpon9CuOnLY_",
        "outputId": "378e00f0-f309-4768-9a74-39fe55940d9e",
        "colab": {
          "base_uri": "https://localhost:8080/",
          "height": 35
        }
      },
      "source": [
        "4*6"
      ],
      "execution_count": 3,
      "outputs": [
        {
          "output_type": "execute_result",
          "data": {
            "text/plain": [
              "24"
            ]
          },
          "metadata": {
            "tags": []
          },
          "execution_count": 3
        }
      ]
    },
    {
      "cell_type": "code",
      "metadata": {
        "id": "e88nGucSnLYK",
        "outputId": "a7f092f1-712f-43b4-ef21-d34f93ca3058",
        "colab": {
          "base_uri": "https://localhost:8080/",
          "height": 35
        }
      },
      "source": [
        "10/2 #Point value is known as Float number "
      ],
      "execution_count": 4,
      "outputs": [
        {
          "output_type": "execute_result",
          "data": {
            "text/plain": [
              "5.0"
            ]
          },
          "metadata": {
            "tags": []
          },
          "execution_count": 4
        }
      ]
    },
    {
      "cell_type": "code",
      "metadata": {
        "id": "x9iq_mUynLHR",
        "outputId": "729f7f82-24ee-41af-f3dd-b656a4e4739a",
        "colab": {
          "base_uri": "https://localhost:8080/",
          "height": 35
        }
      },
      "source": [
        "5/2"
      ],
      "execution_count": 5,
      "outputs": [
        {
          "output_type": "execute_result",
          "data": {
            "text/plain": [
              "2.5"
            ]
          },
          "metadata": {
            "tags": []
          },
          "execution_count": 5
        }
      ]
    },
    {
      "cell_type": "code",
      "metadata": {
        "id": "AjgQwuHAnLDP",
        "outputId": "c0fe5726-1074-4fcb-9dab-9d509e0bdf20",
        "colab": {
          "base_uri": "https://localhost:8080/",
          "height": 35
        }
      },
      "source": [
        "#what if we dont want float value ? -- Floor div. or Int Div\n",
        "5//2"
      ],
      "execution_count": 6,
      "outputs": [
        {
          "output_type": "execute_result",
          "data": {
            "text/plain": [
              "2"
            ]
          },
          "metadata": {
            "tags": []
          },
          "execution_count": 6
        }
      ]
    },
    {
      "cell_type": "code",
      "metadata": {
        "id": "YfwOkW8TnLBt",
        "outputId": "c6e79580-d3ca-45a3-ebf2-e7db4ad96877",
        "colab": {
          "base_uri": "https://localhost:8080/",
          "height": 35
        }
      },
      "source": [
        "8+9-10"
      ],
      "execution_count": 7,
      "outputs": [
        {
          "output_type": "execute_result",
          "data": {
            "text/plain": [
              "7"
            ]
          },
          "metadata": {
            "tags": []
          },
          "execution_count": 7
        }
      ]
    },
    {
      "cell_type": "code",
      "metadata": {
        "id": "tI1eTBvVr0wJ",
        "outputId": "4e30f1ad-fbc4-4b34-d246-7dc6a75eb3eb",
        "colab": {
          "base_uri": "https://localhost:8080/",
          "height": 35
        }
      },
      "source": [
        "8+2*3"
      ],
      "execution_count": 8,
      "outputs": [
        {
          "output_type": "execute_result",
          "data": {
            "text/plain": [
              "14"
            ]
          },
          "metadata": {
            "tags": []
          },
          "execution_count": 8
        }
      ]
    },
    {
      "cell_type": "code",
      "metadata": {
        "id": "4BcLfF2Ur6Bt",
        "outputId": "35e43db5-7141-4639-fdfd-228c70dacc22",
        "colab": {
          "base_uri": "https://localhost:8080/",
          "height": 35
        }
      },
      "source": [
        "(8+2)*3 #Remember BODMAS"
      ],
      "execution_count": 9,
      "outputs": [
        {
          "output_type": "execute_result",
          "data": {
            "text/plain": [
              "30"
            ]
          },
          "metadata": {
            "tags": []
          },
          "execution_count": 9
        }
      ]
    },
    {
      "cell_type": "code",
      "metadata": {
        "id": "5pEkRQ14r-eu",
        "outputId": "4d397b01-2ba7-4213-aecb-266f1f1e465d",
        "colab": {
          "base_uri": "https://localhost:8080/",
          "height": 35
        }
      },
      "source": [
        "#Exp values\n",
        "2**3"
      ],
      "execution_count": 10,
      "outputs": [
        {
          "output_type": "execute_result",
          "data": {
            "text/plain": [
              "8"
            ]
          },
          "metadata": {
            "tags": []
          },
          "execution_count": 10
        }
      ]
    },
    {
      "cell_type": "code",
      "metadata": {
        "id": "PKCnWyTcsHDG",
        "outputId": "3f290cd6-769b-409f-b4c1-96dd30d1b3aa",
        "colab": {
          "base_uri": "https://localhost:8080/",
          "height": 35
        }
      },
      "source": [
        "#Modulo - Remainder value is returned\n",
        "10%3"
      ],
      "execution_count": 11,
      "outputs": [
        {
          "output_type": "execute_result",
          "data": {
            "text/plain": [
              "1"
            ]
          },
          "metadata": {
            "tags": []
          },
          "execution_count": 11
        }
      ]
    },
    {
      "cell_type": "code",
      "metadata": {
        "id": "_LwFNpvdsS82",
        "outputId": "c9e47892-a9ec-4eeb-e043-303424c7dc43",
        "colab": {
          "base_uri": "https://localhost:8080/",
          "height": 35
        }
      },
      "source": [
        "15%5"
      ],
      "execution_count": 12,
      "outputs": [
        {
          "output_type": "execute_result",
          "data": {
            "text/plain": [
              "0"
            ]
          },
          "metadata": {
            "tags": []
          },
          "execution_count": 12
        }
      ]
    },
    {
      "cell_type": "markdown",
      "metadata": {
        "id": "cUGUDTSXsoJz"
      },
      "source": [
        "Strings either '' or \"\" "
      ]
    },
    {
      "cell_type": "code",
      "metadata": {
        "id": "FiFPpBwlsVja",
        "outputId": "3eb10380-1fc3-43e0-f956-bd46cc3d523d",
        "colab": {
          "base_uri": "https://localhost:8080/",
          "height": 36
        }
      },
      "source": [
        "'Aashutosh'"
      ],
      "execution_count": 13,
      "outputs": [
        {
          "output_type": "execute_result",
          "data": {
            "application/vnd.google.colaboratory.intrinsic+json": {
              "type": "string"
            },
            "text/plain": [
              "'Aashutosh'"
            ]
          },
          "metadata": {
            "tags": []
          },
          "execution_count": 13
        }
      ]
    },
    {
      "cell_type": "code",
      "metadata": {
        "id": "Wq7yO98Jsshx",
        "outputId": "ff49d56e-11fc-4027-8c67-c727551d3767",
        "colab": {
          "base_uri": "https://localhost:8080/",
          "height": 35
        }
      },
      "source": [
        "print('Aashutosh')"
      ],
      "execution_count": 14,
      "outputs": [
        {
          "output_type": "stream",
          "text": [
            "Aashutosh\n"
          ],
          "name": "stdout"
        }
      ]
    },
    {
      "cell_type": "code",
      "metadata": {
        "id": "JxZLyF_zs4rR",
        "outputId": "b0dbe1ae-749c-4352-c910-d70ad96441d6",
        "colab": {
          "base_uri": "https://localhost:8080/",
          "height": 134
        }
      },
      "source": [
        "'John's Phone'"
      ],
      "execution_count": 15,
      "outputs": [
        {
          "output_type": "error",
          "ename": "SyntaxError",
          "evalue": "ignored",
          "traceback": [
            "\u001b[0;36m  File \u001b[0;32m\"<ipython-input-15-ecd8223ad432>\"\u001b[0;36m, line \u001b[0;32m1\u001b[0m\n\u001b[0;31m    'John's Phone'\u001b[0m\n\u001b[0m          ^\u001b[0m\n\u001b[0;31mSyntaxError\u001b[0m\u001b[0;31m:\u001b[0m invalid syntax\n"
          ]
        }
      ]
    },
    {
      "cell_type": "code",
      "metadata": {
        "id": "R_37aqputXjo"
      },
      "source": [
        "#single quote will have to be chosen wisely -- use \" \" "
      ],
      "execution_count": 16,
      "outputs": []
    },
    {
      "cell_type": "code",
      "metadata": {
        "id": "GoamR4sEtRgI",
        "outputId": "a2be6503-e42b-4fbb-c765-0d96bbbe8790",
        "colab": {
          "base_uri": "https://localhost:8080/",
          "height": 36
        }
      },
      "source": [
        "\"John's Phone\""
      ],
      "execution_count": 17,
      "outputs": [
        {
          "output_type": "execute_result",
          "data": {
            "application/vnd.google.colaboratory.intrinsic+json": {
              "type": "string"
            },
            "text/plain": [
              "\"John's Phone\""
            ]
          },
          "metadata": {
            "tags": []
          },
          "execution_count": 17
        }
      ]
    },
    {
      "cell_type": "code",
      "metadata": {
        "id": "daOYJjbptUM5",
        "outputId": "06df891b-d3fd-4553-973b-548cf1c4f2c6",
        "colab": {
          "base_uri": "https://localhost:8080/",
          "height": 36
        }
      },
      "source": [
        "'John \"Phone\"'"
      ],
      "execution_count": 18,
      "outputs": [
        {
          "output_type": "execute_result",
          "data": {
            "application/vnd.google.colaboratory.intrinsic+json": {
              "type": "string"
            },
            "text/plain": [
              "'John \"Phone\"'"
            ]
          },
          "metadata": {
            "tags": []
          },
          "execution_count": 18
        }
      ]
    },
    {
      "cell_type": "code",
      "metadata": {
        "id": "HSdmkQuUtt7h",
        "outputId": "8df60e6e-cdb9-47b2-b35f-642daf8e02cb",
        "colab": {
          "base_uri": "https://localhost:8080/",
          "height": 134
        }
      },
      "source": [
        "print(John's \"Car\")"
      ],
      "execution_count": 19,
      "outputs": [
        {
          "output_type": "error",
          "ename": "SyntaxError",
          "evalue": "ignored",
          "traceback": [
            "\u001b[0;36m  File \u001b[0;32m\"<ipython-input-19-ed3198477b9c>\"\u001b[0;36m, line \u001b[0;32m1\u001b[0m\n\u001b[0;31m    print(John's \"Car\")\u001b[0m\n\u001b[0m                       ^\u001b[0m\n\u001b[0;31mSyntaxError\u001b[0m\u001b[0;31m:\u001b[0m EOL while scanning string literal\n"
          ]
        }
      ]
    },
    {
      "cell_type": "code",
      "metadata": {
        "id": "bOEE31s7t7Iz",
        "outputId": "13828b78-67a2-4adf-fd11-bc5e0924175d",
        "colab": {
          "base_uri": "https://localhost:8080/",
          "height": 134
        }
      },
      "source": [
        "print('John's \"Car\"')"
      ],
      "execution_count": 20,
      "outputs": [
        {
          "output_type": "error",
          "ename": "SyntaxError",
          "evalue": "ignored",
          "traceback": [
            "\u001b[0;36m  File \u001b[0;32m\"<ipython-input-20-a79751463902>\"\u001b[0;36m, line \u001b[0;32m1\u001b[0m\n\u001b[0;31m    print('John's \"Car\"')\u001b[0m\n\u001b[0m                ^\u001b[0m\n\u001b[0;31mSyntaxError\u001b[0m\u001b[0;31m:\u001b[0m invalid syntax\n"
          ]
        }
      ]
    },
    {
      "cell_type": "code",
      "metadata": {
        "id": "03Lqjxx0r1Rb"
      },
      "source": [
        "# Use \\ to eradicate the meaning of that apostrophe S"
      ],
      "execution_count": 21,
      "outputs": []
    },
    {
      "cell_type": "code",
      "metadata": {
        "id": "iHgc9nDDtdn5",
        "outputId": "8e1cecff-49dd-4325-d976-6a691ff5544c",
        "colab": {
          "base_uri": "https://localhost:8080/",
          "height": 35
        }
      },
      "source": [
        "print('John \\'s \"Car\"')"
      ],
      "execution_count": 22,
      "outputs": [
        {
          "output_type": "stream",
          "text": [
            "John 's \"Car\"\n"
          ],
          "name": "stdout"
        }
      ]
    },
    {
      "cell_type": "code",
      "metadata": {
        "id": "3GsE4ytktiZY"
      },
      "source": [
        "#Concatenation"
      ],
      "execution_count": 23,
      "outputs": []
    },
    {
      "cell_type": "code",
      "metadata": {
        "id": "0Isu84PpuRdY",
        "outputId": "177957b5-9f72-407f-9366-5af0cf178850",
        "colab": {
          "base_uri": "https://localhost:8080/",
          "height": 36
        }
      },
      "source": [
        "'aashutosh' + 'aashutosh'"
      ],
      "execution_count": 24,
      "outputs": [
        {
          "output_type": "execute_result",
          "data": {
            "application/vnd.google.colaboratory.intrinsic+json": {
              "type": "string"
            },
            "text/plain": [
              "'aashutoshaashutosh'"
            ]
          },
          "metadata": {
            "tags": []
          },
          "execution_count": 24
        }
      ]
    },
    {
      "cell_type": "code",
      "metadata": {
        "id": "2i_nQE0euRcB",
        "outputId": "69f917e2-2204-4fa3-8e4a-4d8f4759f084",
        "colab": {
          "base_uri": "https://localhost:8080/",
          "height": 36
        }
      },
      "source": [
        "10*'aashutosh'"
      ],
      "execution_count": 25,
      "outputs": [
        {
          "output_type": "execute_result",
          "data": {
            "application/vnd.google.colaboratory.intrinsic+json": {
              "type": "string"
            },
            "text/plain": [
              "'aashutoshaashutoshaashutoshaashutoshaashutoshaashutoshaashutoshaashutoshaashutoshaashutosh'"
            ]
          },
          "metadata": {
            "tags": []
          },
          "execution_count": 25
        }
      ]
    },
    {
      "cell_type": "code",
      "metadata": {
        "id": "ThZrslGsuhGC"
      },
      "source": [
        "# \\n means new line -- r can be used to remove the effect of \\n "
      ],
      "execution_count": 26,
      "outputs": []
    },
    {
      "cell_type": "markdown",
      "metadata": {
        "id": "I8LdvZ0DvP2n"
      },
      "source": [
        "Quiz! What are the differences b/w Jupyter Notebook and Colaboratory? "
      ]
    },
    {
      "cell_type": "code",
      "metadata": {
        "id": "gHfpGGXEvSYA"
      },
      "source": [
        "#Variables -- Container where we put our values, Values stored in a variable can be changed as well!"
      ],
      "execution_count": 27,
      "outputs": []
    },
    {
      "cell_type": "code",
      "metadata": {
        "id": "M39XuwqCvYao"
      },
      "source": [
        "x = 2 #assignment operation "
      ],
      "execution_count": 28,
      "outputs": []
    },
    {
      "cell_type": "code",
      "metadata": {
        "id": "Ffw0HZFPvYPL",
        "outputId": "84ff9952-db14-45c6-f9be-48adf36e7d6f",
        "colab": {
          "base_uri": "https://localhost:8080/",
          "height": 35
        }
      },
      "source": [
        "x+3"
      ],
      "execution_count": 29,
      "outputs": [
        {
          "output_type": "execute_result",
          "data": {
            "text/plain": [
              "5"
            ]
          },
          "metadata": {
            "tags": []
          },
          "execution_count": 29
        }
      ]
    },
    {
      "cell_type": "code",
      "metadata": {
        "id": "YqJSEg6mvYK8"
      },
      "source": [
        "y=12"
      ],
      "execution_count": 30,
      "outputs": []
    },
    {
      "cell_type": "code",
      "metadata": {
        "id": "HryQP9NZvYJ6",
        "outputId": "b4b9e54a-7a24-4bad-d2a8-6036dfacf7f8",
        "colab": {
          "base_uri": "https://localhost:8080/",
          "height": 35
        }
      },
      "source": [
        "x+y"
      ],
      "execution_count": 31,
      "outputs": [
        {
          "output_type": "execute_result",
          "data": {
            "text/plain": [
              "14"
            ]
          },
          "metadata": {
            "tags": []
          },
          "execution_count": 31
        }
      ]
    },
    {
      "cell_type": "code",
      "metadata": {
        "id": "bIA719f7vvEW"
      },
      "source": [
        "x=13"
      ],
      "execution_count": 32,
      "outputs": []
    },
    {
      "cell_type": "code",
      "metadata": {
        "id": "xM82VqgPv80O",
        "outputId": "a0c5ab66-b326-4182-d3f5-fecdc812b906",
        "colab": {
          "base_uri": "https://localhost:8080/",
          "height": 35
        }
      },
      "source": [
        "x+y"
      ],
      "execution_count": 33,
      "outputs": [
        {
          "output_type": "execute_result",
          "data": {
            "text/plain": [
              "25"
            ]
          },
          "metadata": {
            "tags": []
          },
          "execution_count": 33
        }
      ]
    },
    {
      "cell_type": "code",
      "metadata": {
        "id": "oyYghxs9wdnq",
        "outputId": "86778730-5001-4302-8aa9-1f32ef8d3674",
        "colab": {
          "base_uri": "https://localhost:8080/",
          "height": 35
        }
      },
      "source": [
        "x+10"
      ],
      "execution_count": 34,
      "outputs": [
        {
          "output_type": "execute_result",
          "data": {
            "text/plain": [
              "23"
            ]
          },
          "metadata": {
            "tags": []
          },
          "execution_count": 34
        }
      ]
    },
    {
      "cell_type": "code",
      "metadata": {
        "id": "RC1LduJ8wdbx"
      },
      "source": [
        "# if we need to use the o/p from last time step and do some operation then we can use \"_\""
      ],
      "execution_count": 35,
      "outputs": []
    },
    {
      "cell_type": "code",
      "metadata": {
        "id": "6Wv4xPcewujw",
        "outputId": "00c56996-999d-4bae-9b4f-6ead17cb195c",
        "colab": {
          "base_uri": "https://localhost:8080/",
          "height": 35
        }
      },
      "source": [
        "_+y"
      ],
      "execution_count": 36,
      "outputs": [
        {
          "output_type": "execute_result",
          "data": {
            "text/plain": [
              "35"
            ]
          },
          "metadata": {
            "tags": []
          },
          "execution_count": 36
        }
      ]
    },
    {
      "cell_type": "code",
      "metadata": {
        "id": "uLhinnIkwL2Q",
        "outputId": "dd3dd933-9d17-4418-b4a4-dc6daf352f88",
        "colab": {
          "base_uri": "https://localhost:8080/",
          "height": 171
        }
      },
      "source": [
        "z"
      ],
      "execution_count": 37,
      "outputs": [
        {
          "output_type": "error",
          "ename": "NameError",
          "evalue": "ignored",
          "traceback": [
            "\u001b[0;31m---------------------------------------------------------------------------\u001b[0m",
            "\u001b[0;31mNameError\u001b[0m                                 Traceback (most recent call last)",
            "\u001b[0;32m<ipython-input-37-3a710d2a84f8>\u001b[0m in \u001b[0;36m<module>\u001b[0;34m()\u001b[0m\n\u001b[0;32m----> 1\u001b[0;31m \u001b[0mz\u001b[0m\u001b[0;34m\u001b[0m\u001b[0;34m\u001b[0m\u001b[0m\n\u001b[0m",
            "\u001b[0;31mNameError\u001b[0m: name 'z' is not defined"
          ]
        }
      ]
    },
    {
      "cell_type": "markdown",
      "metadata": {
        "id": "am4jgnFVwFNv"
      },
      "source": [
        "We need not define the type of variable in Python\n",
        "\n",
        "\n"
      ]
    },
    {
      "cell_type": "code",
      "metadata": {
        "id": "d0jgyzZcv_Ru"
      },
      "source": [
        "name=\"machine learning\""
      ],
      "execution_count": 38,
      "outputs": []
    },
    {
      "cell_type": "code",
      "metadata": {
        "id": "E7-U0Wkrw92K",
        "outputId": "f50fefb8-a443-4c6f-8fb0-04da6b2ec7f5",
        "colab": {
          "base_uri": "https://localhost:8080/",
          "height": 36
        }
      },
      "source": [
        "name + 'Deep learning'"
      ],
      "execution_count": 39,
      "outputs": [
        {
          "output_type": "execute_result",
          "data": {
            "application/vnd.google.colaboratory.intrinsic+json": {
              "type": "string"
            },
            "text/plain": [
              "'machine learningDeep learning'"
            ]
          },
          "metadata": {
            "tags": []
          },
          "execution_count": 39
        }
      ]
    },
    {
      "cell_type": "markdown",
      "metadata": {
        "id": "9yT-fEZ4x0l8"
      },
      "source": [
        "Index and Slicing"
      ]
    },
    {
      "cell_type": "markdown",
      "metadata": {
        "id": "ZznLwTmSxoMB"
      },
      "source": [
        "![python-list-index.png](data:image/png;base64,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)"
      ]
    },
    {
      "cell_type": "code",
      "metadata": {
        "id": "2ItHrE3qx5Hx",
        "outputId": "7584459e-0397-4d69-e471-6af5ff1f0d49",
        "colab": {
          "base_uri": "https://localhost:8080/",
          "height": 36
        }
      },
      "source": [
        "name"
      ],
      "execution_count": 40,
      "outputs": [
        {
          "output_type": "execute_result",
          "data": {
            "application/vnd.google.colaboratory.intrinsic+json": {
              "type": "string"
            },
            "text/plain": [
              "'machine learning'"
            ]
          },
          "metadata": {
            "tags": []
          },
          "execution_count": 40
        }
      ]
    },
    {
      "cell_type": "code",
      "metadata": {
        "id": "uTYUni5oxGQ8",
        "outputId": "b8c844c5-39ff-4178-8745-c4039da14a7c",
        "colab": {
          "base_uri": "https://localhost:8080/",
          "height": 36
        }
      },
      "source": [
        "name[2]"
      ],
      "execution_count": 41,
      "outputs": [
        {
          "output_type": "execute_result",
          "data": {
            "application/vnd.google.colaboratory.intrinsic+json": {
              "type": "string"
            },
            "text/plain": [
              "'c'"
            ]
          },
          "metadata": {
            "tags": []
          },
          "execution_count": 41
        }
      ]
    },
    {
      "cell_type": "code",
      "metadata": {
        "id": "c7RG2HKexQOt",
        "outputId": "6c3eae29-f42e-441a-9259-b21624fd27b5",
        "colab": {
          "base_uri": "https://localhost:8080/",
          "height": 36
        }
      },
      "source": [
        "name[-5]"
      ],
      "execution_count": 42,
      "outputs": [
        {
          "output_type": "execute_result",
          "data": {
            "application/vnd.google.colaboratory.intrinsic+json": {
              "type": "string"
            },
            "text/plain": [
              "'r'"
            ]
          },
          "metadata": {
            "tags": []
          },
          "execution_count": 42
        }
      ]
    },
    {
      "cell_type": "code",
      "metadata": {
        "id": "v4uDIe2Lx7iy",
        "outputId": "4e8e80d4-8273-4884-c2f3-ef0273955c2c",
        "colab": {
          "base_uri": "https://localhost:8080/",
          "height": 36
        }
      },
      "source": [
        "name[-7]"
      ],
      "execution_count": 43,
      "outputs": [
        {
          "output_type": "execute_result",
          "data": {
            "application/vnd.google.colaboratory.intrinsic+json": {
              "type": "string"
            },
            "text/plain": [
              "'e'"
            ]
          },
          "metadata": {
            "tags": []
          },
          "execution_count": 43
        }
      ]
    },
    {
      "cell_type": "code",
      "metadata": {
        "id": "lAn-kvpzyHMd",
        "outputId": "309343ac-225d-4a6b-bcfe-6b9918b3c127",
        "colab": {
          "base_uri": "https://localhost:8080/",
          "height": 36
        }
      },
      "source": [
        "name[0:2] #first 2 charecters - exclusive of 2"
      ],
      "execution_count": 44,
      "outputs": [
        {
          "output_type": "execute_result",
          "data": {
            "application/vnd.google.colaboratory.intrinsic+json": {
              "type": "string"
            },
            "text/plain": [
              "'ma'"
            ]
          },
          "metadata": {
            "tags": []
          },
          "execution_count": 44
        }
      ]
    },
    {
      "cell_type": "code",
      "metadata": {
        "id": "puShBsZpyOOs",
        "outputId": "c06c96d7-2bd9-4228-b491-e3c7aa07186e",
        "colab": {
          "base_uri": "https://localhost:8080/",
          "height": 36
        }
      },
      "source": [
        "name[1:4] # exclusive of 4"
      ],
      "execution_count": 45,
      "outputs": [
        {
          "output_type": "execute_result",
          "data": {
            "application/vnd.google.colaboratory.intrinsic+json": {
              "type": "string"
            },
            "text/plain": [
              "'ach'"
            ]
          },
          "metadata": {
            "tags": []
          },
          "execution_count": 45
        }
      ]
    },
    {
      "cell_type": "code",
      "metadata": {
        "id": "XMC2hnYuySF4",
        "outputId": "0f583f73-6e62-460a-b96e-0923fec12580",
        "colab": {
          "base_uri": "https://localhost:8080/",
          "height": 36
        }
      },
      "source": [
        "name[1:]"
      ],
      "execution_count": 46,
      "outputs": [
        {
          "output_type": "execute_result",
          "data": {
            "application/vnd.google.colaboratory.intrinsic+json": {
              "type": "string"
            },
            "text/plain": [
              "'achine learning'"
            ]
          },
          "metadata": {
            "tags": []
          },
          "execution_count": 46
        }
      ]
    },
    {
      "cell_type": "code",
      "metadata": {
        "id": "OUyXIOdZyZuZ",
        "outputId": "64865c02-f533-4417-c394-e5b4cd48dcce",
        "colab": {
          "base_uri": "https://localhost:8080/",
          "height": 36
        }
      },
      "source": [
        "name[:7]"
      ],
      "execution_count": 47,
      "outputs": [
        {
          "output_type": "execute_result",
          "data": {
            "application/vnd.google.colaboratory.intrinsic+json": {
              "type": "string"
            },
            "text/plain": [
              "'machine'"
            ]
          },
          "metadata": {
            "tags": []
          },
          "execution_count": 47
        }
      ]
    },
    {
      "cell_type": "code",
      "metadata": {
        "id": "xvCWfqoAyb-L",
        "outputId": "6d5e5310-48d7-4514-c963-16c277606ac6",
        "colab": {
          "base_uri": "https://localhost:8080/",
          "height": 36
        }
      },
      "source": [
        "name[:20]"
      ],
      "execution_count": 48,
      "outputs": [
        {
          "output_type": "execute_result",
          "data": {
            "application/vnd.google.colaboratory.intrinsic+json": {
              "type": "string"
            },
            "text/plain": [
              "'machine learning'"
            ]
          },
          "metadata": {
            "tags": []
          },
          "execution_count": 48
        }
      ]
    },
    {
      "cell_type": "code",
      "metadata": {
        "id": "2x6GOzT3yhay"
      },
      "source": [
        "#string in python are immutable which means that the value once assigned to the string cannot be changed"
      ],
      "execution_count": 49,
      "outputs": []
    },
    {
      "cell_type": "code",
      "metadata": {
        "id": "WkBi2kAjy12y",
        "outputId": "a940539d-30a7-40eb-84d1-6abd6a0f284c",
        "colab": {
          "base_uri": "https://localhost:8080/",
          "height": 171
        }
      },
      "source": [
        "name[0]='a'"
      ],
      "execution_count": 51,
      "outputs": [
        {
          "output_type": "error",
          "ename": "TypeError",
          "evalue": "ignored",
          "traceback": [
            "\u001b[0;31m---------------------------------------------------------------------------\u001b[0m",
            "\u001b[0;31mTypeError\u001b[0m                                 Traceback (most recent call last)",
            "\u001b[0;32m<ipython-input-51-b1d230bd018e>\u001b[0m in \u001b[0;36m<module>\u001b[0;34m()\u001b[0m\n\u001b[0;32m----> 1\u001b[0;31m \u001b[0mname\u001b[0m\u001b[0;34m[\u001b[0m\u001b[0;36m0\u001b[0m\u001b[0;34m]\u001b[0m\u001b[0;34m=\u001b[0m\u001b[0;34m'a'\u001b[0m\u001b[0;34m\u001b[0m\u001b[0;34m\u001b[0m\u001b[0m\n\u001b[0m",
            "\u001b[0;31mTypeError\u001b[0m: 'str' object does not support item assignment"
          ]
        }
      ]
    },
    {
      "cell_type": "code",
      "metadata": {
        "id": "5DWUs1SirSia",
        "outputId": "d0529977-1d83-4228-d666-b6abe471a5cd",
        "colab": {
          "base_uri": "https://localhost:8080/",
          "height": 36
        }
      },
      "source": [
        "'book ' + 'on ' + name[0:]"
      ],
      "execution_count": 54,
      "outputs": [
        {
          "output_type": "execute_result",
          "data": {
            "application/vnd.google.colaboratory.intrinsic+json": {
              "type": "string"
            },
            "text/plain": [
              "'book on machine learning'"
            ]
          },
          "metadata": {
            "tags": []
          },
          "execution_count": 54
        }
      ]
    },
    {
      "cell_type": "code",
      "metadata": {
        "id": "z7D9bulVriuT",
        "outputId": "90f5e640-6589-42cd-9da9-bbf1d8208461",
        "colab": {
          "base_uri": "https://localhost:8080/",
          "height": 35
        }
      },
      "source": [
        "len(name)"
      ],
      "execution_count": 55,
      "outputs": [
        {
          "output_type": "execute_result",
          "data": {
            "text/plain": [
              "16"
            ]
          },
          "metadata": {
            "tags": []
          },
          "execution_count": 55
        }
      ]
    },
    {
      "cell_type": "markdown",
      "metadata": {
        "id": "TPdjui7jr1j_"
      },
      "source": [
        "Quiz! What will be the output of : print(r'GDC \\n GITA')"
      ]
    },
    {
      "cell_type": "code",
      "metadata": {
        "id": "Kenf8fJCsQcm"
      },
      "source": [
        "#lists - can assign multiple values -- [] needed "
      ],
      "execution_count": 64,
      "outputs": []
    },
    {
      "cell_type": "code",
      "metadata": {
        "id": "r7k3hxkBsvXu"
      },
      "source": [
        "num=[23,45,55,78,90]"
      ],
      "execution_count": 72,
      "outputs": []
    },
    {
      "cell_type": "code",
      "metadata": {
        "id": "SBL4582btCfF",
        "outputId": "ef09dc61-d112-4541-9ccf-3bf4b7854258",
        "colab": {
          "base_uri": "https://localhost:8080/",
          "height": 35
        }
      },
      "source": [
        "print(num)"
      ],
      "execution_count": 73,
      "outputs": [
        {
          "output_type": "stream",
          "text": [
            "[23, 45, 55, 78, 90]\n"
          ],
          "name": "stdout"
        }
      ]
    },
    {
      "cell_type": "code",
      "metadata": {
        "id": "leXy7fBttEKq"
      },
      "source": [
        "#strings are collection of characters and we can pick up ind. value using index values, similarly we can do the same thing with Lists as well"
      ],
      "execution_count": 74,
      "outputs": []
    },
    {
      "cell_type": "code",
      "metadata": {
        "id": "B_M5Tef6tNnI",
        "outputId": "d2ba861f-fcb5-4125-db46-1ee636dcb619",
        "colab": {
          "base_uri": "https://localhost:8080/",
          "height": 35
        }
      },
      "source": [
        "num[2]"
      ],
      "execution_count": 75,
      "outputs": [
        {
          "output_type": "execute_result",
          "data": {
            "text/plain": [
              "55"
            ]
          },
          "metadata": {
            "tags": []
          },
          "execution_count": 75
        }
      ]
    },
    {
      "cell_type": "code",
      "metadata": {
        "id": "sTlqhwgytVRK",
        "outputId": "b6cdb16c-ce1c-43a8-a1ed-bf7a34cf4f63",
        "colab": {
          "base_uri": "https://localhost:8080/",
          "height": 35
        }
      },
      "source": [
        "num[4]"
      ],
      "execution_count": 76,
      "outputs": [
        {
          "output_type": "execute_result",
          "data": {
            "text/plain": [
              "90"
            ]
          },
          "metadata": {
            "tags": []
          },
          "execution_count": 76
        }
      ]
    },
    {
      "cell_type": "code",
      "metadata": {
        "id": "Q7o5kqnEtXsU",
        "outputId": "d67c50bd-f03f-4fe5-b0ef-c3b9abd8a9e6",
        "colab": {
          "base_uri": "https://localhost:8080/",
          "height": 35
        }
      },
      "source": [
        "num[2:]"
      ],
      "execution_count": 77,
      "outputs": [
        {
          "output_type": "execute_result",
          "data": {
            "text/plain": [
              "[55, 78, 90]"
            ]
          },
          "metadata": {
            "tags": []
          },
          "execution_count": 77
        }
      ]
    },
    {
      "cell_type": "code",
      "metadata": {
        "id": "xQIXbvLltrjb",
        "outputId": "1c7e4ed2-df45-4060-c614-c85636a20030",
        "colab": {
          "base_uri": "https://localhost:8080/",
          "height": 35
        }
      },
      "source": [
        "num[-2]"
      ],
      "execution_count": 78,
      "outputs": [
        {
          "output_type": "execute_result",
          "data": {
            "text/plain": [
              "78"
            ]
          },
          "metadata": {
            "tags": []
          },
          "execution_count": 78
        }
      ]
    },
    {
      "cell_type": "code",
      "metadata": {
        "id": "wTNOqzKUtvtR",
        "outputId": "87752e22-f659-4ddc-fff1-d45631914564",
        "colab": {
          "base_uri": "https://localhost:8080/",
          "height": 35
        }
      },
      "source": [
        "num[-4]"
      ],
      "execution_count": 79,
      "outputs": [
        {
          "output_type": "execute_result",
          "data": {
            "text/plain": [
              "45"
            ]
          },
          "metadata": {
            "tags": []
          },
          "execution_count": 79
        }
      ]
    },
    {
      "cell_type": "code",
      "metadata": {
        "id": "Y1p-pnSStyRV"
      },
      "source": [
        "Country=['India', 'USA', 'Russia']"
      ],
      "execution_count": 81,
      "outputs": []
    },
    {
      "cell_type": "code",
      "metadata": {
        "id": "oipq_DiXt5x9"
      },
      "source": [
        "#we can have different types of values in Lists"
      ],
      "execution_count": 82,
      "outputs": []
    },
    {
      "cell_type": "code",
      "metadata": {
        "id": "g8fTwyJZuHWA"
      },
      "source": [
        "list=[3.5, 5, 'Aashutosh']"
      ],
      "execution_count": 83,
      "outputs": []
    },
    {
      "cell_type": "code",
      "metadata": {
        "id": "nbGaVvkDuTEB"
      },
      "source": [
        "list2=[num, Country]"
      ],
      "execution_count": 84,
      "outputs": []
    },
    {
      "cell_type": "code",
      "metadata": {
        "id": "V0CyIo6puayp",
        "outputId": "50858638-96e8-418e-e1b4-cb57117885e9",
        "colab": {
          "base_uri": "https://localhost:8080/",
          "height": 35
        }
      },
      "source": [
        "list2 # list of lists"
      ],
      "execution_count": 86,
      "outputs": [
        {
          "output_type": "execute_result",
          "data": {
            "text/plain": [
              "[[23, 45, 55, 78, 90], ['India', 'USA', 'Russia']]"
            ]
          },
          "metadata": {
            "tags": []
          },
          "execution_count": 86
        }
      ]
    },
    {
      "cell_type": "code",
      "metadata": {
        "id": "Z7vgc6DSucn4"
      },
      "source": [
        "# Lists are mutable -- we can change the values"
      ],
      "execution_count": 87,
      "outputs": []
    },
    {
      "cell_type": "code",
      "metadata": {
        "id": "vQt1aWg-uqD3"
      },
      "source": [
        "list.append(500)# the appended value will be reflected at the end and incase of Insert, it will insert the value in between"
      ],
      "execution_count": 90,
      "outputs": []
    },
    {
      "cell_type": "code",
      "metadata": {
        "id": "MUksCPw8u0FR",
        "outputId": "da0b4ca8-ad0a-4e5f-c52f-c585e1242a4f",
        "colab": {
          "base_uri": "https://localhost:8080/",
          "height": 35
        }
      },
      "source": [
        "list"
      ],
      "execution_count": 91,
      "outputs": [
        {
          "output_type": "execute_result",
          "data": {
            "text/plain": [
              "[3.5, 5, 'Aashutosh', 500, 500]"
            ]
          },
          "metadata": {
            "tags": []
          },
          "execution_count": 91
        }
      ]
    },
    {
      "cell_type": "code",
      "metadata": {
        "id": "XaJYx22bu1Fn"
      },
      "source": [
        "list.insert(2,'Data Science') #incase of Insert we need to specify the index value as well"
      ],
      "execution_count": 95,
      "outputs": []
    },
    {
      "cell_type": "code",
      "metadata": {
        "id": "etEUdlFLvKcp",
        "outputId": "96ecc018-7cf9-4fc6-fbfb-d65994492de9",
        "colab": {
          "base_uri": "https://localhost:8080/",
          "height": 35
        }
      },
      "source": [
        "list"
      ],
      "execution_count": 94,
      "outputs": [
        {
          "output_type": "execute_result",
          "data": {
            "text/plain": [
              "[3.5, 5, 'Data Science', 'Aashutosh', 500, 500]"
            ]
          },
          "metadata": {
            "tags": []
          },
          "execution_count": 94
        }
      ]
    },
    {
      "cell_type": "code",
      "metadata": {
        "id": "Lb-NOp3rvQPV"
      },
      "source": [
        "list.remove('Aashutosh')"
      ],
      "execution_count": 98,
      "outputs": []
    },
    {
      "cell_type": "code",
      "metadata": {
        "id": "RU01JU3qvbpe",
        "outputId": "d03581ce-49af-49c0-d78b-e2866fc1c036",
        "colab": {
          "base_uri": "https://localhost:8080/",
          "height": 35
        }
      },
      "source": [
        "list #first occurance of 'Aashutosh' will be removed"
      ],
      "execution_count": 100,
      "outputs": [
        {
          "output_type": "execute_result",
          "data": {
            "text/plain": [
              "[3.5, 5, 'Data Science', 500, 500]"
            ]
          },
          "metadata": {
            "tags": []
          },
          "execution_count": 100
        }
      ]
    },
    {
      "cell_type": "code",
      "metadata": {
        "id": "lqHv7MWIvcgm"
      },
      "source": [
        "#if we need to remove a value based on the index value then we can use Pop method"
      ],
      "execution_count": 101,
      "outputs": []
    },
    {
      "cell_type": "code",
      "metadata": {
        "id": "_JyMjkdUwA2J",
        "outputId": "35a076b8-d377-4a3f-a90c-9838e93dbddc",
        "colab": {
          "base_uri": "https://localhost:8080/",
          "height": 35
        }
      },
      "source": [
        "list.pop(3)"
      ],
      "execution_count": 102,
      "outputs": [
        {
          "output_type": "execute_result",
          "data": {
            "text/plain": [
              "500"
            ]
          },
          "metadata": {
            "tags": []
          },
          "execution_count": 102
        }
      ]
    },
    {
      "cell_type": "code",
      "metadata": {
        "id": "0P-vVc0twGG3",
        "outputId": "d3d8be08-71f8-46e5-cca6-de1b233fffa2",
        "colab": {
          "base_uri": "https://localhost:8080/",
          "height": 35
        }
      },
      "source": [
        "list"
      ],
      "execution_count": 103,
      "outputs": [
        {
          "output_type": "execute_result",
          "data": {
            "text/plain": [
              "[3.5, 5, 'Data Science', 500]"
            ]
          },
          "metadata": {
            "tags": []
          },
          "execution_count": 103
        }
      ]
    },
    {
      "cell_type": "markdown",
      "metadata": {
        "id": "0asNW9nBwozv"
      },
      "source": [
        "![stack_pop_operation.jpg](data:image/jpeg;base64,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)"
      ]
    },
    {
      "cell_type": "markdown",
      "metadata": {
        "id": "K_XTzfgpwonr"
      },
      "source": [
        "![stack_push_operation.jpg](data:image/jpeg;base64,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)"
      ]
    },
    {
      "cell_type": "code",
      "metadata": {
        "id": "Hglh0K1NwG76"
      },
      "source": [
        "#Stack - L.I.F.O"
      ],
      "execution_count": 104,
      "outputs": []
    },
    {
      "cell_type": "code",
      "metadata": {
        "id": "Byixf-uixDY2",
        "outputId": "bf1b47e4-c266-47ab-9133-1f033821cb63",
        "colab": {
          "base_uri": "https://localhost:8080/",
          "height": 35
        }
      },
      "source": [
        "list.pop()"
      ],
      "execution_count": 105,
      "outputs": [
        {
          "output_type": "execute_result",
          "data": {
            "text/plain": [
              "500"
            ]
          },
          "metadata": {
            "tags": []
          },
          "execution_count": 105
        }
      ]
    },
    {
      "cell_type": "code",
      "metadata": {
        "id": "Y00BEc7wxITZ",
        "outputId": "d1eb6f1b-3b4b-4b0e-85b5-fc504c7a0059",
        "colab": {
          "base_uri": "https://localhost:8080/",
          "height": 35
        }
      },
      "source": [
        "list"
      ],
      "execution_count": 106,
      "outputs": [
        {
          "output_type": "execute_result",
          "data": {
            "text/plain": [
              "[3.5, 5, 'Data Science']"
            ]
          },
          "metadata": {
            "tags": []
          },
          "execution_count": 106
        }
      ]
    },
    {
      "cell_type": "code",
      "metadata": {
        "id": "aIZRCSbcxJL1"
      },
      "source": [
        "del list[2:]"
      ],
      "execution_count": 107,
      "outputs": []
    },
    {
      "cell_type": "code",
      "metadata": {
        "id": "o59fThPaxNrZ",
        "outputId": "616fa4b7-f4a8-4cce-bc7c-d927664980cf",
        "colab": {
          "base_uri": "https://localhost:8080/",
          "height": 35
        }
      },
      "source": [
        "list"
      ],
      "execution_count": 108,
      "outputs": [
        {
          "output_type": "execute_result",
          "data": {
            "text/plain": [
              "[3.5, 5]"
            ]
          },
          "metadata": {
            "tags": []
          },
          "execution_count": 108
        }
      ]
    },
    {
      "cell_type": "code",
      "metadata": {
        "id": "F4MzkF4DxObJ"
      },
      "source": [
        "list.extend([23,66, 'AI'])"
      ],
      "execution_count": 109,
      "outputs": []
    },
    {
      "cell_type": "code",
      "metadata": {
        "id": "PoMnw__zxijr",
        "outputId": "429b21b0-f640-426f-c7a0-6b6924830ff2",
        "colab": {
          "base_uri": "https://localhost:8080/",
          "height": 35
        }
      },
      "source": [
        "list"
      ],
      "execution_count": 110,
      "outputs": [
        {
          "output_type": "execute_result",
          "data": {
            "text/plain": [
              "[3.5, 5, 23, 66, 'AI']"
            ]
          },
          "metadata": {
            "tags": []
          },
          "execution_count": 110
        }
      ]
    },
    {
      "cell_type": "code",
      "metadata": {
        "id": "BYurCg0IxjRZ",
        "outputId": "5b0895f6-6aea-4222-f73a-ea1b24b082af",
        "colab": {
          "base_uri": "https://localhost:8080/",
          "height": 35
        }
      },
      "source": [
        "list2"
      ],
      "execution_count": 111,
      "outputs": [
        {
          "output_type": "execute_result",
          "data": {
            "text/plain": [
              "[[23, 45, 55, 78, 90], ['India', 'USA', 'Russia']]"
            ]
          },
          "metadata": {
            "tags": []
          },
          "execution_count": 111
        }
      ]
    },
    {
      "cell_type": "code",
      "metadata": {
        "id": "1IR1Ref4xl7c"
      },
      "source": [
        "list3=[23,45,68,12,90,35]"
      ],
      "execution_count": 112,
      "outputs": []
    },
    {
      "cell_type": "code",
      "metadata": {
        "id": "Cy5ne7Bgyo5v"
      },
      "source": [
        "list3.sort()"
      ],
      "execution_count": 117,
      "outputs": []
    },
    {
      "cell_type": "code",
      "metadata": {
        "id": "-lA3_IPvytS1",
        "outputId": "9ccbc5d8-4369-44ba-f67f-ede296df78c5",
        "colab": {
          "base_uri": "https://localhost:8080/",
          "height": 35
        }
      },
      "source": [
        "list3"
      ],
      "execution_count": 120,
      "outputs": [
        {
          "output_type": "execute_result",
          "data": {
            "text/plain": [
              "[12, 23, 35, 45, 68, 90]"
            ]
          },
          "metadata": {
            "tags": []
          },
          "execution_count": 120
        }
      ]
    },
    {
      "cell_type": "code",
      "metadata": {
        "id": "KDjTla-PxrlN",
        "outputId": "309c1d5c-7352-49e8-b702-8090ef6004ac",
        "colab": {
          "base_uri": "https://localhost:8080/",
          "height": 35
        }
      },
      "source": [
        "min(list3)"
      ],
      "execution_count": 121,
      "outputs": [
        {
          "output_type": "execute_result",
          "data": {
            "text/plain": [
              "12"
            ]
          },
          "metadata": {
            "tags": []
          },
          "execution_count": 121
        }
      ]
    },
    {
      "cell_type": "code",
      "metadata": {
        "id": "QPHezEN8yejJ",
        "outputId": "f1deb13a-1ba3-4cc0-8000-653841279561",
        "colab": {
          "base_uri": "https://localhost:8080/",
          "height": 35
        }
      },
      "source": [
        "max(list3)"
      ],
      "execution_count": 122,
      "outputs": [
        {
          "output_type": "execute_result",
          "data": {
            "text/plain": [
              "90"
            ]
          },
          "metadata": {
            "tags": []
          },
          "execution_count": 122
        }
      ]
    },
    {
      "cell_type": "code",
      "metadata": {
        "id": "pNE5ahJDyknJ",
        "outputId": "04b9c1cd-fc47-442b-fb98-9e444c4d2c03",
        "colab": {
          "base_uri": "https://localhost:8080/",
          "height": 35
        }
      },
      "source": [
        "sum(list3)"
      ],
      "execution_count": 123,
      "outputs": [
        {
          "output_type": "execute_result",
          "data": {
            "text/plain": [
              "273"
            ]
          },
          "metadata": {
            "tags": []
          },
          "execution_count": 123
        }
      ]
    },
    {
      "cell_type": "markdown",
      "metadata": {
        "id": "fgGx5qGUy8XL"
      },
      "source": [
        "Quiz! name=\"Bugatti Chiron\" :print(name[-6:])"
      ]
    },
    {
      "cell_type": "code",
      "metadata": {
        "id": "BmmBf_YtzdFa"
      },
      "source": [
        "#Tuples and Sets"
      ],
      "execution_count": 128,
      "outputs": []
    },
    {
      "cell_type": "code",
      "metadata": {
        "id": "5RFRtdKDzvrj"
      },
      "source": [
        "#tuples are similar to lists but it is immutable"
      ],
      "execution_count": 129,
      "outputs": []
    },
    {
      "cell_type": "code",
      "metadata": {
        "id": "SmTEwCgK2zkr"
      },
      "source": [
        "tup=(21,12,32,23)"
      ],
      "execution_count": 130,
      "outputs": []
    },
    {
      "cell_type": "code",
      "metadata": {
        "id": "RKnqwpL82577",
        "outputId": "6c7a65ac-c312-4d1c-c98b-1d7449e00c76",
        "colab": {
          "base_uri": "https://localhost:8080/",
          "height": 35
        }
      },
      "source": [
        "tup[1]"
      ],
      "execution_count": 131,
      "outputs": [
        {
          "output_type": "execute_result",
          "data": {
            "text/plain": [
              "12"
            ]
          },
          "metadata": {
            "tags": []
          },
          "execution_count": 131
        }
      ]
    },
    {
      "cell_type": "code",
      "metadata": {
        "id": "78suDoh429rb",
        "outputId": "66120eb6-6c53-49cc-b3b4-79c923dd996e",
        "colab": {
          "base_uri": "https://localhost:8080/",
          "height": 171
        }
      },
      "source": [
        "tup[1]=25"
      ],
      "execution_count": 132,
      "outputs": [
        {
          "output_type": "error",
          "ename": "TypeError",
          "evalue": "ignored",
          "traceback": [
            "\u001b[0;31m---------------------------------------------------------------------------\u001b[0m",
            "\u001b[0;31mTypeError\u001b[0m                                 Traceback (most recent call last)",
            "\u001b[0;32m<ipython-input-132-8f1ddc1b0c4c>\u001b[0m in \u001b[0;36m<module>\u001b[0;34m()\u001b[0m\n\u001b[0;32m----> 1\u001b[0;31m \u001b[0mtup\u001b[0m\u001b[0;34m[\u001b[0m\u001b[0;36m1\u001b[0m\u001b[0;34m]\u001b[0m\u001b[0;34m=\u001b[0m\u001b[0;36m25\u001b[0m\u001b[0;34m\u001b[0m\u001b[0;34m\u001b[0m\u001b[0m\n\u001b[0m",
            "\u001b[0;31mTypeError\u001b[0m: 'tuple' object does not support item assignment"
          ]
        }
      ]
    },
    {
      "cell_type": "code",
      "metadata": {
        "id": "nmdxNbg53BtO",
        "outputId": "9fe091d0-543d-4598-eaa4-af2b936983a2",
        "colab": {
          "base_uri": "https://localhost:8080/",
          "height": 35
        }
      },
      "source": [
        "tup.count(32)    #counts the number of occurances of a value"
      ],
      "execution_count": 135,
      "outputs": [
        {
          "output_type": "execute_result",
          "data": {
            "text/plain": [
              "1"
            ]
          },
          "metadata": {
            "tags": []
          },
          "execution_count": 135
        }
      ]
    },
    {
      "cell_type": "code",
      "metadata": {
        "id": "vhnUARI43OrP"
      },
      "source": [
        "#since we dont change the values in Tuples -- the iteration(repetition of a process) is faster in case of Tuples than Lists --- speed of execution enhanced"
      ],
      "execution_count": 137,
      "outputs": []
    },
    {
      "cell_type": "code",
      "metadata": {
        "id": "I-xinxsS3nWo"
      },
      "source": [
        "s={22, 12,90,4,23}"
      ],
      "execution_count": 138,
      "outputs": []
    },
    {
      "cell_type": "code",
      "metadata": {
        "id": "r163tBNc3-kP"
      },
      "source": [
        "#set will never follow a sequnce, also indexing is not supported here"
      ],
      "execution_count": 143,
      "outputs": []
    },
    {
      "cell_type": "code",
      "metadata": {
        "id": "aRjIQkSM4DwU",
        "outputId": "85469d2b-f854-4cf1-d909-f7d0ee54741c",
        "colab": {
          "base_uri": "https://localhost:8080/",
          "height": 35
        }
      },
      "source": [
        "s"
      ],
      "execution_count": 144,
      "outputs": [
        {
          "output_type": "execute_result",
          "data": {
            "text/plain": [
              "{16, 22, 23, 29, 47, 49, 57, 89}"
            ]
          },
          "metadata": {
            "tags": []
          },
          "execution_count": 144
        }
      ]
    },
    {
      "cell_type": "code",
      "metadata": {
        "id": "ulANoMnp4EMj"
      },
      "source": [
        "s={23,22,89,22,57,57,47,16,49,29}"
      ],
      "execution_count": 145,
      "outputs": []
    },
    {
      "cell_type": "code",
      "metadata": {
        "id": "TLxTc0TT4Oqz",
        "outputId": "bad6c546-6f5e-4206-f150-60bf50e3fd4b",
        "colab": {
          "base_uri": "https://localhost:8080/",
          "height": 35
        }
      },
      "source": [
        "s"
      ],
      "execution_count": 146,
      "outputs": [
        {
          "output_type": "execute_result",
          "data": {
            "text/plain": [
              "{16, 22, 23, 29, 47, 49, 57, 89}"
            ]
          },
          "metadata": {
            "tags": []
          },
          "execution_count": 146
        }
      ]
    },
    {
      "cell_type": "markdown",
      "metadata": {
        "id": "0pG_KmBn43J2"
      },
      "source": [
        "![Screenshot 2020-10-27 092732.png](data:image/png;base64,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)"
      ]
    },
    {
      "cell_type": "markdown",
      "metadata": {
        "id": "UcZxAzly5QIU"
      },
      "source": [
        "Quiz! What are the key differences b/w Sets and Lists?"
      ]
    },
    {
      "cell_type": "code",
      "metadata": {
        "id": "DVhqUuVh4QAu"
      },
      "source": [
        "#Dictionary - key value pair"
      ],
      "execution_count": 147,
      "outputs": []
    },
    {
      "cell_type": "markdown",
      "metadata": {
        "id": "xqRbr2yV-CZl"
      },
      "source": [
        "![Dictionary-Key-Value-Pairs-Illustration.png](data:image/png;base64,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)"
      ]
    },
    {
      "cell_type": "code",
      "metadata": {
        "id": "TOUVFl3a9zBH"
      },
      "source": [
        "data={'name':'Bob', 'age':25,'job':'Developer','city':'NY','email':'bob@web.com'}"
      ],
      "execution_count": 148,
      "outputs": []
    },
    {
      "cell_type": "code",
      "metadata": {
        "id": "5U9tv3Yv-irm",
        "outputId": "1b781ce9-9a9a-41a2-f84d-9dfc7513e7e9",
        "colab": {
          "base_uri": "https://localhost:8080/",
          "height": 35
        }
      },
      "source": [
        "data['age']"
      ],
      "execution_count": 151,
      "outputs": [
        {
          "output_type": "execute_result",
          "data": {
            "text/plain": [
              "25"
            ]
          },
          "metadata": {
            "tags": []
          },
          "execution_count": 151
        }
      ]
    },
    {
      "cell_type": "code",
      "metadata": {
        "id": "rJSg57mI-mBx",
        "outputId": "ad6491b1-4a5b-4a7c-f675-635aa76d8806",
        "colab": {
          "base_uri": "https://localhost:8080/",
          "height": 36
        }
      },
      "source": [
        "data['email']"
      ],
      "execution_count": 152,
      "outputs": [
        {
          "output_type": "execute_result",
          "data": {
            "application/vnd.google.colaboratory.intrinsic+json": {
              "type": "string"
            },
            "text/plain": [
              "'bob@web.com'"
            ]
          },
          "metadata": {
            "tags": []
          },
          "execution_count": 152
        }
      ]
    },
    {
      "cell_type": "code",
      "metadata": {
        "id": "z_BNjkPV-siR"
      },
      "source": [
        "data2={1:'Bob', 2:25, 3:'Developer'}"
      ],
      "execution_count": 153,
      "outputs": []
    },
    {
      "cell_type": "code",
      "metadata": {
        "id": "DiWqFU8V-3bl",
        "outputId": "1df733a0-9312-486c-97bc-95a010802e46",
        "colab": {
          "base_uri": "https://localhost:8080/",
          "height": 36
        }
      },
      "source": [
        "data2[3]"
      ],
      "execution_count": 154,
      "outputs": [
        {
          "output_type": "execute_result",
          "data": {
            "application/vnd.google.colaboratory.intrinsic+json": {
              "type": "string"
            },
            "text/plain": [
              "'Developer'"
            ]
          },
          "metadata": {
            "tags": []
          },
          "execution_count": 154
        }
      ]
    },
    {
      "cell_type": "code",
      "metadata": {
        "id": "-AapxYWr-4y6",
        "outputId": "4a1d5b9a-92cd-4118-b56b-14cc5cf66f1b",
        "colab": {
          "base_uri": "https://localhost:8080/",
          "height": 35
        }
      },
      "source": [
        "data2.get(2)"
      ],
      "execution_count": 155,
      "outputs": [
        {
          "output_type": "execute_result",
          "data": {
            "text/plain": [
              "25"
            ]
          },
          "metadata": {
            "tags": []
          },
          "execution_count": 155
        }
      ]
    },
    {
      "cell_type": "code",
      "metadata": {
        "id": "nE-4VeJX_GOe",
        "outputId": "306a27bd-1065-42e4-b92b-4162b42271f1",
        "colab": {
          "base_uri": "https://localhost:8080/",
          "height": 36
        }
      },
      "source": [
        "data.get('city')"
      ],
      "execution_count": 157,
      "outputs": [
        {
          "output_type": "execute_result",
          "data": {
            "application/vnd.google.colaboratory.intrinsic+json": {
              "type": "string"
            },
            "text/plain": [
              "'NY'"
            ]
          },
          "metadata": {
            "tags": []
          },
          "execution_count": 157
        }
      ]
    },
    {
      "cell_type": "code",
      "metadata": {
        "id": "bT7_nihS_MB6",
        "outputId": "62a41b10-860b-4795-e3e1-ed763c09bc99",
        "colab": {
          "base_uri": "https://localhost:8080/",
          "height": 36
        }
      },
      "source": [
        "data2.get(4,'Not Found')"
      ],
      "execution_count": 158,
      "outputs": [
        {
          "output_type": "execute_result",
          "data": {
            "application/vnd.google.colaboratory.intrinsic+json": {
              "type": "string"
            },
            "text/plain": [
              "'Not Found'"
            ]
          },
          "metadata": {
            "tags": []
          },
          "execution_count": 158
        }
      ]
    },
    {
      "cell_type": "code",
      "metadata": {
        "id": "snyQz1rD_XRV"
      },
      "source": [
        "#how to merge 2 lists into one single Dictionary\n",
        "keys=['Aashutosh', 'Abhinav', 'Alok']"
      ],
      "execution_count": 163,
      "outputs": []
    },
    {
      "cell_type": "code",
      "metadata": {
        "id": "1I2yFKDh_qEw"
      },
      "source": [
        "Values=['Python','R','JavaScript']"
      ],
      "execution_count": 164,
      "outputs": []
    },
    {
      "cell_type": "code",
      "metadata": {
        "id": "Hqe9OccV_xUK"
      },
      "source": [
        "data=dict(zip(keys, Values))"
      ],
      "execution_count": 165,
      "outputs": []
    },
    {
      "cell_type": "code",
      "metadata": {
        "id": "--TYPtFC_6Ip",
        "outputId": "1a26aab0-26c1-4bd2-f216-f4c9c206d58f",
        "colab": {
          "base_uri": "https://localhost:8080/",
          "height": 35
        }
      },
      "source": [
        "data"
      ],
      "execution_count": 166,
      "outputs": [
        {
          "output_type": "execute_result",
          "data": {
            "text/plain": [
              "{'Aashutosh': 'Python', 'Abhinav': 'R', 'Alok': 'JavaScript'}"
            ]
          },
          "metadata": {
            "tags": []
          },
          "execution_count": 166
        }
      ]
    },
    {
      "cell_type": "code",
      "metadata": {
        "id": "4ACzZp6F_8Gg",
        "outputId": "cc8fe163-ee74-48ad-ed92-f5875feadfb3",
        "colab": {
          "base_uri": "https://localhost:8080/",
          "height": 36
        }
      },
      "source": [
        "data['Aashutosh']"
      ],
      "execution_count": 167,
      "outputs": [
        {
          "output_type": "execute_result",
          "data": {
            "application/vnd.google.colaboratory.intrinsic+json": {
              "type": "string"
            },
            "text/plain": [
              "'Python'"
            ]
          },
          "metadata": {
            "tags": []
          },
          "execution_count": 167
        }
      ]
    },
    {
      "cell_type": "code",
      "metadata": {
        "id": "b1TVZze1AXQS"
      },
      "source": [
        "data['Viraj']='C#'"
      ],
      "execution_count": 169,
      "outputs": []
    },
    {
      "cell_type": "code",
      "metadata": {
        "id": "qTan8CfQAaZ8",
        "outputId": "7a66685f-90d6-45b7-94cf-c337b36ba252",
        "colab": {
          "base_uri": "https://localhost:8080/",
          "height": 35
        }
      },
      "source": [
        "data"
      ],
      "execution_count": 170,
      "outputs": [
        {
          "output_type": "execute_result",
          "data": {
            "text/plain": [
              "{'Aashutosh': 'Python', 'Abhinav': 'R', 'Alok': 'JavaScript', 'Viraj': 'C#'}"
            ]
          },
          "metadata": {
            "tags": []
          },
          "execution_count": 170
        }
      ]
    },
    {
      "cell_type": "code",
      "metadata": {
        "id": "RLWpuqptA2vM"
      },
      "source": [
        "del data['Viraj']"
      ],
      "execution_count": 171,
      "outputs": []
    },
    {
      "cell_type": "code",
      "metadata": {
        "id": "4e85dVUkBAdk",
        "outputId": "b908e3ad-c89a-4f17-eb6a-1c5f490889e1",
        "colab": {
          "base_uri": "https://localhost:8080/",
          "height": 35
        }
      },
      "source": [
        "data"
      ],
      "execution_count": 172,
      "outputs": [
        {
          "output_type": "execute_result",
          "data": {
            "text/plain": [
              "{'Aashutosh': 'Python', 'Abhinav': 'R', 'Alok': 'JavaScript'}"
            ]
          },
          "metadata": {
            "tags": []
          },
          "execution_count": 172
        }
      ]
    },
    {
      "cell_type": "code",
      "metadata": {
        "id": "ot4YYfIFBCZd"
      },
      "source": [
        ""
      ],
      "execution_count": null,
      "outputs": []
    }
  ]
}