{
  "nbformat": 4,
  "nbformat_minor": 0,
  "metadata": {
    "colab": {
      "name": "Inheritance.ipynb",
      "provenance": [],
      "include_colab_link": true
    },
    "kernelspec": {
      "name": "python3",
      "display_name": "Python 3"
    }
  },
  "cells": [
    {
      "cell_type": "markdown",
      "metadata": {
        "id": "view-in-github",
        "colab_type": "text"
      },
      "source": [
        "<a href=\"https://colab.research.google.com/github/charlie-aashutosh/python_codes/blob/master/Inheritance.ipynb\" target=\"_parent\"><img src=\"https://colab.research.google.com/assets/colab-badge.svg\" alt=\"Open In Colab\"/></a>"
      ]
    },
    {
      "cell_type": "markdown",
      "metadata": {
        "id": "A3H6lUqnA6Ae"
      },
      "source": [
        "Multi-Level Inheritance"
      ]
    },
    {
      "cell_type": "code",
      "metadata": {
        "colab": {
          "base_uri": "https://localhost:8080/"
        },
        "id": "uvx2nfkw3WFj",
        "outputId": "4aeee11e-3430-4183-e44f-9e0d6a33fe43"
      },
      "source": [
        "#creating Parent class A\r\n",
        "\r\n",
        "class A:\r\n",
        "\r\n",
        "  def feature1(self):\r\n",
        "    print(\"Feature 1 working\")\r\n",
        "\r\n",
        "  def feature2(self):\r\n",
        "    print(\"Feature 2 working\")\r\n",
        "\r\n",
        "#creating Child class B\r\n",
        "\r\n",
        "class B(A): \r\n",
        "\r\n",
        "  def feature3(self):\r\n",
        "    print(\"Feature 3 working\")\r\n",
        "\r\n",
        "  def feature4(self):\r\n",
        "    print(\"Feature 4 working\")\r\n",
        "\r\n",
        "#creating child class C \r\n",
        "class C(B):\r\n",
        "\r\n",
        "  def feature5(self):\r\n",
        "    print(\"Feature 5 working\")\r\n",
        "\r\n",
        "  def feature6(self):\r\n",
        "    print(\"Feature 6 working\")\r\n",
        "\r\n",
        "\r\n",
        "a1=A()\r\n",
        "\r\n",
        "a1.feature1()\r\n",
        "a1.feature2()\r\n",
        "\r\n",
        "b1=B()\r\n",
        "\r\n",
        "b1.feature3()\r\n",
        "b1.feature4()\r\n",
        "\r\n",
        "c1=C()\r\n",
        "\r\n",
        "c1.feature5()\r\n",
        "c1.feature6()\r\n",
        "\r\n"
      ],
      "execution_count": null,
      "outputs": [
        {
          "output_type": "stream",
          "text": [
            "Feature 1 working\n",
            "Feature 2 working\n",
            "Feature 3 working\n",
            "Feature 4 working\n",
            "Feature 5 working\n",
            "Feature 6 working\n"
          ],
          "name": "stdout"
        }
      ]
    },
    {
      "cell_type": "markdown",
      "metadata": {
        "id": "kq_o17JPBAFf"
      },
      "source": [
        "Muliple Inheritance"
      ]
    },
    {
      "cell_type": "code",
      "metadata": {
        "colab": {
          "base_uri": "https://localhost:8080/"
        },
        "id": "wOvnzbbJ79Tr",
        "outputId": "12d31e75-87e8-40a4-be1a-edab66d4a1b5"
      },
      "source": [
        "#creating Parent class A\r\n",
        "\r\n",
        "class A:\r\n",
        "\r\n",
        "  def feature1(self):\r\n",
        "    print(\"Feature 1 working\")\r\n",
        "\r\n",
        "  def feature2(self):\r\n",
        "    print(\"Feature 2 working\")\r\n",
        "#creating Parent class B\r\n",
        "\r\n",
        "class B: \r\n",
        "\r\n",
        "  def feature3(self):\r\n",
        "    print(\"Feature 3 working\")\r\n",
        "\r\n",
        "  def feature4(self):\r\n",
        "    print(\"Feature 4 working\")\r\n",
        "\r\n",
        "#creating child class C \r\n",
        "#At a time, C is inheriting from both parent class A and B\r\n",
        "class C(A,B):\r\n",
        "\r\n",
        "  def feature5(self):\r\n",
        "    print(\"Feature 5 working\")\r\n",
        "\r\n",
        "  def feature6(self):\r\n",
        "    print(\"Feature 6 working\")\r\n",
        "\r\n",
        "\r\n",
        "a1=A()\r\n",
        "\r\n",
        "a1.feature1()\r\n",
        "a1.feature2()\r\n",
        "\r\n",
        "b1=B()\r\n",
        "\r\n",
        "b1.feature3()\r\n",
        "b1.feature4()\r\n",
        "\r\n",
        "c1=C()\r\n",
        "\r\n",
        "c1.feature5()\r\n",
        "c1.feature6()\r\n",
        "\r\n"
      ],
      "execution_count": null,
      "outputs": [
        {
          "output_type": "stream",
          "text": [
            "Feature 1 working\n",
            "Feature 2 working\n",
            "Feature 3 working\n",
            "Feature 4 working\n",
            "Feature 5 working\n",
            "Feature 6 working\n"
          ],
          "name": "stdout"
        }
      ]
    },
    {
      "cell_type": "code",
      "metadata": {
        "colab": {
          "base_uri": "https://localhost:8080/"
        },
        "id": "3w3lssHACw5a",
        "outputId": "2e95d5bf-00b4-445d-cec8-07fb0866853a"
      },
      "source": [
        "class A:\r\n",
        "  \r\n",
        "  def __init__(self):\r\n",
        "    print('in A Init')\r\n",
        "\r\n",
        "  def feature1(self):\r\n",
        "    print(\"Feature 1 working\")\r\n",
        "\r\n",
        "  def feature2(self):\r\n",
        "    print(\"Feature 2 working\")\r\n",
        "\r\n",
        "class B(A):\r\n",
        "\r\n",
        "  def __init__(self):\r\n",
        "    super().__init__()\r\n",
        "    print('in B Init')\r\n",
        "\r\n",
        "  def feature3(self):\r\n",
        "    print(\"Feature 3 working\")\r\n",
        "\r\n",
        "  def feature4(self):\r\n",
        "    print(\"Feature 4 working\")\r\n",
        "\r\n",
        "a1=B() #a1 is the object of Class B which is the Child class of Class A\r\n"
      ],
      "execution_count": null,
      "outputs": [
        {
          "output_type": "stream",
          "text": [
            "in A Init\n",
            "in B Init\n"
          ],
          "name": "stdout"
        }
      ]
    },
    {
      "cell_type": "markdown",
      "metadata": {
        "id": "Q0jq5aisEHy-"
      },
      "source": [
        "If you create object of Sub Class it will first try to find init of Sub Class. If it is not found then it will call init of Super Class"
      ]
    },
    {
      "cell_type": "code",
      "metadata": {
        "id": "L0EOMG5JDqId"
      },
      "source": [
        ""
      ],
      "execution_count": null,
      "outputs": []
    }
  ]
}