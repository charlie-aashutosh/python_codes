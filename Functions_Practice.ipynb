{
  "nbformat": 4,
  "nbformat_minor": 0,
  "metadata": {
    "colab": {
      "name": "Functions_Practice.ipynb",
      "provenance": [],
      "authorship_tag": "ABX9TyMu/RCpnopOV95+B36ni4I2",
      "include_colab_link": true
    },
    "kernelspec": {
      "name": "python3",
      "display_name": "Python 3"
    }
  },
  "cells": [
    {
      "cell_type": "markdown",
      "metadata": {
        "id": "view-in-github",
        "colab_type": "text"
      },
      "source": [
        "<a href=\"https://colab.research.google.com/github/charlie-aashutosh/python_codes/blob/master/Functions_Practice.ipynb\" target=\"_parent\"><img src=\"https://colab.research.google.com/assets/colab-badge.svg\" alt=\"Open In Colab\"/></a>"
      ]
    },
    {
      "cell_type": "code",
      "metadata": {
        "id": "ZwttuFHzmAKo"
      },
      "source": [
        "#Create a function that can accept two arguments name and age and print its value\r\n",
        "def data(name,age):\r\n",
        "  print(\"Name is\", name,\"Age is\",age)"
      ],
      "execution_count": null,
      "outputs": []
    },
    {
      "cell_type": "code",
      "metadata": {
        "colab": {
          "base_uri": "https://localhost:8080/"
        },
        "id": "_9C-63H1jH5s",
        "outputId": "48e514b0-2561-4574-81eb-9ac489735299"
      },
      "source": [
        "data(\"Aashutosh\", 26)"
      ],
      "execution_count": null,
      "outputs": [
        {
          "output_type": "stream",
          "text": [
            "Name is Aashutosh Age is 26\n"
          ],
          "name": "stdout"
        }
      ]
    },
    {
      "cell_type": "code",
      "metadata": {
        "id": "rvOWEbb7jYIc"
      },
      "source": [
        "#Write a function such that it can accept a variable length of  argument and print all arguments value\r\n",
        "def func(*args):\r\n",
        "  print(*args)\r\n",
        "\r\n"
      ],
      "execution_count": null,
      "outputs": []
    },
    {
      "cell_type": "code",
      "metadata": {
        "colab": {
          "base_uri": "https://localhost:8080/"
        },
        "id": "sGW6Iw2rkg51",
        "outputId": "6efe32ad-9fcc-4063-f76d-c81c5a082c51"
      },
      "source": [
        "func(1,2,4,567,99,23)"
      ],
      "execution_count": null,
      "outputs": [
        {
          "output_type": "stream",
          "text": [
            "1 2 4 567 99 23\n"
          ],
          "name": "stdout"
        }
      ]
    },
    {
      "cell_type": "code",
      "metadata": {
        "id": "Zk7tazwvkkJP"
      },
      "source": [
        "#OR\r\n",
        "\r\n",
        "def func(*args):\r\n",
        "  for i in args:\r\n",
        "    print(i)"
      ],
      "execution_count": null,
      "outputs": []
    },
    {
      "cell_type": "code",
      "metadata": {
        "colab": {
          "base_uri": "https://localhost:8080/"
        },
        "id": "gcANcXePk63d",
        "outputId": "c379e8c6-b621-4ad0-a63e-38e803e1f3e3"
      },
      "source": [
        "func(23,57,12,0,12)"
      ],
      "execution_count": null,
      "outputs": [
        {
          "output_type": "stream",
          "text": [
            "23\n",
            "57\n",
            "12\n",
            "0\n",
            "12\n"
          ],
          "name": "stdout"
        }
      ]
    },
    {
      "cell_type": "markdown",
      "metadata": {
        "id": "H0cjOvzClKFs"
      },
      "source": [
        "Write a function calculation() such that it can accept two variables and calculate the addition and subtraction of it. And also it must return both addition and subtraction in a single return call"
      ]
    },
    {
      "cell_type": "code",
      "metadata": {
        "id": "n3TzguZuk-Qr"
      },
      "source": [
        "def calculation(a,b):\r\n",
        "  s=a+b\r\n",
        "  d=a-b\r\n",
        "\r\n",
        "  print(\"Addition is \",s, \"and difference is\",d)"
      ],
      "execution_count": null,
      "outputs": []
    },
    {
      "cell_type": "code",
      "metadata": {
        "colab": {
          "base_uri": "https://localhost:8080/"
        },
        "id": "fFZqCjM6lb_X",
        "outputId": "8379c9e3-2a7c-4391-f412-41b336c4e4d7"
      },
      "source": [
        "calculation(12,8)"
      ],
      "execution_count": null,
      "outputs": [
        {
          "output_type": "stream",
          "text": [
            "Addition is  20 and difference is 4\n"
          ],
          "name": "stdout"
        }
      ]
    },
    {
      "cell_type": "code",
      "metadata": {
        "colab": {
          "base_uri": "https://localhost:8080/"
        },
        "id": "z0lnBjS5loe4",
        "outputId": "3ff95708-8940-4013-da98-6a7622bc55e4"
      },
      "source": [
        "#OR\r\n",
        "def calculation(a, b):\r\n",
        "    return a+b, a-b\r\n",
        "\r\n",
        "res = calculation(40, 10)\r\n",
        "print(res)"
      ],
      "execution_count": null,
      "outputs": [
        {
          "output_type": "stream",
          "text": [
            "(50, 30)\n"
          ],
          "name": "stdout"
        }
      ]
    },
    {
      "cell_type": "markdown",
      "metadata": {
        "id": "hNmC-lMrl44E"
      },
      "source": [
        "Create an inner function to calculate the addition in the following way\r\n",
        "\r\n",
        "    Create an outer function that will accept two parameters a and b\r\n",
        "    Create an inner function inside an outer function that will calculate the addition of a and b\r\n",
        "    At last, an outer function will add 5 into addition and return it\r\n"
      ]
    },
    {
      "cell_type": "markdown",
      "metadata": {
        "id": "jif_0-Q9nSnr"
      },
      "source": [
        "In Python, we can create a nested function inside a function. We can use the nested function to perform complex tasks multiple times within another function or avoid loop and code duplication"
      ]
    },
    {
      "cell_type": "code",
      "metadata": {
        "colab": {
          "base_uri": "https://localhost:8080/"
        },
        "id": "0t13-JrIma2X",
        "outputId": "3af1b256-a7ae-4d9b-d8b2-87bf024d4817"
      },
      "source": [
        "def outerFun(a, b):\r\n",
        "    square = a**2\r\n",
        "    def innerFun(a,b):\r\n",
        "        return a+b\r\n",
        "    add = innerFun(a, b)\r\n",
        "    return add+5\r\n",
        "\r\n",
        "result = outerFun(5, 10)\r\n",
        "print(result)"
      ],
      "execution_count": null,
      "outputs": [
        {
          "output_type": "stream",
          "text": [
            "20\n"
          ],
          "name": "stdout"
        }
      ]
    },
    {
      "cell_type": "code",
      "metadata": {
        "colab": {
          "base_uri": "https://localhost:8080/"
        },
        "id": "Ys0W23C3n15x",
        "outputId": "c7848e2f-77c8-439e-bc9a-f84fd3c23993"
      },
      "source": [
        "#Write a recursive function to calculate the sum of numbers from 0 to 10\r\n",
        "def calculateSum(num):\r\n",
        "    if num:\r\n",
        "        return num + calculateSum(num-1)\r\n",
        "    else:\r\n",
        "        return 0\r\n",
        "\r\n",
        "res = calculateSum(10)\r\n",
        "print(res)"
      ],
      "execution_count": null,
      "outputs": [
        {
          "output_type": "stream",
          "text": [
            "55\n"
          ],
          "name": "stdout"
        }
      ]
    },
    {
      "cell_type": "code",
      "metadata": {
        "id": "X_k3zsFxn7WL"
      },
      "source": [
        "#Write a Python function to find the Max of three numbers\r\n",
        "def max_of_two( x, y ):\r\n",
        "    if x > y:\r\n",
        "        return x\r\n",
        "    return y\r\n",
        "def max_of_three( x, y, z ):\r\n",
        "    return max_of_two( x, max_of_two( y, z ) )\r\n"
      ],
      "execution_count": null,
      "outputs": []
    },
    {
      "cell_type": "code",
      "metadata": {
        "colab": {
          "base_uri": "https://localhost:8080/"
        },
        "id": "Tc14B8ekphe2",
        "outputId": "4d5f3916-aaf7-4aaf-9461-7a425102efc3"
      },
      "source": [
        "max_of_three(12,5,26)"
      ],
      "execution_count": null,
      "outputs": [
        {
          "output_type": "execute_result",
          "data": {
            "text/plain": [
              "26"
            ]
          },
          "metadata": {
            "tags": []
          },
          "execution_count": 41
        }
      ]
    },
    {
      "cell_type": "code",
      "metadata": {
        "id": "WLuY3Y3wpkEf"
      },
      "source": [
        "#Write a Python function to sum all the numbers in a list.\r\n",
        "\r\n",
        "def sum(numbers):\r\n",
        "    total = 0\r\n",
        "    for x in numbers:\r\n",
        "        total += x\r\n",
        "    return total\r\n"
      ],
      "execution_count": 1,
      "outputs": []
    },
    {
      "cell_type": "code",
      "metadata": {
        "colab": {
          "base_uri": "https://localhost:8080/"
        },
        "id": "-owEuKkKl7A6",
        "outputId": "c8cec155-624f-4504-92ec-0706b0788a68"
      },
      "source": [
        "numbers=[2,4,6]\r\n",
        "sum(numbers)"
      ],
      "execution_count": 3,
      "outputs": [
        {
          "output_type": "execute_result",
          "data": {
            "text/plain": [
              "12"
            ]
          },
          "metadata": {
            "tags": []
          },
          "execution_count": 3
        }
      ]
    },
    {
      "cell_type": "code",
      "metadata": {
        "id": "SDQhpnyLl-xW"
      },
      "source": [
        "#Write a Python function to multiply all the numbers in a list.\r\n",
        "list=[2,4,6]\r\n",
        "\r\n",
        "def mul(list):\r\n",
        "  mul=1\r\n",
        "  for i in list:\r\n",
        "    mul=mul*i\r\n",
        "  return mul\r\n"
      ],
      "execution_count": 16,
      "outputs": []
    },
    {
      "cell_type": "code",
      "metadata": {
        "colab": {
          "base_uri": "https://localhost:8080/"
        },
        "id": "B7NlmDvfmmAz",
        "outputId": "4e5e3f0d-43a4-4b2b-fcaf-8b1ae7bd94f4"
      },
      "source": [
        "mul(list)"
      ],
      "execution_count": 17,
      "outputs": [
        {
          "output_type": "execute_result",
          "data": {
            "text/plain": [
              "48"
            ]
          },
          "metadata": {
            "tags": []
          },
          "execution_count": 17
        }
      ]
    },
    {
      "cell_type": "code",
      "metadata": {
        "id": "yLmopX1Jm8iN"
      },
      "source": [
        "#Write a Python program to reverse a string.\r\n",
        "\r\n",
        "def string_reverse(str1):\r\n",
        "\r\n",
        "    rstr1 = ''\r\n",
        "    index = len(str1)\r\n",
        "    while index > 0:\r\n",
        "        rstr1 += str1[ index - 1 ]\r\n",
        "        index = index - 1\r\n",
        "    return rstr1\r\n"
      ],
      "execution_count": 18,
      "outputs": []
    },
    {
      "cell_type": "code",
      "metadata": {
        "colab": {
          "base_uri": "https://localhost:8080/",
          "height": 36
        },
        "id": "jru5sQLVpvYs",
        "outputId": "d406cc01-b74b-406b-febb-0a86f03254e7"
      },
      "source": [
        "str1=('aashu','madhav ')\r\n",
        "string_reverse(str1)"
      ],
      "execution_count": 33,
      "outputs": [
        {
          "output_type": "execute_result",
          "data": {
            "application/vnd.google.colaboratory.intrinsic+json": {
              "type": "string"
            },
            "text/plain": [
              "'madhav aashu'"
            ]
          },
          "metadata": {
            "tags": []
          },
          "execution_count": 33
        }
      ]
    },
    {
      "cell_type": "markdown",
      "metadata": {
        "id": "u74t4TLlnpqQ"
      },
      "source": [
        "Write a Python function to calculate the factorial of a number (a non-negative integer). The function accepts the number as an argument."
      ]
    },
    {
      "cell_type": "code",
      "metadata": {
        "colab": {
          "base_uri": "https://localhost:8080/"
        },
        "id": "jLkNJozSnqaE",
        "outputId": "984b8fef-ccee-4be6-aece-7c830554f0d8"
      },
      "source": [
        "def factorial(n):\r\n",
        "    if n == 0:\r\n",
        "        return 1\r\n",
        "    else:\r\n",
        "        return n * factorial(n-1)\r\n",
        "n=int(input(\"Input a number to compute the factiorial : \"))\r\n",
        "print(\"The factorial is \", factorial(n))"
      ],
      "execution_count": 20,
      "outputs": [
        {
          "output_type": "stream",
          "text": [
            "Input a number to compute the factiorial : 4\n",
            "The factorial is  24\n"
          ],
          "name": "stdout"
        }
      ]
    },
    {
      "cell_type": "markdown",
      "metadata": {
        "id": "vjFcsprBocTM"
      },
      "source": [
        "Write a Python function to check whether a number is in a given range.\r\n"
      ]
    },
    {
      "cell_type": "code",
      "metadata": {
        "id": "EGPBKnNQnt5P"
      },
      "source": [
        "def test_range(n):\r\n",
        "    if n in range(3,9):\r\n",
        "        print( \" %s is in the range\"%str(n))\r\n",
        "    else :\r\n",
        "        print(\"The number is outside the given range.\")\r\n"
      ],
      "execution_count": 25,
      "outputs": []
    },
    {
      "cell_type": "code",
      "metadata": {
        "colab": {
          "base_uri": "https://localhost:8080/"
        },
        "id": "dDY8HISlpBCQ",
        "outputId": "77ea63a4-34cf-4b08-b6a3-3a2c1b6e4555"
      },
      "source": [
        "test_range(7)"
      ],
      "execution_count": 34,
      "outputs": [
        {
          "output_type": "stream",
          "text": [
            " 7 is in the range\n"
          ],
          "name": "stdout"
        }
      ]
    },
    {
      "cell_type": "markdown",
      "metadata": {
        "id": "slTDO6FloFI0"
      },
      "source": [
        "Write a Python function that accepts a string and calculate the number of upper case letters and lower case letters."
      ]
    },
    {
      "cell_type": "code",
      "metadata": {
        "id": "uu4kd0TQoZCQ"
      },
      "source": [
        "def string_test(s):\r\n",
        "    d={\"UPPER_CASE\":0, \"LOWER_CASE\":0}\r\n",
        "    for c in s:\r\n",
        "        if c.isupper():\r\n",
        "           d[\"UPPER_CASE\"]+=1\r\n",
        "        elif c.islower():\r\n",
        "           d[\"LOWER_CASE\"]+=1\r\n",
        "        else:\r\n",
        "           pass\r\n",
        "    print (\"Original String : \", s)\r\n",
        "    print (\"No. of Upper case characters : \", d[\"UPPER_CASE\"])\r\n",
        "    print (\"No. of Lower case Characters : \", d[\"LOWER_CASE\"])\r\n"
      ],
      "execution_count": 24,
      "outputs": []
    },
    {
      "cell_type": "code",
      "metadata": {
        "colab": {
          "base_uri": "https://localhost:8080/"
        },
        "id": "Cq6JGmkYpAEK",
        "outputId": "4ea10d02-d17f-4f8b-d808-6142ce2dfade"
      },
      "source": [
        "s=\"Aashutosh Mishra\"\r\n",
        "string_test(s)"
      ],
      "execution_count": 35,
      "outputs": [
        {
          "output_type": "stream",
          "text": [
            "Original String :  Aashutosh Mishra\n",
            "No. of Upper case characters :  2\n",
            "No. of Lower case Characters :  13\n"
          ],
          "name": "stdout"
        }
      ]
    },
    {
      "cell_type": "markdown",
      "metadata": {
        "id": "TgwVg7xKoLNY"
      },
      "source": [
        "Write a Python function that takes a list and returns a new list with unique elements of the first list."
      ]
    },
    {
      "cell_type": "code",
      "metadata": {
        "id": "JEzrN1mSoYP9"
      },
      "source": [
        "def unique_list(l):\r\n",
        "  x = []\r\n",
        "  for a in l:\r\n",
        "    if a not in x:\r\n",
        "      x.append(a)\r\n",
        "  return x"
      ],
      "execution_count": 23,
      "outputs": []
    },
    {
      "cell_type": "code",
      "metadata": {
        "colab": {
          "base_uri": "https://localhost:8080/"
        },
        "id": "Y-7o0d1FpCkY",
        "outputId": "db536a18-79d1-42f1-c3b5-69f6cadbfb0f"
      },
      "source": [
        "x=[2,3,2,56,7,12,65,56,93]\r\n",
        "unique_list(x) #no repetition of elements"
      ],
      "execution_count": 37,
      "outputs": [
        {
          "output_type": "execute_result",
          "data": {
            "text/plain": [
              "[2, 3, 56, 7, 12, 65, 93]"
            ]
          },
          "metadata": {
            "tags": []
          },
          "execution_count": 37
        }
      ]
    },
    {
      "cell_type": "markdown",
      "metadata": {
        "id": "Z9ewZi1ioQFp"
      },
      "source": [
        "Write a Python function that takes a number as a parameter and check the number is prime or not.\r\n",
        "\r\n",
        "Note : A prime number (or a prime) is a natural number greater than 1 and that has no positive divisors other than 1 and itself."
      ]
    },
    {
      "cell_type": "code",
      "metadata": {
        "id": "_WSYimq1oV_b"
      },
      "source": [
        "def test_prime(n):\r\n",
        "    if (n==1):\r\n",
        "        return False\r\n",
        "    elif (n==2):\r\n",
        "        return True;\r\n",
        "    else:\r\n",
        "        for x in range(2,n):\r\n",
        "            if(n % x==0):\r\n",
        "                return False\r\n",
        "        return True             \r\n"
      ],
      "execution_count": 26,
      "outputs": []
    },
    {
      "cell_type": "code",
      "metadata": {
        "colab": {
          "base_uri": "https://localhost:8080/"
        },
        "id": "bwQg1HVipHPI",
        "outputId": "25b0d9ef-28a4-4bbd-e637-1f60b9930c17"
      },
      "source": [
        "test_prime(43)"
      ],
      "execution_count": 39,
      "outputs": [
        {
          "output_type": "execute_result",
          "data": {
            "text/plain": [
              "True"
            ]
          },
          "metadata": {
            "tags": []
          },
          "execution_count": 39
        }
      ]
    },
    {
      "cell_type": "markdown",
      "metadata": {
        "id": "BV-cHeMPoT36"
      },
      "source": [
        "Write a Python program to print the even numbers from a given list."
      ]
    },
    {
      "cell_type": "code",
      "metadata": {
        "id": "8ZqQi1MWonYH"
      },
      "source": [
        "def is_even_num(l):\r\n",
        "    enum = []\r\n",
        "    for n in l:\r\n",
        "        if n % 2 == 0:\r\n",
        "            enum.append(n)\r\n",
        "    return enum"
      ],
      "execution_count": 44,
      "outputs": []
    },
    {
      "cell_type": "code",
      "metadata": {
        "colab": {
          "base_uri": "https://localhost:8080/"
        },
        "id": "ZoW09nUBrDH-",
        "outputId": "e0fb5945-c62e-41b5-807e-40ddb8551d36"
      },
      "source": [
        "l=[2,12,67,36,89,11,18]\r\n",
        "is_even_num(l)"
      ],
      "execution_count": 45,
      "outputs": [
        {
          "output_type": "execute_result",
          "data": {
            "text/plain": [
              "[2, 12, 36, 18]"
            ]
          },
          "metadata": {
            "tags": []
          },
          "execution_count": 45
        }
      ]
    },
    {
      "cell_type": "code",
      "metadata": {
        "id": "8m_VCZGBq9lC"
      },
      "source": [
        ""
      ],
      "execution_count": null,
      "outputs": []
    }
  ]
}