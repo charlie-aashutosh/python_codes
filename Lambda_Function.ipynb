{
  "nbformat": 4,
  "nbformat_minor": 0,
  "metadata": {
    "colab": {
      "name": "Lambda_Function.ipynb",
      "provenance": [],
      "authorship_tag": "ABX9TyM3WGubqhdYaDioLX3cKRX6",
      "include_colab_link": true
    },
    "kernelspec": {
      "name": "python3",
      "display_name": "Python 3"
    }
  },
  "cells": [
    {
      "cell_type": "markdown",
      "metadata": {
        "id": "view-in-github",
        "colab_type": "text"
      },
      "source": [
        "<a href=\"https://colab.research.google.com/github/charlie-aashutosh/python_codes/blob/master/Lambda_Function.ipynb\" target=\"_parent\"><img src=\"https://colab.research.google.com/assets/colab-badge.svg\" alt=\"Open In Colab\"/></a>"
      ]
    },
    {
      "cell_type": "code",
      "metadata": {
        "id": "6AKsp4v5IgYP"
      },
      "source": [
        "#this is an anonymous function and can take any no. of arguments but can have only one expression"
      ],
      "execution_count": null,
      "outputs": []
    },
    {
      "cell_type": "code",
      "metadata": {
        "id": "Tw9KVaUCI7C7"
      },
      "source": [
        "#lambda arguments: expression"
      ],
      "execution_count": null,
      "outputs": []
    },
    {
      "cell_type": "code",
      "metadata": {
        "colab": {
          "base_uri": "https://localhost:8080/"
        },
        "id": "2l3UCD0nI_59",
        "outputId": "ec4f8322-9ff7-435c-df28-9bd51c026a88"
      },
      "source": [
        "#adding 10 to an argument 'a' and returning the result\r\n",
        "\r\n",
        "x=lambda a:a+10\r\n",
        "\r\n",
        "print(x(5))"
      ],
      "execution_count": null,
      "outputs": [
        {
          "output_type": "stream",
          "text": [
            "15\n"
          ],
          "name": "stdout"
        }
      ]
    },
    {
      "cell_type": "code",
      "metadata": {
        "colab": {
          "base_uri": "https://localhost:8080/"
        },
        "id": "9vY4nVXGJSCZ",
        "outputId": "45620415-72fa-4b1f-e626-3494586d4fff"
      },
      "source": [
        "#taking multiple arguments 'a' and 'b'\r\n",
        "x=lambda a, b: a*b\r\n",
        "print(x(5,6))"
      ],
      "execution_count": null,
      "outputs": [
        {
          "output_type": "stream",
          "text": [
            "30\n"
          ],
          "name": "stdout"
        }
      ]
    },
    {
      "cell_type": "code",
      "metadata": {
        "colab": {
          "base_uri": "https://localhost:8080/"
        },
        "id": "IfdvgG6zJi2F",
        "outputId": "c3dc9867-6182-4005-bad7-fa6b4d54343d"
      },
      "source": [
        "#taking multiple arguments 'a' and 'b' and 'c'\r\n",
        "x=lambda a, b, c: a+b+c\r\n",
        "print(x(5,6,12))"
      ],
      "execution_count": null,
      "outputs": [
        {
          "output_type": "stream",
          "text": [
            "23\n"
          ],
          "name": "stdout"
        }
      ]
    },
    {
      "cell_type": "code",
      "metadata": {
        "id": "4d-i80BuJ1Fs"
      },
      "source": [
        "def func(n):\r\n",
        "  return lambda a:a*n"
      ],
      "execution_count": null,
      "outputs": []
    },
    {
      "cell_type": "code",
      "metadata": {
        "id": "gllp_Ld2KPuI"
      },
      "source": [
        "def func(n):\r\n",
        "  return lambda a: a*n\r\n",
        "\r\n",
        "twice=func(2)"
      ],
      "execution_count": null,
      "outputs": []
    },
    {
      "cell_type": "code",
      "metadata": {
        "colab": {
          "base_uri": "https://localhost:8080/"
        },
        "id": "nk9WViLJKdU5",
        "outputId": "f51913f8-58a5-4d67-9409-ee133124060d"
      },
      "source": [
        "print(twice(11))"
      ],
      "execution_count": null,
      "outputs": [
        {
          "output_type": "stream",
          "text": [
            "22\n"
          ],
          "name": "stdout"
        }
      ]
    },
    {
      "cell_type": "code",
      "metadata": {
        "id": "qa5OfqgGKf-n"
      },
      "source": [
        "def func(n):\r\n",
        "  return lambda a: a*n\r\n",
        "\r\n",
        "thrice=func(3)"
      ],
      "execution_count": null,
      "outputs": []
    },
    {
      "cell_type": "code",
      "metadata": {
        "colab": {
          "base_uri": "https://localhost:8080/"
        },
        "id": "BijlI5_YKv-9",
        "outputId": "21aa8c6a-3463-425d-a9a2-49e3e4812026"
      },
      "source": [
        "print(thrice(13))"
      ],
      "execution_count": null,
      "outputs": [
        {
          "output_type": "stream",
          "text": [
            "39\n"
          ],
          "name": "stdout"
        }
      ]
    },
    {
      "cell_type": "code",
      "metadata": {
        "id": "ByKcXLlQKy-y"
      },
      "source": [
        ""
      ],
      "execution_count": null,
      "outputs": []
    }
  ]
}