{
  "nbformat": 4,
  "nbformat_minor": 0,
  "metadata": {
    "colab": {
      "name": "abstract_method.ipynb",
      "provenance": []
    },
    "kernelspec": {
      "name": "python3",
      "display_name": "Python 3"
    },
    "language_info": {
      "name": "python"
    }
  },
  "cells": [
    {
      "cell_type": "code",
      "metadata": {
        "id": "4ibGdaaWLp58"
      },
      "source": [
        "#inside an abstract class - we have atleast one abstract method\n",
        "\n",
        "#abstract method - method with no body"
      ],
      "execution_count": 1,
      "outputs": []
    },
    {
      "cell_type": "code",
      "metadata": {
        "id": "NKge-KeiUO_6"
      },
      "source": [
        "from abc import ABC, abstractmethod\n",
        "\n",
        "#Computer is the abstract class \n",
        "class Computer:\n",
        "\n",
        "  #process is a abstract method\n",
        "  @abstractmethod \n",
        "  def process(self):\n",
        "    pass\n",
        "\n",
        "class Laptop(Computer):\n",
        "\n",
        "  def steps(self):\n",
        "    print('executing')"
      ],
      "execution_count": 17,
      "outputs": []
    },
    {
      "cell_type": "code",
      "metadata": {
        "id": "fJg4SiNQUseG"
      },
      "source": [
        "c1=Computer()"
      ],
      "execution_count": 18,
      "outputs": []
    },
    {
      "cell_type": "code",
      "metadata": {
        "id": "URUY88s8UwMZ"
      },
      "source": [
        "c1.process()"
      ],
      "execution_count": 19,
      "outputs": []
    },
    {
      "cell_type": "code",
      "metadata": {
        "id": "r4TkejlgW2Ot"
      },
      "source": [
        "com1=Laptop()"
      ],
      "execution_count": 20,
      "outputs": []
    },
    {
      "cell_type": "code",
      "metadata": {
        "id": "IJCvxzcBUxkD"
      },
      "source": [
        "com1.process()"
      ],
      "execution_count": 21,
      "outputs": []
    },
    {
      "cell_type": "code",
      "metadata": {
        "colab": {
          "base_uri": "https://localhost:8080/"
        },
        "id": "pvb2VdRfW_uu",
        "outputId": "f8a04c8d-9f81-4a11-8b5f-0250c04cc267"
      },
      "source": [
        "com1.steps()"
      ],
      "execution_count": 22,
      "outputs": [
        {
          "output_type": "stream",
          "text": [
            "executing\n"
          ],
          "name": "stdout"
        }
      ]
    },
    {
      "cell_type": "code",
      "metadata": {
        "id": "OYkeAA12XWGx"
      },
      "source": [
        ""
      ],
      "execution_count": null,
      "outputs": []
    }
  ]
}