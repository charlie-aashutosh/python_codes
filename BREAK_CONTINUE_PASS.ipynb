{
  "nbformat": 4,
  "nbformat_minor": 0,
  "metadata": {
    "colab": {
      "name": "BREAK_CONTINUE_PASS.ipynb",
      "provenance": []
    },
    "kernelspec": {
      "name": "python3",
      "display_name": "Python 3"
    },
    "language_info": {
      "name": "python"
    }
  },
  "cells": [
    {
      "cell_type": "markdown",
      "metadata": {
        "id": "RCZDdvls7BJ0"
      },
      "source": [
        "In the range of 1-10, display all the numbers except 3 and 6"
      ]
    },
    {
      "cell_type": "code",
      "metadata": {
        "colab": {
          "base_uri": "https://localhost:8080/"
        },
        "id": "uFDFs2VJ6nRQ",
        "outputId": "271418f6-cd7f-4cc4-e835-4b5fd4fad0bf"
      },
      "source": [
        "for i in range(1,11):\n",
        "  if i==3:\n",
        "    continue\n",
        "\n",
        "  elif i==6:\n",
        "    continue\n",
        "\n",
        "  else:\n",
        "    pass\n",
        "\n",
        "  print(i)"
      ],
      "execution_count": 5,
      "outputs": [
        {
          "output_type": "stream",
          "text": [
            "1\n",
            "2\n",
            "4\n",
            "5\n",
            "7\n",
            "8\n",
            "9\n",
            "10\n"
          ],
          "name": "stdout"
        }
      ]
    },
    {
      "cell_type": "code",
      "metadata": {
        "id": "nXYMQM7N8V4g"
      },
      "source": [
        ""
      ],
      "execution_count": null,
      "outputs": []
    }
  ]
}