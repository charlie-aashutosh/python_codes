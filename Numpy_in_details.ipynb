{
  "nbformat": 4,
  "nbformat_minor": 0,
  "metadata": {
    "kernelspec": {
      "display_name": "Python 3",
      "language": "python",
      "name": "python3"
    },
    "language_info": {
      "codemirror_mode": {
        "name": "ipython",
        "version": 3
      },
      "file_extension": ".py",
      "mimetype": "text/x-python",
      "name": "python",
      "nbconvert_exporter": "python",
      "pygments_lexer": "ipython3",
      "version": "3.7.1"
    },
    "colab": {
      "name": "Numpy in details.ipynb",
      "provenance": [],
      "collapsed_sections": [
        "Ty-ofQwgbg6M",
        "5yeEzT4obg7A",
        "x0Uf3zbObg7J",
        "SAz2V8gdbg7n",
        "dUi70s60bg8M",
        "Q_L-uxBabg8T",
        "AIOhg-e4bg8h",
        "mKpD8lx-bg9f",
        "wZ_7H-kjbg9l",
        "XmlHde1-bg9v",
        "Z-m_IshCbg-H",
        "gnntPtd2bg-K",
        "BPeyW-wObg-U",
        "ADFO-Fw1bg-d",
        "RSEbis4kbg-l"
      ],
      "include_colab_link": true
    }
  },
  "cells": [
    {
      "cell_type": "markdown",
      "metadata": {
        "id": "view-in-github",
        "colab_type": "text"
      },
      "source": [
        "<a href=\"https://colab.research.google.com/github/charlie-aashutosh/python_codes/blob/master/Numpy_in_details.ipynb\" target=\"_parent\"><img src=\"https://colab.research.google.com/assets/colab-badge.svg\" alt=\"Open In Colab\"/></a>"
      ]
    },
    {
      "cell_type": "markdown",
      "metadata": {
        "id": "dlnd567IbjZj",
        "colab_type": "text"
      },
      "source": [
        ""
      ]
    },
    {
      "cell_type": "markdown",
      "metadata": {
        "id": "eR8H8gZ3bg5X",
        "colab_type": "text"
      },
      "source": [
        "# Numpy Array"
      ]
    },
    {
      "cell_type": "code",
      "metadata": {
        "id": "QwP2hq-2bg5Y",
        "colab_type": "code",
        "colab": {},
        "outputId": "90c2f171-6e2c-47de-8521-90d71e5be95e"
      },
      "source": [
        "import numpy as np\n",
        "type(np.array([\"vbhvh\", 2, 3]))"
      ],
      "execution_count": null,
      "outputs": [
        {
          "output_type": "execute_result",
          "data": {
            "text/plain": [
              "numpy.ndarray"
            ]
          },
          "metadata": {
            "tags": []
          },
          "execution_count": 2
        }
      ]
    },
    {
      "cell_type": "code",
      "metadata": {
        "id": "5MQNCXWKbg5e",
        "colab_type": "code",
        "colab": {}
      },
      "source": [
        "#Upcasting:"
      ],
      "execution_count": null,
      "outputs": []
    },
    {
      "cell_type": "code",
      "metadata": {
        "id": "ZqX6U5pDbg5i",
        "colab_type": "code",
        "colab": {},
        "outputId": "f96bb42d-3e97-4f2f-c931-b1ed00b00d16"
      },
      "source": [
        "np.array([1, 2, 3.0])"
      ],
      "execution_count": null,
      "outputs": [
        {
          "output_type": "execute_result",
          "data": {
            "text/plain": [
              "array([1., 2., 3.])"
            ]
          },
          "metadata": {
            "tags": []
          },
          "execution_count": 3
        }
      ]
    },
    {
      "cell_type": "code",
      "metadata": {
        "id": "2kx3wy--bg5m",
        "colab_type": "code",
        "colab": {}
      },
      "source": [
        "#two dimensions"
      ],
      "execution_count": null,
      "outputs": []
    },
    {
      "cell_type": "code",
      "metadata": {
        "id": "LH9nwNUXbg5p",
        "colab_type": "code",
        "colab": {},
        "outputId": "5f27dfed-fde6-427c-fa15-efe17ab0a365"
      },
      "source": [
        " np.array([[1, 2], [3, 4]])"
      ],
      "execution_count": null,
      "outputs": [
        {
          "output_type": "execute_result",
          "data": {
            "text/plain": [
              "array([[1, 2],\n",
              "       [3, 4]])"
            ]
          },
          "metadata": {
            "tags": []
          },
          "execution_count": 4
        }
      ]
    },
    {
      "cell_type": "code",
      "metadata": {
        "id": "Ck3dkn9Cbg5t",
        "colab_type": "code",
        "colab": {}
      },
      "source": [
        "#Minimum dimensions 2:"
      ],
      "execution_count": null,
      "outputs": []
    },
    {
      "cell_type": "code",
      "metadata": {
        "id": "r3akd9r6bg5w",
        "colab_type": "code",
        "colab": {},
        "outputId": "598f95b7-3e25-4444-a6a1-757f3520b49c"
      },
      "source": [
        "np.array([1, 2, 3], ndmin=5)"
      ],
      "execution_count": null,
      "outputs": [
        {
          "output_type": "execute_result",
          "data": {
            "text/plain": [
              "array([[[[[1, 2, 3]]]]])"
            ]
          },
          "metadata": {
            "tags": []
          },
          "execution_count": 6
        }
      ]
    },
    {
      "cell_type": "code",
      "metadata": {
        "id": "QNbhk2TTbg50",
        "colab_type": "code",
        "colab": {}
      },
      "source": [
        "#dtype"
      ],
      "execution_count": null,
      "outputs": []
    },
    {
      "cell_type": "code",
      "metadata": {
        "id": "9XMLUOrJbg53",
        "colab_type": "code",
        "colab": {},
        "outputId": "7ca2db5b-c9c5-449f-c2f7-c5bc41a961d2"
      },
      "source": [
        " np.array([1, 2, 3], dtype=complex)"
      ],
      "execution_count": null,
      "outputs": [
        {
          "output_type": "execute_result",
          "data": {
            "text/plain": [
              "array([1.+0.j, 2.+0.j, 3.+0.j])"
            ]
          },
          "metadata": {
            "tags": []
          },
          "execution_count": 7
        }
      ]
    },
    {
      "cell_type": "code",
      "metadata": {
        "id": "XvqhkWPJbg56",
        "colab_type": "code",
        "colab": {}
      },
      "source": [
        "#Data-type consisting of more than one element:"
      ],
      "execution_count": null,
      "outputs": []
    },
    {
      "cell_type": "code",
      "metadata": {
        "id": "K70i_SN4bg58",
        "colab_type": "code",
        "colab": {},
        "outputId": "09d6c941-9192-4dc8-a34e-c21c61d09838"
      },
      "source": [
        "x = np.array([(1,2),(3,4)],dtype=[('a','<i2'),('b','<i8')])\n",
        "x"
      ],
      "execution_count": null,
      "outputs": [
        {
          "output_type": "execute_result",
          "data": {
            "text/plain": [
              "array([(1, 2), (3, 4)], dtype=[('a', '<i2'), ('b', '<i8')])"
            ]
          },
          "metadata": {
            "tags": []
          },
          "execution_count": 15
        }
      ]
    },
    {
      "cell_type": "code",
      "metadata": {
        "id": "bFeGHtOVbg6A",
        "colab_type": "code",
        "colab": {},
        "outputId": "fa1354d8-3b21-4287-94b3-f8ae0787f78d"
      },
      "source": [
        "type(x[1][0])"
      ],
      "execution_count": null,
      "outputs": [
        {
          "output_type": "execute_result",
          "data": {
            "text/plain": [
              "numpy.int16"
            ]
          },
          "metadata": {
            "tags": []
          },
          "execution_count": 39
        }
      ]
    },
    {
      "cell_type": "code",
      "metadata": {
        "id": "dcT9Ndbubg6E",
        "colab_type": "code",
        "colab": {}
      },
      "source": [
        "\n",
        "#Creating an array from sub-classes:"
      ],
      "execution_count": null,
      "outputs": []
    },
    {
      "cell_type": "code",
      "metadata": {
        "id": "Y6Whi9tsbg6G",
        "colab_type": "code",
        "colab": {},
        "outputId": "47c7eafd-8df0-40cb-c573-b79d76ef47ed"
      },
      "source": [
        "np.mat(np.array([[1, 2],[4,7]]))"
      ],
      "execution_count": null,
      "outputs": [
        {
          "output_type": "execute_result",
          "data": {
            "text/plain": [
              "matrix([[1, 2],\n",
              "        [4, 7]])"
            ]
          },
          "metadata": {
            "tags": []
          },
          "execution_count": 17
        }
      ]
    },
    {
      "cell_type": "code",
      "metadata": {
        "id": "gQIGxQZfbg6J",
        "colab_type": "code",
        "colab": {},
        "outputId": "555eaf3a-6a8a-4191-e725-3febddf1f791"
      },
      "source": [
        "np.mat('1 2; 3 4')"
      ],
      "execution_count": null,
      "outputs": [
        {
          "output_type": "execute_result",
          "data": {
            "text/plain": [
              "matrix([[1, 2],\n",
              "        [3, 4]])"
            ]
          },
          "metadata": {
            "tags": []
          },
          "execution_count": 21
        }
      ]
    },
    {
      "cell_type": "markdown",
      "metadata": {
        "id": "Ty-ofQwgbg6M",
        "colab_type": "text"
      },
      "source": [
        "# numpy.asarray"
      ]
    },
    {
      "cell_type": "code",
      "metadata": {
        "id": "uoD1GWyrbg6M",
        "colab_type": "code",
        "colab": {}
      },
      "source": [
        "#Convert the input to an array."
      ],
      "execution_count": null,
      "outputs": []
    },
    {
      "cell_type": "code",
      "metadata": {
        "collapsed": true,
        "id": "zDKW1-ELbg6P",
        "colab_type": "code",
        "colab": {}
      },
      "source": [
        "#Convert a list into an array:"
      ],
      "execution_count": null,
      "outputs": []
    },
    {
      "cell_type": "code",
      "metadata": {
        "id": "vApZvZ6Obg6R",
        "colab_type": "code",
        "colab": {},
        "outputId": "e9844dbd-e702-4d77-bc82-4c8f4780aa3f"
      },
      "source": [
        " a = [1, 2]\n",
        "type(a)"
      ],
      "execution_count": null,
      "outputs": [
        {
          "output_type": "execute_result",
          "data": {
            "text/plain": [
              "list"
            ]
          },
          "metadata": {
            "tags": []
          },
          "execution_count": 27
        }
      ]
    },
    {
      "cell_type": "code",
      "metadata": {
        "id": "hN7Gq_ERbg6U",
        "colab_type": "code",
        "colab": {},
        "outputId": "c641252e-bbf8-4a3c-de5d-d80f57bd9527"
      },
      "source": [
        "type(np.asarray(a))"
      ],
      "execution_count": null,
      "outputs": [
        {
          "output_type": "execute_result",
          "data": {
            "text/plain": [
              "numpy.ndarray"
            ]
          },
          "metadata": {
            "tags": []
          },
          "execution_count": 25
        }
      ]
    },
    {
      "cell_type": "code",
      "metadata": {
        "id": "IpHw9SPhbg6X",
        "colab_type": "code",
        "colab": {},
        "outputId": "ee39b842-2b50-4b38-e549-b94540d1e5bc"
      },
      "source": [
        "a = np.array([1, 2]) #Existing arrays are not copied\n",
        "type(a)"
      ],
      "execution_count": null,
      "outputs": [
        {
          "output_type": "execute_result",
          "data": {
            "text/plain": [
              "numpy.ndarray"
            ]
          },
          "metadata": {
            "tags": []
          },
          "execution_count": 31
        }
      ]
    },
    {
      "cell_type": "code",
      "metadata": {
        "id": "bqDZ8_d-bg6a",
        "colab_type": "code",
        "colab": {},
        "outputId": "c79358ef-85c6-4425-9391-91467b8f143d"
      },
      "source": [
        "np.asarray((1,2))"
      ],
      "execution_count": null,
      "outputs": [
        {
          "output_type": "execute_result",
          "data": {
            "text/plain": [
              "array([1, 2])"
            ]
          },
          "metadata": {
            "tags": []
          },
          "execution_count": 42
        }
      ]
    },
    {
      "cell_type": "code",
      "metadata": {
        "collapsed": true,
        "id": "IMc21Y9Abg6c",
        "colab_type": "code",
        "colab": {}
      },
      "source": [
        "#If dtype is set, array is copied only if dtype does not match:"
      ],
      "execution_count": null,
      "outputs": []
    },
    {
      "cell_type": "code",
      "metadata": {
        "id": "mGWUcPGGbg6f",
        "colab_type": "code",
        "colab": {},
        "outputId": "14940d00-60cb-4820-8781-134004751258"
      },
      "source": [
        "a = np.array([1, 2], dtype=np.float32)\n",
        "a"
      ],
      "execution_count": null,
      "outputs": [
        {
          "output_type": "execute_result",
          "data": {
            "text/plain": [
              "array([1., 2.], dtype=float32)"
            ]
          },
          "metadata": {
            "tags": []
          },
          "execution_count": 43
        }
      ]
    },
    {
      "cell_type": "code",
      "metadata": {
        "id": "ahGLTBsTbg6h",
        "colab_type": "code",
        "colab": {},
        "outputId": "faf1c313-7eed-4c2c-fbec-ea7f0af03957"
      },
      "source": [
        "np.asarray([1,2]) is a"
      ],
      "execution_count": null,
      "outputs": [
        {
          "output_type": "execute_result",
          "data": {
            "text/plain": [
              "False"
            ]
          },
          "metadata": {
            "tags": []
          },
          "execution_count": 33
        }
      ]
    },
    {
      "cell_type": "code",
      "metadata": {
        "id": "IK1cr0sabg6k",
        "colab_type": "code",
        "colab": {},
        "outputId": "db99dbdf-386e-4294-a33f-2336fe3c0066"
      },
      "source": [
        "np.asarray([1,2])"
      ],
      "execution_count": null,
      "outputs": [
        {
          "output_type": "execute_result",
          "data": {
            "text/plain": [
              "array([1, 2])"
            ]
          },
          "metadata": {
            "tags": []
          },
          "execution_count": 36
        }
      ]
    },
    {
      "cell_type": "code",
      "metadata": {
        "id": "yeWKvEIFbg6o",
        "colab_type": "code",
        "colab": {},
        "outputId": "33993894-4649-4913-d6e2-6cd878b0ead0"
      },
      "source": [
        "np.asarray(a, dtype=np.float64) is a"
      ],
      "execution_count": null,
      "outputs": [
        {
          "output_type": "execute_result",
          "data": {
            "text/plain": [
              "False"
            ]
          },
          "metadata": {
            "tags": []
          },
          "execution_count": 34
        }
      ]
    },
    {
      "cell_type": "code",
      "metadata": {
        "collapsed": true,
        "id": "bp0moBMPbg6r",
        "colab_type": "code",
        "colab": {}
      },
      "source": [
        "# ndarray subclasses are not passed through"
      ],
      "execution_count": null,
      "outputs": []
    },
    {
      "cell_type": "code",
      "metadata": {
        "id": "MxhZlGmhbg6u",
        "colab_type": "code",
        "colab": {},
        "outputId": "9d6aa81f-a3b1-42ba-de14-e26b3d1302d6"
      },
      "source": [
        "issubclass(np.matrix, np.ndarray)"
      ],
      "execution_count": null,
      "outputs": [
        {
          "output_type": "execute_result",
          "data": {
            "text/plain": [
              "True"
            ]
          },
          "metadata": {
            "tags": []
          },
          "execution_count": 44
        }
      ]
    },
    {
      "cell_type": "code",
      "metadata": {
        "id": "phsvyHhmbg6y",
        "colab_type": "code",
        "colab": {},
        "outputId": "05eaf0f9-0fe5-4602-d494-9d64e297a668"
      },
      "source": [
        "a = np.matrix([[1, 2]])\n",
        "np.asanyarray(a)\n"
      ],
      "execution_count": null,
      "outputs": [
        {
          "output_type": "execute_result",
          "data": {
            "text/plain": [
              "matrix([[1, 2]])"
            ]
          },
          "metadata": {
            "tags": []
          },
          "execution_count": 48
        }
      ]
    },
    {
      "cell_type": "code",
      "metadata": {
        "id": "WJCFPn9ubg61",
        "colab_type": "code",
        "colab": {},
        "outputId": "46dfe6f8-18ca-4d3a-a743-5d7cedc2deda"
      },
      "source": [
        "np.asarray(a) is a"
      ],
      "execution_count": null,
      "outputs": [
        {
          "output_type": "execute_result",
          "data": {
            "text/plain": [
              "False"
            ]
          },
          "metadata": {
            "tags": []
          },
          "execution_count": 49
        }
      ]
    },
    {
      "cell_type": "code",
      "metadata": {
        "id": "EQbbcf39bg67",
        "colab_type": "code",
        "colab": {},
        "outputId": "bc39ebe4-58ff-4b29-8c73-23a3da9c75d2"
      },
      "source": [
        "np.asanyarray(a) is a"
      ],
      "execution_count": null,
      "outputs": [
        {
          "output_type": "execute_result",
          "data": {
            "text/plain": [
              "True"
            ]
          },
          "metadata": {
            "tags": []
          },
          "execution_count": 50
        }
      ]
    },
    {
      "cell_type": "code",
      "metadata": {
        "id": "bS__E0WWbg6-",
        "colab_type": "code",
        "colab": {},
        "outputId": "25e1cc09-c399-4b4c-fac7-97d200da6c4c"
      },
      "source": [
        "type(np.asarray(a))"
      ],
      "execution_count": null,
      "outputs": [
        {
          "output_type": "execute_result",
          "data": {
            "text/plain": [
              "numpy.ndarray"
            ]
          },
          "metadata": {
            "tags": []
          },
          "execution_count": 51
        }
      ]
    },
    {
      "cell_type": "markdown",
      "metadata": {
        "id": "5yeEzT4obg7A",
        "colab_type": "text"
      },
      "source": [
        "# numpy.asanyarray"
      ]
    },
    {
      "cell_type": "code",
      "metadata": {
        "id": "BMZu7xXubg7B",
        "colab_type": "code",
        "colab": {},
        "outputId": "924aac17-51ee-46d7-d97c-b6eff4a09e12"
      },
      "source": [
        "a = [1, 2]\n",
        "np.asanyarray(a)"
      ],
      "execution_count": null,
      "outputs": [
        {
          "output_type": "execute_result",
          "data": {
            "text/plain": [
              "array([1, 2])"
            ]
          },
          "metadata": {
            "tags": []
          },
          "execution_count": 50
        }
      ]
    },
    {
      "cell_type": "code",
      "metadata": {
        "id": "pLJjQ819bg7E",
        "colab_type": "code",
        "colab": {},
        "outputId": "daae00ec-2df8-4819-8153-337f66ac878e"
      },
      "source": [
        "a = np.matrix([1, 2])\n",
        "a"
      ],
      "execution_count": null,
      "outputs": [
        {
          "output_type": "execute_result",
          "data": {
            "text/plain": [
              "matrix([[1, 2]])"
            ]
          },
          "metadata": {
            "tags": []
          },
          "execution_count": 86
        }
      ]
    },
    {
      "cell_type": "code",
      "metadata": {
        "id": "j2X7bIwebg7G",
        "colab_type": "code",
        "colab": {},
        "outputId": "481f49ed-6157-4a9d-cfae-c18c9cab8a6e"
      },
      "source": [
        "np.asanyarray([1,2]) is a"
      ],
      "execution_count": null,
      "outputs": [
        {
          "output_type": "execute_result",
          "data": {
            "text/plain": [
              "True"
            ]
          },
          "metadata": {
            "tags": []
          },
          "execution_count": 52
        }
      ]
    },
    {
      "cell_type": "markdown",
      "metadata": {
        "id": "x0Uf3zbObg7J",
        "colab_type": "raw"
      },
      "source": [
        "#numpy.copy"
      ]
    },
    {
      "cell_type": "code",
      "metadata": {
        "id": "YVR6S6PFbg7K",
        "colab_type": "code",
        "colab": {},
        "outputId": "2565de04-0b18-4d84-e48e-fb1d0fbc33e3"
      },
      "source": [
        "np.array(a, copy=True)  "
      ],
      "execution_count": null,
      "outputs": [
        {
          "output_type": "execute_result",
          "data": {
            "text/plain": [
              "array([[1, 2]])"
            ]
          },
          "metadata": {
            "tags": []
          },
          "execution_count": 52
        }
      ]
    },
    {
      "cell_type": "code",
      "metadata": {
        "collapsed": true,
        "id": "UkZ9xGM6bg7M",
        "colab_type": "code",
        "colab": {}
      },
      "source": [
        "#Create an array x, with a reference y and a copy z:"
      ],
      "execution_count": null,
      "outputs": []
    },
    {
      "cell_type": "code",
      "metadata": {
        "id": "Z-qXxI1rbg7O",
        "colab_type": "code",
        "colab": {},
        "outputId": "c82dcd9f-5e0f-4b31-858c-348c4a0307e4"
      },
      "source": [
        "x = np.array([1, 2, 3])\n",
        "x\n",
        "y"
      ],
      "execution_count": null,
      "outputs": [
        {
          "output_type": "execute_result",
          "data": {
            "text/plain": [
              "array([1, 2, 3])"
            ]
          },
          "metadata": {
            "tags": []
          },
          "execution_count": 56
        }
      ]
    },
    {
      "cell_type": "code",
      "metadata": {
        "id": "8rzqnK4Mbg7Q",
        "colab_type": "code",
        "colab": {}
      },
      "source": [
        "y = x"
      ],
      "execution_count": null,
      "outputs": []
    },
    {
      "cell_type": "code",
      "metadata": {
        "id": "OCsxz5tmbg7T",
        "colab_type": "code",
        "colab": {}
      },
      "source": [
        "z = np.copy(x)"
      ],
      "execution_count": null,
      "outputs": []
    },
    {
      "cell_type": "code",
      "metadata": {
        "id": "-42rGL9jbg7W",
        "colab_type": "code",
        "colab": {},
        "outputId": "1ce18fb0-c64a-48a2-aff0-aea48a00d4b7"
      },
      "source": [
        "y[0] = 100\n",
        "x"
      ],
      "execution_count": null,
      "outputs": [
        {
          "output_type": "execute_result",
          "data": {
            "text/plain": [
              "array([100,   2,   3])"
            ]
          },
          "metadata": {
            "tags": []
          },
          "execution_count": 64
        }
      ]
    },
    {
      "cell_type": "code",
      "metadata": {
        "id": "Si4kcb--bg7Z",
        "colab_type": "code",
        "colab": {},
        "outputId": "7f43181f-6810-4d0f-97a6-a1a6a83e3256"
      },
      "source": [
        "x"
      ],
      "execution_count": null,
      "outputs": [
        {
          "output_type": "execute_result",
          "data": {
            "text/plain": [
              "array([100,   2,   3])"
            ]
          },
          "metadata": {
            "tags": []
          },
          "execution_count": 78
        }
      ]
    },
    {
      "cell_type": "code",
      "metadata": {
        "id": "MoYzPIIibg7c",
        "colab_type": "code",
        "colab": {},
        "outputId": "ced22a4e-4c0e-4e3c-df95-21152c255649"
      },
      "source": [
        "id(x[0])"
      ],
      "execution_count": null,
      "outputs": [
        {
          "output_type": "execute_result",
          "data": {
            "text/plain": [
              "4767545360"
            ]
          },
          "metadata": {
            "tags": []
          },
          "execution_count": 89
        }
      ]
    },
    {
      "cell_type": "code",
      "metadata": {
        "id": "XBU8mWNhbg7f",
        "colab_type": "code",
        "colab": {},
        "outputId": "132a96e8-fe7d-4447-ff7b-2a930a8ab8a3"
      },
      "source": [
        "id(y[0])"
      ],
      "execution_count": null,
      "outputs": [
        {
          "output_type": "execute_result",
          "data": {
            "text/plain": [
              "4767545408"
            ]
          },
          "metadata": {
            "tags": []
          },
          "execution_count": 91
        }
      ]
    },
    {
      "cell_type": "code",
      "metadata": {
        "id": "9793T2jObg7h",
        "colab_type": "code",
        "colab": {}
      },
      "source": [
        ""
      ],
      "execution_count": null,
      "outputs": []
    },
    {
      "cell_type": "code",
      "metadata": {
        "id": "Pq1-ioevbg7j",
        "colab_type": "code",
        "colab": {},
        "outputId": "25fe8fdf-ae01-4a64-c913-45fe1ba1c6f0"
      },
      "source": [
        "id(x) "
      ],
      "execution_count": null,
      "outputs": [
        {
          "output_type": "execute_result",
          "data": {
            "text/plain": [
              "4768156128"
            ]
          },
          "metadata": {
            "tags": []
          },
          "execution_count": 92
        }
      ]
    },
    {
      "cell_type": "code",
      "metadata": {
        "id": "KW8Zbeoabg7l",
        "colab_type": "code",
        "colab": {},
        "outputId": "ad6dd236-6608-4150-d177-ecc76494b78f"
      },
      "source": [
        "id(y)"
      ],
      "execution_count": null,
      "outputs": [
        {
          "output_type": "execute_result",
          "data": {
            "text/plain": [
              "4768156128"
            ]
          },
          "metadata": {
            "tags": []
          },
          "execution_count": 93
        }
      ]
    },
    {
      "cell_type": "markdown",
      "metadata": {
        "id": "SAz2V8gdbg7n",
        "colab_type": "text"
      },
      "source": [
        "# numpy.fromfunction"
      ]
    },
    {
      "cell_type": "code",
      "metadata": {
        "collapsed": true,
        "id": "7lAJnCGabg7o",
        "colab_type": "code",
        "colab": {}
      },
      "source": [
        "#Construct an array by executing a function over each coordinate."
      ],
      "execution_count": null,
      "outputs": []
    },
    {
      "cell_type": "code",
      "metadata": {
        "id": "YbyduW6bbg7q",
        "colab_type": "code",
        "colab": {},
        "outputId": "04fa8bcf-fd75-42c6-8eb1-3b7d2cf04dbf"
      },
      "source": [
        "np.fromfunction(lambda i, j: i == j, (3, 3), dtype=int)"
      ],
      "execution_count": null,
      "outputs": [
        {
          "output_type": "execute_result",
          "data": {
            "text/plain": [
              "array([[ True, False, False],\n",
              "       [False,  True, False],\n",
              "       [False, False,  True]])"
            ]
          },
          "metadata": {
            "tags": []
          },
          "execution_count": 94
        }
      ]
    },
    {
      "cell_type": "code",
      "metadata": {
        "id": "06M7gvZrbg7s",
        "colab_type": "code",
        "colab": {},
        "outputId": "460465ea-0209-4534-8a7d-c7c448d54b11"
      },
      "source": [
        "np.fromfunction(lambda i, j: i * j, (3, 3), dtype=int)"
      ],
      "execution_count": null,
      "outputs": [
        {
          "output_type": "execute_result",
          "data": {
            "text/plain": [
              "array([[0, 0, 0],\n",
              "       [0, 1, 2],\n",
              "       [0, 2, 4]])"
            ]
          },
          "metadata": {
            "tags": []
          },
          "execution_count": 119
        }
      ]
    },
    {
      "cell_type": "code",
      "metadata": {
        "collapsed": true,
        "id": "1hqTDhasbg7u",
        "colab_type": "code",
        "colab": {}
      },
      "source": [
        "#Create a new 1-dimensional array from an iterable object."
      ],
      "execution_count": null,
      "outputs": []
    },
    {
      "cell_type": "code",
      "metadata": {
        "id": "ndjFmfyZbg7x",
        "colab_type": "code",
        "colab": {},
        "outputId": "407b4881-9cdd-4a4c-ae2e-008304cd1097"
      },
      "source": [
        "iterable = (x*x for x in range(5))\n",
        "iterable"
      ],
      "execution_count": null,
      "outputs": [
        {
          "output_type": "execute_result",
          "data": {
            "text/plain": [
              "<generator object <genexpr> at 0x11c326b10>"
            ]
          },
          "metadata": {
            "tags": []
          },
          "execution_count": 97
        }
      ]
    },
    {
      "cell_type": "code",
      "metadata": {
        "id": "f1vhw8F-bg71",
        "colab_type": "code",
        "colab": {},
        "outputId": "8cf22cdd-fe0b-45d1-f0fe-b2522faa37a3"
      },
      "source": [
        "np.fromiter(iterable, float)"
      ],
      "execution_count": null,
      "outputs": [
        {
          "output_type": "execute_result",
          "data": {
            "text/plain": [
              "array([ 0.,  1.,  4.,  9., 16.])"
            ]
          },
          "metadata": {
            "tags": []
          },
          "execution_count": 98
        }
      ]
    },
    {
      "cell_type": "code",
      "metadata": {
        "collapsed": true,
        "id": "seSbH1Rhbg74",
        "colab_type": "code",
        "colab": {}
      },
      "source": [
        "#A new 1-D array initialized from text data in a string"
      ],
      "execution_count": null,
      "outputs": []
    },
    {
      "cell_type": "code",
      "metadata": {
        "id": "B-IeldY8bg76",
        "colab_type": "code",
        "colab": {},
        "outputId": "bfe44f74-e5ed-4513-858b-995368808084"
      },
      "source": [
        "a = np.fromstring('234 234',sep=' ')\n",
        "a"
      ],
      "execution_count": null,
      "outputs": [
        {
          "output_type": "execute_result",
          "data": {
            "text/plain": [
              "array([234., 234.])"
            ]
          },
          "metadata": {
            "tags": []
          },
          "execution_count": 101
        }
      ]
    },
    {
      "cell_type": "code",
      "metadata": {
        "id": "oVX-IbGWbg78",
        "colab_type": "code",
        "colab": {},
        "outputId": "939d0109-a238-4d5c-8f59-dc2574158a17"
      },
      "source": [
        "np.fromstring('1, 2', dtype=int, sep=',')"
      ],
      "execution_count": null,
      "outputs": [
        {
          "output_type": "execute_result",
          "data": {
            "text/plain": [
              "array([1, 2])"
            ]
          },
          "metadata": {
            "tags": []
          },
          "execution_count": 102
        }
      ]
    },
    {
      "cell_type": "code",
      "metadata": {
        "collapsed": true,
        "id": "VTkkzf2ibg8A",
        "colab_type": "code",
        "colab": {}
      },
      "source": [
        "# How to create create a record array from a (flat) list of arrays"
      ],
      "execution_count": null,
      "outputs": []
    },
    {
      "cell_type": "code",
      "metadata": {
        "id": "UIB3ftZHbg8B",
        "colab_type": "code",
        "colab": {}
      },
      "source": [
        "x1=np.array([1,2,3,4])"
      ],
      "execution_count": null,
      "outputs": []
    },
    {
      "cell_type": "code",
      "metadata": {
        "id": "MZ7KvC-kbg8D",
        "colab_type": "code",
        "colab": {}
      },
      "source": [
        "x2=np.array(['a','dd','xyz','12'])"
      ],
      "execution_count": null,
      "outputs": []
    },
    {
      "cell_type": "code",
      "metadata": {
        "id": "UjZI1AJTbg8F",
        "colab_type": "code",
        "colab": {},
        "outputId": "9b64fc8b-d620-4150-b210-d3a6a4d88489"
      },
      "source": [
        "x3=np.array([1.1,2,3,4])\n",
        "x4=np.array([1.1,2,3,4])\n",
        "type(x4)"
      ],
      "execution_count": null,
      "outputs": [
        {
          "output_type": "execute_result",
          "data": {
            "text/plain": [
              "numpy.ndarray"
            ]
          },
          "metadata": {
            "tags": []
          },
          "execution_count": 117
        }
      ]
    },
    {
      "cell_type": "code",
      "metadata": {
        "id": "UJsOMeojbg8H",
        "colab_type": "code",
        "colab": {},
        "outputId": "1bb7282b-d49d-40f9-85ed-9293f3302598"
      },
      "source": [
        "r = np.core.records.fromarrays([x1,x2,x3,x4],names='a,b,c,d')\n",
        "r"
      ],
      "execution_count": null,
      "outputs": [
        {
          "output_type": "execute_result",
          "data": {
            "text/plain": [
              "rec.array([(1, 'a', 1.1, 1.1), (2, 'dd', 2. , 2. ), (3, 'xyz', 3. , 3. ),\n",
              "           (4, '12', 4. , 4. )],\n",
              "          dtype=[('a', '<i8'), ('b', '<U3'), ('c', '<f8'), ('d', '<f8')])"
            ]
          },
          "metadata": {
            "tags": []
          },
          "execution_count": 118
        }
      ]
    },
    {
      "cell_type": "code",
      "metadata": {
        "id": "laodNOHwbg8I",
        "colab_type": "code",
        "colab": {},
        "outputId": "1d039313-744c-4e3d-c4c7-c7c057d198b1"
      },
      "source": [
        "print(r[1][\"a\"])"
      ],
      "execution_count": null,
      "outputs": [
        {
          "output_type": "stream",
          "text": [
            "2\n"
          ],
          "name": "stdout"
        }
      ]
    },
    {
      "cell_type": "markdown",
      "metadata": {
        "id": "Ky40sbbXbg8K",
        "colab_type": "raw"
      },
      "source": [
        "x1[1]=34"
      ]
    },
    {
      "cell_type": "code",
      "metadata": {
        "id": "l2ulySisbg8L",
        "colab_type": "code",
        "colab": {},
        "outputId": "e635c3d5-4b9d-41d4-a3e9-762bd3232f12"
      },
      "source": [
        "x1[1]"
      ],
      "execution_count": null,
      "outputs": [
        {
          "output_type": "execute_result",
          "data": {
            "text/plain": [
              "2"
            ]
          },
          "metadata": {
            "tags": []
          },
          "execution_count": 130
        }
      ]
    },
    {
      "cell_type": "markdown",
      "metadata": {
        "id": "dUi70s60bg8M",
        "colab_type": "text"
      },
      "source": [
        "# data types"
      ]
    },
    {
      "cell_type": "code",
      "metadata": {
        "id": "XwDDKqj3bg8N",
        "colab_type": "code",
        "colab": {},
        "outputId": "bdb522d6-2ec3-4b17-f2a7-f07b7b7335f4"
      },
      "source": [
        "my_list = [1,2,3]\n",
        "import numpy as np\n",
        "arr = np.array(my_list)\n",
        "print(\"Type/Class of this object:\",type(arr))\n",
        "print(\"Here is the vector\\n--------------------\\n\",arr)"
      ],
      "execution_count": null,
      "outputs": [
        {
          "output_type": "stream",
          "text": [
            "Type/Class of this object: <class 'numpy.ndarray'>\n",
            "Here is the vector\n",
            "--------------------\n",
            " [1 2 3]\n"
          ],
          "name": "stdout"
        }
      ]
    },
    {
      "cell_type": "code",
      "metadata": {
        "id": "znF-Q-a5bg8P",
        "colab_type": "code",
        "colab": {},
        "outputId": "01547b52-ef92-482e-eb4b-33a0a69f5e71"
      },
      "source": [
        "my_mat = [[1,2,3],[4,5,6],[7,8,9]]\n",
        "mat = np.array(my_mat)\n",
        "print(\"Type/Class of this object:\",type(mat))\n",
        "print(\"Here is the matrix\\n----------\\n\",mat,\"\\n----------\")\n",
        "print(\"Dimension of this matrix: \",mat.ndim,sep='') #ndim gives the dimensison, 2 for a matrix, 1 for a vector\n",
        "print(\"Size of this matrix: \", mat.size,sep='') #size gives the total number of elements\n",
        "print(\"Shape of this matrix: \", mat.shape,sep='') #shape gives the number of elements along each axes (dimension)\n",
        "print(\"Data type of this matrix: \", mat.dtype,sep='') #dtype gives the data type contained in the array\n"
      ],
      "execution_count": null,
      "outputs": [
        {
          "output_type": "stream",
          "text": [
            "Type/Class of this object: <class 'numpy.ndarray'>\n",
            "Here is the matrix\n",
            "----------\n",
            " [[1 2 3]\n",
            " [4 5 6]\n",
            " [7 8 9]] \n",
            "----------\n",
            "Dimension of this matrix: 2\n",
            "Size of this matrix: 9\n",
            "Shape of this matrix: (3, 3)\n",
            "Data type of this matrix: int64\n"
          ],
          "name": "stdout"
        }
      ]
    },
    {
      "cell_type": "code",
      "metadata": {
        "id": "bVv6DRFgbg8R",
        "colab_type": "code",
        "colab": {},
        "outputId": "68121e0c-5fcb-427e-8922-7643c47fadec"
      },
      "source": [
        "my_mat = [[1.1,2,3],[4,5.2,6],[7,8.3,9]]\n",
        "mat = np.array(my_mat)\n",
        "print(\"Data type of the modified matrix: \", mat.dtype,sep='') #dtype gives the data type contained in the array\n",
        "print(\"\\n\\nEven tuples can be converted to ndarrays...\")\n"
      ],
      "execution_count": null,
      "outputs": [
        {
          "output_type": "stream",
          "text": [
            "Data type of the modified matrix: float64\n",
            "\n",
            "\n",
            "Even tuples can be converted to ndarrays...\n"
          ],
          "name": "stdout"
        }
      ]
    },
    {
      "cell_type": "code",
      "metadata": {
        "id": "z6MCUcT8bg8S",
        "colab_type": "code",
        "colab": {},
        "outputId": "3f787714-642f-4b86-adf9-43861d65cb34"
      },
      "source": [
        "b = np.array([(1.5,2,3), (4,5,6)])\n",
        "print(\"We write b = np.array([(1.5,2,3), (4,5,6)])\")\n",
        "print(\"Matrix made from tuples, not lists\\n---------------------------------------\")\n",
        "print(b)"
      ],
      "execution_count": null,
      "outputs": [
        {
          "output_type": "stream",
          "text": [
            "We write b = np.array([(1.5,2,3), (4,5,6)])\n",
            "Matrix made from tuples, not lists\n",
            "---------------------------------------\n",
            "[[1.5 2.  3. ]\n",
            " [4.  5.  6. ]]\n"
          ],
          "name": "stdout"
        }
      ]
    },
    {
      "cell_type": "markdown",
      "metadata": {
        "id": "Q_L-uxBabg8T",
        "colab_type": "text"
      },
      "source": [
        "# arange and linspace"
      ]
    },
    {
      "cell_type": "code",
      "metadata": {
        "id": "nBXKCr92bg8U",
        "colab_type": "code",
        "colab": {},
        "outputId": "1d532b0c-06f4-4ea4-c62f-2ed56f4efe4e"
      },
      "source": [
        "print(\"A series of numbers:\",type(np.arange(5,16)))\n",
        "np.arange(5,16,2.3)# A series of numbers from low to high"
      ],
      "execution_count": null,
      "outputs": [
        {
          "output_type": "stream",
          "text": [
            "A series of numbers: <class 'numpy.ndarray'>\n"
          ],
          "name": "stdout"
        },
        {
          "output_type": "execute_result",
          "data": {
            "text/plain": [
              "array([ 5. ,  7.3,  9.6, 11.9, 14.2])"
            ]
          },
          "metadata": {
            "tags": []
          },
          "execution_count": 127
        }
      ]
    },
    {
      "cell_type": "code",
      "metadata": {
        "id": "BMY4wOysbg8X",
        "colab_type": "code",
        "colab": {},
        "outputId": "f999f6fb-dacd-461a-b209-b0408f81e927"
      },
      "source": [
        "list(range(5,16,2))"
      ],
      "execution_count": null,
      "outputs": [
        {
          "output_type": "execute_result",
          "data": {
            "text/plain": [
              "[5, 7, 9, 11, 13, 15]"
            ]
          },
          "metadata": {
            "tags": []
          },
          "execution_count": 128
        }
      ]
    },
    {
      "cell_type": "code",
      "metadata": {
        "id": "ERf3U4z-bg8Y",
        "colab_type": "code",
        "colab": {},
        "outputId": "053af828-c1f8-4e4e-864f-f25c1573c013"
      },
      "source": [
        "list(range(50,-1,5))"
      ],
      "execution_count": null,
      "outputs": [
        {
          "output_type": "execute_result",
          "data": {
            "text/plain": [
              "[]"
            ]
          },
          "metadata": {
            "tags": []
          },
          "execution_count": 129
        }
      ]
    },
    {
      "cell_type": "code",
      "metadata": {
        "id": "wMW1nCWXbg8a",
        "colab_type": "code",
        "colab": {},
        "outputId": "5544e730-bfaa-44c6-835c-4d36ef0baff5"
      },
      "source": [
        "print(\"Numbers spaced apart by 2:\",np.arange(50,-1,5)) # Numbers spaced apart by 2"
      ],
      "execution_count": null,
      "outputs": [
        {
          "output_type": "stream",
          "text": [
            "Numbers spaced apart by 2: []\n"
          ],
          "name": "stdout"
        }
      ]
    },
    {
      "cell_type": "code",
      "metadata": {
        "id": "enA6sIk1bg8c",
        "colab_type": "code",
        "colab": {},
        "outputId": "65cf98f6-27e8-461c-814c-3e2225c13167"
      },
      "source": [
        "print(\"Numbers spaced apart by float:\",np.arange(0,11,2.5)) # Numbers spaced apart by 2.5"
      ],
      "execution_count": null,
      "outputs": [
        {
          "output_type": "stream",
          "text": [
            "Numbers spaced apart by float: [ 0.   2.5  5.   7.5 10. ]\n"
          ],
          "name": "stdout"
        }
      ]
    },
    {
      "cell_type": "code",
      "metadata": {
        "id": "Tqb9u3M9bg8d",
        "colab_type": "code",
        "colab": {},
        "outputId": "0a9e1889-fd8a-4171-9b98-1a2b8bd09658"
      },
      "source": [
        "print(\"Every 5th number from 50 in reverse order\\n\",np.arange(5.0,-1,-5))"
      ],
      "execution_count": null,
      "outputs": [
        {
          "output_type": "stream",
          "text": [
            "Every 5th number from 50 in reverse order\n",
            " [5. 0.]\n"
          ],
          "name": "stdout"
        }
      ]
    },
    {
      "cell_type": "code",
      "metadata": {
        "id": "T_32qe1Lbg8f",
        "colab_type": "code",
        "colab": {},
        "outputId": "be2c5cc0-d023-4b21-aca1-5b6a83f54715"
      },
      "source": [
        "print(\"21 linearly spaced numbers between 1 and 5\\n--------------------------------------------\")\n",
        "print((np.linspace(1,5,50)))"
      ],
      "execution_count": null,
      "outputs": [
        {
          "output_type": "stream",
          "text": [
            "21 linearly spaced numbers between 1 and 5\n",
            "--------------------------------------------\n",
            "[1.         1.08163265 1.16326531 1.24489796 1.32653061 1.40816327\n",
            " 1.48979592 1.57142857 1.65306122 1.73469388 1.81632653 1.89795918\n",
            " 1.97959184 2.06122449 2.14285714 2.2244898  2.30612245 2.3877551\n",
            " 2.46938776 2.55102041 2.63265306 2.71428571 2.79591837 2.87755102\n",
            " 2.95918367 3.04081633 3.12244898 3.20408163 3.28571429 3.36734694\n",
            " 3.44897959 3.53061224 3.6122449  3.69387755 3.7755102  3.85714286\n",
            " 3.93877551 4.02040816 4.10204082 4.18367347 4.26530612 4.34693878\n",
            " 4.42857143 4.51020408 4.59183673 4.67346939 4.75510204 4.83673469\n",
            " 4.91836735 5.        ]\n"
          ],
          "name": "stdout"
        }
      ]
    },
    {
      "cell_type": "markdown",
      "metadata": {
        "id": "AIOhg-e4bg8h",
        "colab_type": "text"
      },
      "source": [
        "# Matrix creation"
      ]
    },
    {
      "cell_type": "code",
      "metadata": {
        "id": "7w62xOYcbg8i",
        "colab_type": "code",
        "colab": {},
        "outputId": "d62e9b55-9230-4587-edfc-a3b2d835d130"
      },
      "source": [
        "print(\"Vector of zeroes\\n---------------------\")\n",
        "print(np.zeros(5))"
      ],
      "execution_count": null,
      "outputs": [
        {
          "output_type": "stream",
          "text": [
            "Vector of zeroes\n",
            "---------------------\n",
            "[0. 0. 0. 0. 0.]\n"
          ],
          "name": "stdout"
        }
      ]
    },
    {
      "cell_type": "code",
      "metadata": {
        "id": "lQg-JD_Fbg8j",
        "colab_type": "code",
        "colab": {},
        "outputId": "5697ab54-b9b7-417b-b058-d595a40694b3"
      },
      "source": [
        "print(\"Matrix of zeroes\\n--------------------\")\n",
        "print(np.zeros((3,4))) # Notice Tuples"
      ],
      "execution_count": null,
      "outputs": [
        {
          "output_type": "stream",
          "text": [
            "Matrix of zeroes\n",
            "--------------------\n",
            "[[0. 0. 0. 0.]\n",
            " [0. 0. 0. 0.]\n",
            " [0. 0. 0. 0.]]\n"
          ],
          "name": "stdout"
        }
      ]
    },
    {
      "cell_type": "code",
      "metadata": {
        "id": "OpmhSRBabg8l",
        "colab_type": "code",
        "colab": {},
        "outputId": "0233b054-d4f2-4fa2-cba9-86de0313a7ce"
      },
      "source": [
        "print(\"Vector of ones\\n---------------------\")\n",
        "print(np.ones(5))"
      ],
      "execution_count": null,
      "outputs": [
        {
          "output_type": "stream",
          "text": [
            "Vector of ones\n",
            "---------------------\n",
            "[1. 1. 1. 1. 1.]\n"
          ],
          "name": "stdout"
        }
      ]
    },
    {
      "cell_type": "code",
      "metadata": {
        "id": "b4NdlMRlbg8n",
        "colab_type": "code",
        "colab": {},
        "outputId": "9bd03074-690d-4967-e468-5cb97cfbbf61"
      },
      "source": [
        "print(\"Matrix of ones\\n---------------------\")\n",
        "print(np.ones((5,2,8))) # Note matrix dimension specified by Tuples\n"
      ],
      "execution_count": null,
      "outputs": [
        {
          "output_type": "stream",
          "text": [
            "Matrix of ones\n",
            "---------------------\n",
            "[[[1. 1. 1. 1. 1. 1. 1. 1.]\n",
            "  [1. 1. 1. 1. 1. 1. 1. 1.]]\n",
            "\n",
            " [[1. 1. 1. 1. 1. 1. 1. 1.]\n",
            "  [1. 1. 1. 1. 1. 1. 1. 1.]]\n",
            "\n",
            " [[1. 1. 1. 1. 1. 1. 1. 1.]\n",
            "  [1. 1. 1. 1. 1. 1. 1. 1.]]\n",
            "\n",
            " [[1. 1. 1. 1. 1. 1. 1. 1.]\n",
            "  [1. 1. 1. 1. 1. 1. 1. 1.]]\n",
            "\n",
            " [[1. 1. 1. 1. 1. 1. 1. 1.]\n",
            "  [1. 1. 1. 1. 1. 1. 1. 1.]]]\n"
          ],
          "name": "stdout"
        }
      ]
    },
    {
      "cell_type": "code",
      "metadata": {
        "id": "emyDtQfpbg8o",
        "colab_type": "code",
        "colab": {},
        "outputId": "db5a92ec-aa3f-41f4-c1bd-9c164ebde52b"
      },
      "source": [
        "print(\"Matrix of 5's\\n---------------------\")\n",
        "print(5+np.ones((3,5)))"
      ],
      "execution_count": null,
      "outputs": [
        {
          "output_type": "stream",
          "text": [
            "Matrix of 5's\n",
            "---------------------\n",
            "[[6. 6. 6. 6. 6.]\n",
            " [6. 6. 6. 6. 6.]\n",
            " [6. 6. 6. 6. 6.]]\n"
          ],
          "name": "stdout"
        }
      ]
    },
    {
      "cell_type": "code",
      "metadata": {
        "id": "bwL6GgvVbg8q",
        "colab_type": "code",
        "colab": {},
        "outputId": "dea7c07a-2f56-4580-a37f-d472b4a6b251"
      },
      "source": [
        "print(\"Empty matrix\\n-------------\\n\", np.empty((3,5)))"
      ],
      "execution_count": null,
      "outputs": [
        {
          "output_type": "stream",
          "text": [
            "Empty matrix\n",
            "-------------\n",
            " [[6. 6. 6. 6. 6.]\n",
            " [6. 6. 6. 6. 6.]\n",
            " [6. 6. 6. 6. 6.]]\n"
          ],
          "name": "stdout"
        }
      ]
    },
    {
      "cell_type": "code",
      "metadata": {
        "scrolled": true,
        "id": "6fJriH9Abg8s",
        "colab_type": "code",
        "colab": {},
        "outputId": "275172fe-125a-44bd-9f20-c271c92aea63"
      },
      "source": [
        "mat1 = np.eye(4) \n",
        "print(\"Identity matrix of dimension\", mat1.shape)\n",
        "print(mat1)"
      ],
      "execution_count": null,
      "outputs": [
        {
          "output_type": "stream",
          "text": [
            "Identity matrix of dimension (4, 4)\n",
            "[[1. 0. 0. 0.]\n",
            " [0. 1. 0. 0.]\n",
            " [0. 0. 1. 0.]\n",
            " [0. 0. 0. 1.]]\n"
          ],
          "name": "stdout"
        }
      ]
    },
    {
      "cell_type": "code",
      "metadata": {
        "id": "6JmA1aU_bg8v",
        "colab_type": "code",
        "colab": {},
        "outputId": "5b7e52d4-40fa-44e9-cd08-ee612ec9e6cd"
      },
      "source": [
        "np.arange(3)"
      ],
      "execution_count": null,
      "outputs": [
        {
          "output_type": "execute_result",
          "data": {
            "text/plain": [
              "array([0, 1, 2])"
            ]
          },
          "metadata": {
            "tags": []
          },
          "execution_count": 132
        }
      ]
    },
    {
      "cell_type": "code",
      "metadata": {
        "id": "AMtl-SHdbg8x",
        "colab_type": "code",
        "colab": {},
        "outputId": "5e778cbf-048e-4fa3-aa26-631c9ee64f2a"
      },
      "source": [
        "np.arange(3.0)"
      ],
      "execution_count": null,
      "outputs": [
        {
          "output_type": "execute_result",
          "data": {
            "text/plain": [
              "array([0., 1., 2.])"
            ]
          },
          "metadata": {
            "tags": []
          },
          "execution_count": 80
        }
      ]
    },
    {
      "cell_type": "code",
      "metadata": {
        "id": "9zoDox-tbg8z",
        "colab_type": "code",
        "colab": {},
        "outputId": "fe62fd7a-d2d2-4401-9b89-34f5944748a0"
      },
      "source": [
        " np.arange(3,7)"
      ],
      "execution_count": null,
      "outputs": [
        {
          "output_type": "execute_result",
          "data": {
            "text/plain": [
              "array([3, 4, 5, 6])"
            ]
          },
          "metadata": {
            "tags": []
          },
          "execution_count": 81
        }
      ]
    },
    {
      "cell_type": "code",
      "metadata": {
        "id": "jBkJz25vbg80",
        "colab_type": "code",
        "colab": {},
        "outputId": "3e1c373f-fa5f-4862-ca80-ad84f25f2d23"
      },
      "source": [
        "np.arange(3,7,2)"
      ],
      "execution_count": null,
      "outputs": [
        {
          "output_type": "execute_result",
          "data": {
            "text/plain": [
              "array([3, 5])"
            ]
          },
          "metadata": {
            "tags": []
          },
          "execution_count": 82
        }
      ]
    },
    {
      "cell_type": "code",
      "metadata": {
        "id": "TgWENWBXbg81",
        "colab_type": "code",
        "colab": {},
        "outputId": "820777c1-e8d6-4a27-db89-cd9fdfd66af2"
      },
      "source": [
        "np.linspace(2.0, 3.0, num=5)"
      ],
      "execution_count": null,
      "outputs": [
        {
          "output_type": "execute_result",
          "data": {
            "text/plain": [
              "array([2.  , 2.25, 2.5 , 2.75, 3.  ])"
            ]
          },
          "metadata": {
            "tags": []
          },
          "execution_count": 150
        }
      ]
    },
    {
      "cell_type": "code",
      "metadata": {
        "id": "WZHuK3V_bg83",
        "colab_type": "code",
        "colab": {},
        "outputId": "8cb5437a-c373-4767-9e6d-5085b46afcfc"
      },
      "source": [
        "np.linspace(2.0, 3.0, num=5, endpoint=False)"
      ],
      "execution_count": null,
      "outputs": [
        {
          "output_type": "execute_result",
          "data": {
            "text/plain": [
              "array([2. , 2.2, 2.4, 2.6, 2.8])"
            ]
          },
          "metadata": {
            "tags": []
          },
          "execution_count": 151
        }
      ]
    },
    {
      "cell_type": "code",
      "metadata": {
        "id": "f_HVgjYJbg84",
        "colab_type": "code",
        "colab": {},
        "outputId": "3b25f743-9e9c-4436-a9c7-ee73393861ee"
      },
      "source": [
        "np.linspace(2.0, 3.0, num=9, retstep=True)"
      ],
      "execution_count": null,
      "outputs": [
        {
          "output_type": "execute_result",
          "data": {
            "text/plain": [
              "(array([2.   , 2.125, 2.25 , 2.375, 2.5  , 2.625, 2.75 , 2.875, 3.   ]), 0.125)"
            ]
          },
          "metadata": {
            "tags": []
          },
          "execution_count": 153
        }
      ]
    },
    {
      "cell_type": "code",
      "metadata": {
        "id": "CZP6Dv_Ybg86",
        "colab_type": "code",
        "colab": {},
        "outputId": "9247e969-a887-4ce2-f3f5-423e4db6e19b"
      },
      "source": [
        "#Return numbers spaced evenly on a log scale.\n",
        "np.linspace(2.0, 3.0, num=4)"
      ],
      "execution_count": null,
      "outputs": [
        {
          "output_type": "execute_result",
          "data": {
            "text/plain": [
              "array([2.        , 2.33333333, 2.66666667, 3.        ])"
            ]
          },
          "metadata": {
            "tags": []
          },
          "execution_count": 147
        }
      ]
    },
    {
      "cell_type": "code",
      "metadata": {
        "id": "5XZymX54bg88",
        "colab_type": "code",
        "colab": {},
        "outputId": "1374f8db-e9f2-42b7-b786-6231b42d6ce9"
      },
      "source": [
        "np.logspace(2.0, 3.0, num=4,base = 10)"
      ],
      "execution_count": null,
      "outputs": [
        {
          "output_type": "execute_result",
          "data": {
            "text/plain": [
              "array([ 100.        ,  215.443469  ,  464.15888336, 1000.        ])"
            ]
          },
          "metadata": {
            "tags": []
          },
          "execution_count": 154
        }
      ]
    },
    {
      "cell_type": "code",
      "metadata": {
        "id": "sT4OV3VAbg8-",
        "colab_type": "code",
        "colab": {},
        "outputId": "e62be450-52ae-466b-cd7f-eee9233a3626"
      },
      "source": [
        "np.logspace(2.0, 3.0, num=4, endpoint=False)"
      ],
      "execution_count": null,
      "outputs": [
        {
          "output_type": "execute_result",
          "data": {
            "text/plain": [
              "array([ 100.        ,  177.827941  ,  316.22776602,  562.34132519])"
            ]
          },
          "metadata": {
            "tags": []
          },
          "execution_count": 113
        }
      ]
    },
    {
      "cell_type": "code",
      "metadata": {
        "id": "aGoGFChvbg8_",
        "colab_type": "code",
        "colab": {},
        "outputId": "b57195ae-b7e8-4136-c544-9ccb1675c3c1"
      },
      "source": [
        "np.logspace(2.0, 3.0, num=4, base=2.0)"
      ],
      "execution_count": null,
      "outputs": [
        {
          "output_type": "execute_result",
          "data": {
            "text/plain": [
              "array([4.        , 5.0396842 , 6.34960421, 8.        ])"
            ]
          },
          "metadata": {
            "tags": []
          },
          "execution_count": 155
        }
      ]
    },
    {
      "cell_type": "code",
      "metadata": {
        "collapsed": true,
        "id": "En7swzf8bg9B",
        "colab_type": "code",
        "colab": {}
      },
      "source": [
        "#Extract a diagonal or construct a diagonal array."
      ],
      "execution_count": null,
      "outputs": []
    },
    {
      "cell_type": "code",
      "metadata": {
        "id": "5d98Mk_7bg9C",
        "colab_type": "code",
        "colab": {}
      },
      "source": [
        "x = np.arange(16).reshape((-1,4))"
      ],
      "execution_count": null,
      "outputs": []
    },
    {
      "cell_type": "code",
      "metadata": {
        "id": "QbQmisVsbg9D",
        "colab_type": "code",
        "colab": {},
        "outputId": "9a94187b-21bd-48e5-d686-efbf8a57fcb6"
      },
      "source": [
        "x"
      ],
      "execution_count": null,
      "outputs": [
        {
          "output_type": "execute_result",
          "data": {
            "text/plain": [
              "array([[ 0,  1,  2,  3],\n",
              "       [ 4,  5,  6,  7],\n",
              "       [ 8,  9, 10, 11],\n",
              "       [12, 13, 14, 15]])"
            ]
          },
          "metadata": {
            "tags": []
          },
          "execution_count": 180
        }
      ]
    },
    {
      "cell_type": "code",
      "metadata": {
        "id": "HJrq8IC5bg9G",
        "colab_type": "code",
        "colab": {},
        "outputId": "85786d5e-eeae-4b7c-ccd9-b472541a643d"
      },
      "source": [
        "np.diag(x)"
      ],
      "execution_count": null,
      "outputs": [
        {
          "output_type": "execute_result",
          "data": {
            "text/plain": [
              "array([ 0,  5, 10, 15])"
            ]
          },
          "metadata": {
            "tags": []
          },
          "execution_count": 172
        }
      ]
    },
    {
      "cell_type": "code",
      "metadata": {
        "id": "Ouo91AEYbg9H",
        "colab_type": "code",
        "colab": {},
        "outputId": "28122080-a431-450e-ec71-ff7966f1b77a"
      },
      "source": [
        "np.diag(x, k=2\n",
        "       )"
      ],
      "execution_count": null,
      "outputs": [
        {
          "output_type": "execute_result",
          "data": {
            "text/plain": [
              "array([2, 7])"
            ]
          },
          "metadata": {
            "tags": []
          },
          "execution_count": 182
        }
      ]
    },
    {
      "cell_type": "code",
      "metadata": {
        "id": "7ZJZiugvbg9J",
        "colab_type": "code",
        "colab": {},
        "outputId": "f0690fd5-db70-4d4d-a738-d0581491006c"
      },
      "source": [
        "np.diag(x, k=-1)"
      ],
      "execution_count": null,
      "outputs": [
        {
          "output_type": "execute_result",
          "data": {
            "text/plain": [
              "array([ 4,  9, 14])"
            ]
          },
          "metadata": {
            "tags": []
          },
          "execution_count": 183
        }
      ]
    },
    {
      "cell_type": "code",
      "metadata": {
        "id": "kcru9V2Fbg9L",
        "colab_type": "code",
        "colab": {},
        "outputId": "1fc68125-5417-4dc2-8d82-daf70fa7aa6c"
      },
      "source": [
        "np.diag(np.diag(x))"
      ],
      "execution_count": null,
      "outputs": [
        {
          "output_type": "execute_result",
          "data": {
            "text/plain": [
              "array([[ 0,  0,  0,  0],\n",
              "       [ 0,  5,  0,  0],\n",
              "       [ 0,  0, 10,  0],\n",
              "       [ 0,  0,  0, 15]])"
            ]
          },
          "metadata": {
            "tags": []
          },
          "execution_count": 184
        }
      ]
    },
    {
      "cell_type": "code",
      "metadata": {
        "collapsed": true,
        "id": "D86AuT-2bg9N",
        "colab_type": "code",
        "colab": {}
      },
      "source": [
        "#Create a two-dimensional array with the flattened input as a diagonal."
      ],
      "execution_count": null,
      "outputs": []
    },
    {
      "cell_type": "code",
      "metadata": {
        "id": "2muDM76Abg9O",
        "colab_type": "code",
        "colab": {},
        "outputId": "8cf0a257-a667-4290-b3d5-69fbfb7a9f65"
      },
      "source": [
        "np.diagflat([[1,2], [3,4]])"
      ],
      "execution_count": null,
      "outputs": [
        {
          "output_type": "execute_result",
          "data": {
            "text/plain": [
              "array([[1, 0, 0, 0],\n",
              "       [0, 2, 0, 0],\n",
              "       [0, 0, 3, 0],\n",
              "       [0, 0, 0, 4]])"
            ]
          },
          "metadata": {
            "tags": []
          },
          "execution_count": 180
        }
      ]
    },
    {
      "cell_type": "code",
      "metadata": {
        "id": "Up7VpGMBbg9Q",
        "colab_type": "code",
        "colab": {},
        "outputId": "0db0d789-538e-481d-bbb8-45759d3e88f1"
      },
      "source": [
        "np.diagflat([1,2], 1)"
      ],
      "execution_count": null,
      "outputs": [
        {
          "output_type": "execute_result",
          "data": {
            "text/plain": [
              "array([[0, 1, 0],\n",
              "       [0, 0, 2],\n",
              "       [0, 0, 0]])"
            ]
          },
          "metadata": {
            "tags": []
          },
          "execution_count": 124
        }
      ]
    },
    {
      "cell_type": "code",
      "metadata": {
        "collapsed": true,
        "id": "D0kaPGftbg9R",
        "colab_type": "code",
        "colab": {}
      },
      "source": [
        "#An array with ones at and below the given diagonal and zeros elsewhere."
      ],
      "execution_count": null,
      "outputs": []
    },
    {
      "cell_type": "code",
      "metadata": {
        "id": "bnrZhR2ibg9S",
        "colab_type": "code",
        "colab": {},
        "outputId": "8f578f83-8398-47a2-856c-e1352688d655"
      },
      "source": [
        "np.tri(3, 5, 1, dtype=int)"
      ],
      "execution_count": null,
      "outputs": [
        {
          "output_type": "execute_result",
          "data": {
            "text/plain": [
              "array([[1, 1, 0, 0, 0],\n",
              "       [1, 1, 1, 0, 0],\n",
              "       [1, 1, 1, 1, 0]])"
            ]
          },
          "metadata": {
            "tags": []
          },
          "execution_count": 187
        }
      ]
    },
    {
      "cell_type": "code",
      "metadata": {
        "id": "zYHEGrmabg9T",
        "colab_type": "code",
        "colab": {},
        "outputId": "2277f7ed-c2fe-4e6f-c9dd-51d677022537"
      },
      "source": [
        "np.tri(3, 5,k=-1)"
      ],
      "execution_count": null,
      "outputs": [
        {
          "output_type": "execute_result",
          "data": {
            "text/plain": [
              "array([[0., 0., 0., 0., 0.],\n",
              "       [1., 0., 0., 0., 0.],\n",
              "       [1., 1., 0., 0., 0.]])"
            ]
          },
          "metadata": {
            "tags": []
          },
          "execution_count": 191
        }
      ]
    },
    {
      "cell_type": "code",
      "metadata": {
        "collapsed": true,
        "id": "J6dwSoNdbg9V",
        "colab_type": "code",
        "colab": {}
      },
      "source": [
        "#return a Lower triangle of an array."
      ],
      "execution_count": null,
      "outputs": []
    },
    {
      "cell_type": "code",
      "metadata": {
        "id": "nr2nsP9obg9W",
        "colab_type": "code",
        "colab": {},
        "outputId": "121bb3fb-69d1-4e03-fc14-b0b6af497863"
      },
      "source": [
        "np.tril([[1,2,3],[4,5,6],[7,8,9]], 0)"
      ],
      "execution_count": null,
      "outputs": [
        {
          "output_type": "execute_result",
          "data": {
            "text/plain": [
              "array([[1, 0, 0],\n",
              "       [4, 5, 0],\n",
              "       [7, 8, 9]])"
            ]
          },
          "metadata": {
            "tags": []
          },
          "execution_count": 205
        }
      ]
    },
    {
      "cell_type": "code",
      "metadata": {
        "collapsed": true,
        "id": "qkGXTevabg9X",
        "colab_type": "code",
        "colab": {}
      },
      "source": [
        "#return Upper triangle of an array."
      ],
      "execution_count": null,
      "outputs": []
    },
    {
      "cell_type": "code",
      "metadata": {
        "id": "7GZaxJuEbg9a",
        "colab_type": "code",
        "colab": {},
        "outputId": "43c2d9b4-e9dc-4f19-fdfb-493e56f8e47b"
      },
      "source": [
        "np.triu([[1,2,3],[4,5,6],[7,8,9],[10,11,12]], 1)"
      ],
      "execution_count": null,
      "outputs": [
        {
          "output_type": "execute_result",
          "data": {
            "text/plain": [
              "array([[0, 2, 3],\n",
              "       [0, 0, 6],\n",
              "       [0, 0, 0],\n",
              "       [0, 0, 0]])"
            ]
          },
          "metadata": {
            "tags": []
          },
          "execution_count": 206
        }
      ]
    },
    {
      "cell_type": "markdown",
      "metadata": {
        "id": "mKpD8lx-bg9f",
        "colab_type": "text"
      },
      "source": [
        "# Random number generation"
      ]
    },
    {
      "cell_type": "code",
      "metadata": {
        "id": "W2iPLW40bg9f",
        "colab_type": "code",
        "colab": {},
        "outputId": "7d705f18-db9d-4591-e0dd-07f8235f7f83"
      },
      "source": [
        "print(\"Random number generation (from Uniform distribution)\")\n",
        "print(np.random.rand(2,3)) # 2 by 3 matrix with random numbers ranging from 0 to 1, Note no Tuple is necessary "
      ],
      "execution_count": null,
      "outputs": [
        {
          "output_type": "stream",
          "text": [
            "Random number generation (from Uniform distribution)\n",
            "[[0.79234365 0.26636652 0.84876143]\n",
            " [0.78766627 0.06627396 0.8829639 ]]\n"
          ],
          "name": "stdout"
        }
      ]
    },
    {
      "cell_type": "code",
      "metadata": {
        "id": "T-P1zXWCbg9g",
        "colab_type": "code",
        "colab": {},
        "outputId": "f9cf63cc-d859-49fb-f469-55aaf3e8198f"
      },
      "source": [
        "print(\"Numbers from Normal distribution with zero mean and standard deviation 1 i.e. standard normal\")\n",
        "print(np.random.randn(4,3))"
      ],
      "execution_count": null,
      "outputs": [
        {
          "output_type": "stream",
          "text": [
            "Numbers from Normal distribution with zero mean and standard deviation 1 i.e. standard normal\n",
            "[[ 0.08550888  0.73651756  0.08329424]\n",
            " [ 0.75179279  0.42441618  0.47752353]\n",
            " [ 0.23835886  1.06582108 -0.01790105]\n",
            " [ 0.48190152 -0.24940656 -0.44992115]]\n"
          ],
          "name": "stdout"
        }
      ]
    },
    {
      "cell_type": "code",
      "metadata": {
        "id": "9bRgViD5bg9j",
        "colab_type": "code",
        "colab": {},
        "outputId": "70b527a1-bc70-45e6-fb68-d7dcab5b3d5d"
      },
      "source": [
        "print(\"Random integer vector:\",np.random.randint(1,10)) #randint (low, high, # of samples to be drawn)\n",
        "print (\"\\nRandom integer matrix\")\n"
      ],
      "execution_count": null,
      "outputs": [
        {
          "output_type": "stream",
          "text": [
            "Random integer vector: 4\n",
            "\n",
            "Random integer matrix\n"
          ],
          "name": "stdout"
        }
      ]
    },
    {
      "cell_type": "code",
      "metadata": {
        "id": "tFfuuj4abg9k",
        "colab_type": "code",
        "colab": {},
        "outputId": "5f5e9351-9589-4e17-b221-74297db4efb4"
      },
      "source": [
        "print(np.random.randint(1,100,(4,4))) #randint (low, high, # of samples to be drawn in a tuple to form a matrix)\n",
        "print(\"\\n20 samples drawn from a dice throw:\",np.random.randint(1,7,20)) # 20 samples drawn from a dice throw"
      ],
      "execution_count": null,
      "outputs": [
        {
          "output_type": "stream",
          "text": [
            "[[28 90 28 25]\n",
            " [14 51 32 98]\n",
            " [10 98 11 71]\n",
            " [12 42 54 77]]\n",
            "\n",
            "20 samples drawn from a dice throw: [1 6 2 1 1 1 5 2 5 1 1 5 5 1 6 6 5 4 1 1]\n"
          ],
          "name": "stdout"
        }
      ]
    },
    {
      "cell_type": "markdown",
      "metadata": {
        "id": "wZ_7H-kjbg9l",
        "colab_type": "text"
      },
      "source": [
        "# Reshaping"
      ]
    },
    {
      "cell_type": "code",
      "metadata": {
        "id": "AR2_7Wfrbg9l",
        "colab_type": "code",
        "colab": {},
        "outputId": "23729a17-8757-47b0-c3ab-ab1a453bcadb"
      },
      "source": [
        "from numpy.random import randint as ri\n",
        "a = ri(1,100,30)\n",
        "b = a.reshape(2,3,5)\n",
        "c = a.reshape(6,-19878)\n",
        "c"
      ],
      "execution_count": null,
      "outputs": [
        {
          "output_type": "execute_result",
          "data": {
            "text/plain": [
              "array([[51, 63, 51, 54, 96],\n",
              "       [11, 93,  2, 51, 34],\n",
              "       [62, 35, 42, 95, 58],\n",
              "       [88, 44, 36, 93, 83],\n",
              "       [86, 56, 30,  2, 15],\n",
              "       [68, 40, 77, 48, 57]])"
            ]
          },
          "metadata": {
            "tags": []
          },
          "execution_count": 211
        }
      ]
    },
    {
      "cell_type": "code",
      "metadata": {
        "id": "gJKU3M_Xbg9m",
        "colab_type": "code",
        "colab": {},
        "outputId": "f4e908b2-9a20-4e09-b4b4-366335bfef00"
      },
      "source": [
        "print (\"Shape of a:\", a.shape)\n",
        "print (\"Shape of b:\", b.shape)\n",
        "print (\"Shape of c:\", c.shape)\n"
      ],
      "execution_count": null,
      "outputs": [
        {
          "output_type": "stream",
          "text": [
            "Shape of a: (30,)\n",
            "Shape of b: (2, 3, 5)\n",
            "Shape of c: (6, 5)\n"
          ],
          "name": "stdout"
        }
      ]
    },
    {
      "cell_type": "code",
      "metadata": {
        "id": "fISMdKgGbg9o",
        "colab_type": "code",
        "colab": {},
        "outputId": "be8b686b-fe73-419e-a97b-46634024c485"
      },
      "source": [
        "print(\"\\na looks like\\n\",'-'*20,\"\\n\",a,\"\\n\",'-'*20)\n",
        "print(\"\\nb looks like\\n\",'-'*20,\"\\n\",b,\"\\n\",'-'*20)\n",
        "print(\"\\nc looks like\\n\",'-'*20,\"\\n\",c,\"\\n\",'-'*20)\n"
      ],
      "execution_count": null,
      "outputs": [
        {
          "output_type": "stream",
          "text": [
            "\n",
            "a looks like\n",
            " -------------------- \n",
            " [72 69 61 67 42  2 92 42 38 56 22 71 21 81 81 47  2  1  6 94 52 14 87 71\n",
            " 38 57 99 87 62 88] \n",
            " --------------------\n",
            "\n",
            "b looks like\n",
            " -------------------- \n",
            " [[[72 69 61 67 42]\n",
            "  [ 2 92 42 38 56]\n",
            "  [22 71 21 81 81]]\n",
            "\n",
            " [[47  2  1  6 94]\n",
            "  [52 14 87 71 38]\n",
            "  [57 99 87 62 88]]] \n",
            " --------------------\n",
            "\n",
            "c looks like\n",
            " -------------------- \n",
            " [[72 69 61 67 42]\n",
            " [ 2 92 42 38 56]\n",
            " [22 71 21 81 81]\n",
            " [47  2  1  6 94]\n",
            " [52 14 87 71 38]\n",
            " [57 99 87 62 88]] \n",
            " --------------------\n"
          ],
          "name": "stdout"
        }
      ]
    },
    {
      "cell_type": "code",
      "metadata": {
        "id": "nAFy11ELbg9p",
        "colab_type": "code",
        "colab": {},
        "outputId": "509ceebe-bed1-4e78-ec25-752be7869468"
      },
      "source": [
        "A = ri(1,100,10) # Vector of random interegrs\n",
        "print(\"\\nVector of random integers\\n\",'-'*50,\"\\n\",A)\n",
        "print(\"\\nHere is the sorted vector\\n\",'-'*50,\"\\n\",np.sort(A))\n"
      ],
      "execution_count": null,
      "outputs": [
        {
          "output_type": "stream",
          "text": [
            "\n",
            "Vector of random integers\n",
            " -------------------------------------------------- \n",
            " [69 99 45 72 41 16 50 80 80 22]\n",
            "\n",
            "Here is the sorted vector\n",
            " -------------------------------------------------- \n",
            " [16 22 41 45 50 69 72 80 80 99]\n"
          ],
          "name": "stdout"
        }
      ]
    },
    {
      "cell_type": "code",
      "metadata": {
        "id": "82Stn2dWbg9r",
        "colab_type": "code",
        "colab": {},
        "outputId": "aa063c29-d9e6-43b7-edc0-a2487a9a4be7"
      },
      "source": [
        "M = ri(1,100,25).reshape(5,5) # Matrix of random interegrs\n",
        "#print(\"\\nHere is the sorted matrix along each row\\n\",'-'*50,\"\\n\",np.sort(M, kind='mergesort')) # Default axis =1\n",
        "print(\"\\nHere is the sorted matrix along each column\\n\",'-'*50,\"\\n\",np.sort(M, axis=1, kind='mergesort'))\n",
        "M"
      ],
      "execution_count": null,
      "outputs": [
        {
          "output_type": "stream",
          "text": [
            "\n",
            "Here is the sorted matrix along each column\n",
            " -------------------------------------------------- \n",
            " [[18 25 38 73 94]\n",
            " [18 42 75 79 91]\n",
            " [21 44 62 78 85]\n",
            " [15 17 44 89 91]\n",
            " [ 3 24 38 62 86]]\n"
          ],
          "name": "stdout"
        },
        {
          "output_type": "execute_result",
          "data": {
            "text/plain": [
              "array([[18, 94, 25, 38, 73],\n",
              "       [75, 42, 79, 18, 91],\n",
              "       [21, 44, 85, 78, 62],\n",
              "       [91, 15, 17, 44, 89],\n",
              "       [62, 38,  3, 24, 86]])"
            ]
          },
          "metadata": {
            "tags": []
          },
          "execution_count": 221
        }
      ]
    },
    {
      "cell_type": "code",
      "metadata": {
        "id": "7JVoVFQJbg9s",
        "colab_type": "code",
        "colab": {},
        "outputId": "91819d3a-3dac-482b-d177-713dfe2b6707"
      },
      "source": [
        "print(\"Max of a:\", M.max())\n",
        "print(\"Max of b:\", b.max())\n",
        "b"
      ],
      "execution_count": null,
      "outputs": [
        {
          "output_type": "stream",
          "text": [
            "Max of a: 99\n",
            "Max of b: 96\n"
          ],
          "name": "stdout"
        },
        {
          "output_type": "execute_result",
          "data": {
            "text/plain": [
              "array([[[51, 63, 51, 54, 96],\n",
              "        [11, 93,  2, 51, 34],\n",
              "        [62, 35, 42, 95, 58]],\n",
              "\n",
              "       [[88, 44, 36, 93, 83],\n",
              "        [86, 56, 30,  2, 15],\n",
              "        [68, 40, 77, 48, 57]]])"
            ]
          },
          "metadata": {
            "tags": []
          },
          "execution_count": 214
        }
      ]
    },
    {
      "cell_type": "code",
      "metadata": {
        "id": "hczLA2hebg9t",
        "colab_type": "code",
        "colab": {},
        "outputId": "d9f1478a-8c1c-4f16-9da6-697fea91d22f"
      },
      "source": [
        "M"
      ],
      "execution_count": null,
      "outputs": [
        {
          "output_type": "execute_result",
          "data": {
            "text/plain": [
              "array([[46, 88, 23, 66, 57],\n",
              "       [50, 90, 30, 46, 36],\n",
              "       [31, 19, 42, 23, 31],\n",
              "       [ 4, 44, 86, 10, 81],\n",
              "       [73, 35, 30, 99, 43]])"
            ]
          },
          "metadata": {
            "tags": []
          },
          "execution_count": 217
        }
      ]
    },
    {
      "cell_type": "code",
      "metadata": {
        "id": "GNZic2iqbg9u",
        "colab_type": "code",
        "colab": {},
        "outputId": "89e6786e-7923-4ba3-9cb6-01003caaae9f"
      },
      "source": [
        "print(\"Max of a location:\", M.argmax(axis= 1 ))\n",
        "print(\"Max of b location:\", b.argmax())\n",
        "print(\"Max of c location:\", b.argmax())"
      ],
      "execution_count": null,
      "outputs": [
        {
          "output_type": "stream",
          "text": [
            "Max of a location: [1 1 2 2 3]\n",
            "Max of b location: 4\n",
            "Max of c location: 4\n"
          ],
          "name": "stdout"
        }
      ]
    },
    {
      "cell_type": "markdown",
      "metadata": {
        "id": "XmlHde1-bg9v",
        "colab_type": "text"
      },
      "source": [
        "# Indexing and slicing"
      ]
    },
    {
      "cell_type": "code",
      "metadata": {
        "id": "OgGHphFHbg9w",
        "colab_type": "code",
        "colab": {},
        "outputId": "1678e29b-634c-44e7-b0b5-0dfda748de6e"
      },
      "source": [
        "arr = np.arange(0,11)\n",
        "print(\"Array:\",arr)\n"
      ],
      "execution_count": null,
      "outputs": [
        {
          "output_type": "stream",
          "text": [
            "Array: [ 0  1  2  3  4  5  6  7  8  9 10]\n"
          ],
          "name": "stdout"
        }
      ]
    },
    {
      "cell_type": "code",
      "metadata": {
        "id": "Sy7PMFegbg9x",
        "colab_type": "code",
        "colab": {},
        "outputId": "8048e2c1-28ad-4a07-89f5-14c665ca50e4"
      },
      "source": [
        "print(\"Element at 7th index is:\", arr[7])\n"
      ],
      "execution_count": null,
      "outputs": [
        {
          "output_type": "stream",
          "text": [
            "Element at 7th index is: 7\n"
          ],
          "name": "stdout"
        }
      ]
    },
    {
      "cell_type": "code",
      "metadata": {
        "id": "B-2l-snnbg9y",
        "colab_type": "code",
        "colab": {},
        "outputId": "638a1baf-ac48-4783-c04f-80a8e12fabdc"
      },
      "source": [
        "print(\"Elements from 3rd to 5th index are:\", arr[3:6:2])\n"
      ],
      "execution_count": null,
      "outputs": [
        {
          "output_type": "stream",
          "text": [
            "Elements from 3rd to 5th index are: [3 5]\n"
          ],
          "name": "stdout"
        }
      ]
    },
    {
      "cell_type": "code",
      "metadata": {
        "id": "VRd5tICYbg9z",
        "colab_type": "code",
        "colab": {},
        "outputId": "6b571c0a-03a2-4ee7-ff57-7e81fda5b825"
      },
      "source": [
        "print(\"Elements up to 4th index are:\", arr[:4])\n",
        "arr"
      ],
      "execution_count": null,
      "outputs": [
        {
          "output_type": "stream",
          "text": [
            "Elements up to 4th index are: [0 1 2 3]\n"
          ],
          "name": "stdout"
        },
        {
          "output_type": "execute_result",
          "data": {
            "text/plain": [
              "array([ 0,  1,  2,  3,  4,  5,  6,  7,  8,  9, 10])"
            ]
          },
          "metadata": {
            "tags": []
          },
          "execution_count": 231
        }
      ]
    },
    {
      "cell_type": "code",
      "metadata": {
        "id": "Ebsmn7yNbg90",
        "colab_type": "code",
        "colab": {},
        "outputId": "efacad5b-398e-4254-e4cc-ad331631bbd4"
      },
      "source": [
        "print(\"Elements from last backwards are:\", arr[-1:7:-1])\n"
      ],
      "execution_count": null,
      "outputs": [
        {
          "output_type": "stream",
          "text": [
            "Elements from last backwards are: [10  9  8]\n"
          ],
          "name": "stdout"
        }
      ]
    },
    {
      "cell_type": "code",
      "metadata": {
        "id": "YlY1p7Cfbg92",
        "colab_type": "code",
        "colab": {},
        "outputId": "dd09a9ab-0895-4470-fa80-e5138b0a9364"
      },
      "source": [
        "print(\"3 Elements from last backwards are:\", arr[-1:-6:2])\n"
      ],
      "execution_count": null,
      "outputs": [
        {
          "output_type": "stream",
          "text": [
            "3 Elements from last backwards are: []\n"
          ],
          "name": "stdout"
        }
      ]
    },
    {
      "cell_type": "code",
      "metadata": {
        "id": "RqWppC96bg93",
        "colab_type": "code",
        "colab": {},
        "outputId": "b806de86-1b68-4c16-9fc0-83bdd4caff0b"
      },
      "source": [
        "arr = np.arange(0,21,2)\n",
        "print(\"New array:\",arr)\n"
      ],
      "execution_count": null,
      "outputs": [
        {
          "output_type": "stream",
          "text": [
            "New array: [ 0  2  4  6  8 10 12 14 16 18 20]\n"
          ],
          "name": "stdout"
        }
      ]
    },
    {
      "cell_type": "code",
      "metadata": {
        "id": "58RTVuzdbg95",
        "colab_type": "code",
        "colab": {},
        "outputId": "1d6a547c-d8af-4e1d-e672-3252132140cb"
      },
      "source": [
        "print(\"Elements at 2nd, 4th, and 9th index are:\", arr[[2,4,9]]) # Pass a list as a index to subset"
      ],
      "execution_count": null,
      "outputs": [
        {
          "output_type": "stream",
          "text": [
            "Elements at 2nd, 4th, and 9th index are: [ 4  8 18]\n"
          ],
          "name": "stdout"
        }
      ]
    },
    {
      "cell_type": "code",
      "metadata": {
        "id": "cvdKAZ-8bg97",
        "colab_type": "code",
        "colab": {},
        "outputId": "07bec5d6-dbf8-4bf0-ae08-50f8236e7047"
      },
      "source": [
        "import numpy as np \n",
        "mat = np.array(ri(10,100,15)).reshape(3,5)\n",
        "print(\"Matrix of random 2-digit numbers\\n--------------------------------\\n\",mat)\n",
        "mat[1:4,3:5]\n",
        "mat[0:3,[1,3]]"
      ],
      "execution_count": null,
      "outputs": [
        {
          "output_type": "stream",
          "text": [
            "Matrix of random 2-digit numbers\n",
            "--------------------------------\n",
            " [[35 75 44 59 85]\n",
            " [71 58 75 72 69]\n",
            " [76 97 49 63 53]]\n"
          ],
          "name": "stdout"
        },
        {
          "output_type": "execute_result",
          "data": {
            "text/plain": [
              "array([[75, 59],\n",
              "       [58, 72],\n",
              "       [97, 63]])"
            ]
          },
          "metadata": {
            "tags": []
          },
          "execution_count": 237
        }
      ]
    },
    {
      "cell_type": "code",
      "metadata": {
        "id": "BhEY6LAlbg98",
        "colab_type": "code",
        "colab": {},
        "outputId": "0e04e78d-7239-4984-b1d4-35f9be0f25f6"
      },
      "source": [
        "mat[0:3,[1,3]]\n",
        "mat"
      ],
      "execution_count": null,
      "outputs": [
        {
          "output_type": "execute_result",
          "data": {
            "text/plain": [
              "array([[35, 75, 44, 59, 85],\n",
              "       [71, 58, 75, 72, 69],\n",
              "       [76, 97, 49, 63, 53]])"
            ]
          },
          "metadata": {
            "tags": []
          },
          "execution_count": 238
        }
      ]
    },
    {
      "cell_type": "code",
      "metadata": {
        "id": "BjkX3bOkbg9-",
        "colab_type": "code",
        "colab": {},
        "outputId": "31675621-42d2-4da8-95b7-addbb99c3832"
      },
      "source": [
        "print(\"\\nDouble bracket indexing\\n------------------------\")\n",
        "print(\"Element in row index 1 and column index 2:\", mat[1][1])\n",
        "mat"
      ],
      "execution_count": null,
      "outputs": [
        {
          "output_type": "stream",
          "text": [
            "\n",
            "Double bracket indexing\n",
            "------------------------\n",
            "Element in row index 1 and column index 2: 58\n"
          ],
          "name": "stdout"
        },
        {
          "output_type": "execute_result",
          "data": {
            "text/plain": [
              "array([[35, 75, 44, 59, 85],\n",
              "       [71, 58, 75, 72, 69],\n",
              "       [76, 97, 49, 63, 53]])"
            ]
          },
          "metadata": {
            "tags": []
          },
          "execution_count": 241
        }
      ]
    },
    {
      "cell_type": "code",
      "metadata": {
        "id": "ZVQI6SGJbg-A",
        "colab_type": "code",
        "colab": {},
        "outputId": "681d38e0-19fc-4eb6-c8d1-46f12339d58e"
      },
      "source": [
        "print(\"\\nSingle bracket with comma indexing\\n----------------------------------\")\n",
        "print(\"Element in row index 1 and column index 2:\", mat[1,2])\n",
        "print(\"\\nRow or column extract\\n----------------------\")\n"
      ],
      "execution_count": null,
      "outputs": [
        {
          "output_type": "stream",
          "text": [
            "\n",
            "Single bracket with comma indexing\n",
            "----------------------------------\n",
            "Element in row index 1 and column index 2: 75\n",
            "\n",
            "Row or column extract\n",
            "----------------------\n"
          ],
          "name": "stdout"
        }
      ]
    },
    {
      "cell_type": "code",
      "metadata": {
        "id": "r4U6QPoAbg-B",
        "colab_type": "code",
        "colab": {},
        "outputId": "63a3fb91-d65d-4fa9-a6a2-3ef0895c60c5"
      },
      "source": [
        "print(\"Entire row at index 2:\", mat[2])\n",
        "print(\"Entire column at index 3:\", mat[:,3])\n"
      ],
      "execution_count": null,
      "outputs": [
        {
          "output_type": "stream",
          "text": [
            "Entire row at index 2: [22 10 57 59 61]\n",
            "Entire column at index 3: [92 88 59]\n"
          ],
          "name": "stdout"
        }
      ]
    },
    {
      "cell_type": "code",
      "metadata": {
        "id": "6qv8IoIrbg-C",
        "colab_type": "code",
        "colab": {},
        "outputId": "ad730666-761b-4192-d897-e5e5e1a4f3b6"
      },
      "source": [
        "print(\"\\nSubsetting sub-matrices\\n--------------------------\")\n",
        "print(\"Matrix with row indices 1 and 2 and column indices 3 and 4\\n\", mat[1:3,3:5])\n"
      ],
      "execution_count": null,
      "outputs": [
        {
          "output_type": "stream",
          "text": [
            "\n",
            "Subsetting sub-matrices\n",
            "--------------------------\n",
            "Matrix with row indices 1 and 2 and column indices 3 and 4\n",
            " [[14 32]\n",
            " [62 27]]\n"
          ],
          "name": "stdout"
        }
      ]
    },
    {
      "cell_type": "code",
      "metadata": {
        "id": "E1gO2lt4bg-E",
        "colab_type": "code",
        "colab": {},
        "outputId": "b65ba641-f01d-4501-a8dd-03ce82500993"
      },
      "source": [
        "print(\"Matrix with row indices 0 and 1 and column indices 1 and 3\\n\", mat[0:2,[1,3]])"
      ],
      "execution_count": null,
      "outputs": [
        {
          "output_type": "stream",
          "text": [
            "Matrix with row indices 0 and 1 and column indices 1 and 3\n",
            " [[77 69]\n",
            " [64 17]]\n"
          ],
          "name": "stdout"
        }
      ]
    },
    {
      "cell_type": "markdown",
      "metadata": {
        "id": "Z-m_IshCbg-H",
        "colab_type": "text"
      },
      "source": [
        "# Subseting"
      ]
    },
    {
      "cell_type": "code",
      "metadata": {
        "id": "NT-pYpQMbg-I",
        "colab_type": "code",
        "colab": {},
        "outputId": "27d72cfa-16d1-48b5-a843-44a4889d1182"
      },
      "source": [
        "mat = np.array(ri(10,100,15)).reshape(3,5)\n",
        "print(\"Matrix of random 2-digit numbers\\n--------------------------------\\n\",mat)\n",
        "mat>50"
      ],
      "execution_count": null,
      "outputs": [
        {
          "output_type": "stream",
          "text": [
            "Matrix of random 2-digit numbers\n",
            "--------------------------------\n",
            " [[51 99 67 32 43]\n",
            " [53 61 80 97 51]\n",
            " [82 76 18 26 11]]\n"
          ],
          "name": "stdout"
        },
        {
          "output_type": "execute_result",
          "data": {
            "text/plain": [
              "array([[ True,  True,  True, False, False],\n",
              "       [ True,  True,  True,  True,  True],\n",
              "       [ True,  True, False, False, False]])"
            ]
          },
          "metadata": {
            "tags": []
          },
          "execution_count": 173
        }
      ]
    },
    {
      "cell_type": "code",
      "metadata": {
        "id": "CkDLwt1sbg-J",
        "colab_type": "code",
        "colab": {},
        "outputId": "2607f36d-b0c0-4df8-bf5e-658aaf86cbd9"
      },
      "source": [
        "print (\"Elements greater than 50\\n\", mat[mat>50])"
      ],
      "execution_count": null,
      "outputs": [
        {
          "output_type": "stream",
          "text": [
            "Elements greater than 50\n",
            " [51 99 67 53 61 80 97 51 82 76]\n"
          ],
          "name": "stdout"
        }
      ]
    },
    {
      "cell_type": "markdown",
      "metadata": {
        "id": "gnntPtd2bg-K",
        "colab_type": "text"
      },
      "source": [
        "# Slicing"
      ]
    },
    {
      "cell_type": "code",
      "metadata": {
        "id": "gaIG0qw-bg-K",
        "colab_type": "code",
        "colab": {},
        "outputId": "baa7c31c-49a1-4077-d588-edfef2b1a06d"
      },
      "source": [
        "mat = np.array([[11,12,13],[21,22,23],[31,32,33]])\n",
        "print(\"Original matrix\")\n",
        "print(mat)\n"
      ],
      "execution_count": null,
      "outputs": [
        {
          "output_type": "stream",
          "text": [
            "Original matrix\n",
            "[[11 12 13]\n",
            " [21 22 23]\n",
            " [31 32 33]]\n"
          ],
          "name": "stdout"
        }
      ]
    },
    {
      "cell_type": "code",
      "metadata": {
        "id": "Q1gQzDvObg-L",
        "colab_type": "code",
        "colab": {},
        "outputId": "8d69338c-4f38-41ca-cd61-b8320dd06e8b"
      },
      "source": [
        "mat_slice = mat[:2,:2]\n",
        "print (\"\\nSliced matrix\")\n",
        "print(mat_slice)\n",
        "print (\"\\nChange the sliced matrix\")"
      ],
      "execution_count": null,
      "outputs": [
        {
          "output_type": "stream",
          "text": [
            "\n",
            "Sliced matrix\n",
            "[[11 12]\n",
            " [21 22]]\n",
            "\n",
            "Change the sliced matrix\n"
          ],
          "name": "stdout"
        }
      ]
    },
    {
      "cell_type": "code",
      "metadata": {
        "id": "ndWTxzPPbg-M",
        "colab_type": "code",
        "colab": {},
        "outputId": "164db269-146a-4e6f-adb8-74ca66f7afa9"
      },
      "source": [
        "mat_slice[0,0] = 1000\n",
        "print (mat_slice)"
      ],
      "execution_count": null,
      "outputs": [
        {
          "output_type": "stream",
          "text": [
            "[[1000   12]\n",
            " [  21   22]]\n"
          ],
          "name": "stdout"
        }
      ]
    },
    {
      "cell_type": "code",
      "metadata": {
        "id": "tnTT6oRrbg-O",
        "colab_type": "code",
        "colab": {},
        "outputId": "7390a312-3c73-4329-9a82-c32f31b986f2"
      },
      "source": [
        "print(\"\\nBut the original matrix? WHOA! It got changed too!\")\n",
        "print(mat)\n"
      ],
      "execution_count": null,
      "outputs": [
        {
          "output_type": "stream",
          "text": [
            "\n",
            "But the original matrix? WHOA! It got changed too!\n",
            "[[11 12 13]\n",
            " [21 22 23]\n",
            " [31 32 33]]\n"
          ],
          "name": "stdout"
        }
      ]
    },
    {
      "cell_type": "code",
      "metadata": {
        "id": "H3D875A6bg-P",
        "colab_type": "code",
        "colab": {},
        "outputId": "8580019b-45ed-4574-f4ed-16c5744aa4a0"
      },
      "source": [
        "# Little different way to create a copy of the slixed matrix\n",
        "print (\"\\nDoing it again little differently now...\\n\")\n",
        "mat = np.array([[11,12,13],[21,22,23],[31,32,33]])\n",
        "print(\"Original matrix\")\n",
        "print(mat)\n"
      ],
      "execution_count": null,
      "outputs": [
        {
          "output_type": "stream",
          "text": [
            "\n",
            "Doing it again little differently now...\n",
            "\n",
            "Original matrix\n",
            "[[11 12 13]\n",
            " [21 22 23]\n",
            " [31 32 33]]\n"
          ],
          "name": "stdout"
        }
      ]
    },
    {
      "cell_type": "code",
      "metadata": {
        "id": "wiW5DFjgbg-Q",
        "colab_type": "code",
        "colab": {},
        "outputId": "2896cc14-c564-40a8-a589-4531929e5848"
      },
      "source": [
        "mat_slice = np.array(mat[:2,:2]) # Notice the np.array command to create a new array not just slicing\n",
        "print (\"\\nSliced matrix\")\n",
        "print(mat_slice)\n"
      ],
      "execution_count": null,
      "outputs": [
        {
          "output_type": "stream",
          "text": [
            "\n",
            "Sliced matrix\n",
            "[[11 12]\n",
            " [21 22]]\n"
          ],
          "name": "stdout"
        }
      ]
    },
    {
      "cell_type": "code",
      "metadata": {
        "id": "Oih6AnDebg-R",
        "colab_type": "code",
        "colab": {},
        "outputId": "24dcbe08-a388-4bbd-e2c2-586e51473e41"
      },
      "source": [
        "print (\"\\nChange the sliced matrix\")\n",
        "mat_slice[0,0] = 1000\n",
        "print (mat_slice)\n"
      ],
      "execution_count": null,
      "outputs": [
        {
          "output_type": "stream",
          "text": [
            "\n",
            "Change the sliced matrix\n",
            "[[1000   12]\n",
            " [  21   22]]\n"
          ],
          "name": "stdout"
        }
      ]
    },
    {
      "cell_type": "code",
      "metadata": {
        "id": "oDu45Y4gbg-T",
        "colab_type": "code",
        "colab": {},
        "outputId": "6f4fc8c0-8bc1-4340-b0c9-d3d285ee08c6"
      },
      "source": [
        "print(\"\\nBut the original matrix? NO CHANGE this time:)\")\n",
        "print(mat)"
      ],
      "execution_count": null,
      "outputs": [
        {
          "output_type": "stream",
          "text": [
            "\n",
            "But the original matrix? NO CHANGE this time:)\n",
            "[[11 12 13]\n",
            " [21 22 23]\n",
            " [31 32 33]]\n"
          ],
          "name": "stdout"
        }
      ]
    },
    {
      "cell_type": "markdown",
      "metadata": {
        "id": "BPeyW-wObg-U",
        "colab_type": "text"
      },
      "source": [
        "# Universal Functions"
      ]
    },
    {
      "cell_type": "code",
      "metadata": {
        "id": "FY-o8Sl9bg-V",
        "colab_type": "code",
        "colab": {},
        "outputId": "a635a9f5-0ca5-4ec9-fb1f-04653f5db0a5"
      },
      "source": [
        "mat1 = np.array(ri(1,10,9)).reshape(3,3)\n",
        "mat2 = np.array(ri(1,10,9)).reshape(3,3)\n",
        "print(\"\\n1st Matrix of random single-digit numbers\\n----------------------------------------\\n\",mat1)\n",
        "print(\"\\n2nd Matrix of random single-digit numbers\\n----------------------------------------\\n\",mat2)\n"
      ],
      "execution_count": null,
      "outputs": [
        {
          "output_type": "stream",
          "text": [
            "\n",
            "1st Matrix of random single-digit numbers\n",
            "----------------------------------------\n",
            " [[3 3 9]\n",
            " [6 1 8]\n",
            " [5 9 1]]\n",
            "\n",
            "2nd Matrix of random single-digit numbers\n",
            "----------------------------------------\n",
            " [[3 5 7]\n",
            " [4 4 9]\n",
            " [1 2 5]]\n"
          ],
          "name": "stdout"
        }
      ]
    },
    {
      "cell_type": "code",
      "metadata": {
        "id": "CKBeRxoCbg-W",
        "colab_type": "code",
        "colab": {},
        "outputId": "40236d44-6809-45a7-fb72-18c029d83b81"
      },
      "source": [
        "mat1*mat2"
      ],
      "execution_count": null,
      "outputs": [
        {
          "output_type": "execute_result",
          "data": {
            "text/plain": [
              "array([[ 9, 15, 63],\n",
              "       [24,  4, 72],\n",
              "       [ 5, 18,  5]])"
            ]
          },
          "metadata": {
            "tags": []
          },
          "execution_count": 248
        }
      ]
    },
    {
      "cell_type": "code",
      "metadata": {
        "id": "Et8LNPzQbg-X",
        "colab_type": "code",
        "colab": {}
      },
      "source": [
        ""
      ],
      "execution_count": null,
      "outputs": []
    },
    {
      "cell_type": "code",
      "metadata": {
        "id": "rmnazS_sbg-Y",
        "colab_type": "code",
        "colab": {},
        "outputId": "8d4db3bd-076e-4b2d-b03b-a65c4bf41528"
      },
      "source": [
        "#print(\"\\nAddition\\n------------------\\n\", mat1+mat2)\n",
        "print(\"\\nMultiplication\\n------------------\\n\", mat1@mat2)\n"
      ],
      "execution_count": null,
      "outputs": [
        {
          "output_type": "stream",
          "text": [
            "\n",
            "Multiplication\n",
            "------------------\n",
            " [[ 30  45  93]\n",
            " [ 30  50  91]\n",
            " [ 52  63 121]]\n"
          ],
          "name": "stdout"
        }
      ]
    },
    {
      "cell_type": "code",
      "metadata": {
        "id": "pxdbQrsQbg-Z",
        "colab_type": "code",
        "colab": {},
        "outputId": "01576fad-96d5-4955-b742-1d661eda3b7c"
      },
      "source": [
        "print(\"\\nDivision\\n------------------\\n\", mat1/0)\n",
        "#print(\"\\nLineaer combination: 3*A - 2*B\\n-----------------------------\\n\", 3*mat1-2*mat2)\n"
      ],
      "execution_count": null,
      "outputs": [
        {
          "output_type": "stream",
          "text": [
            "\n",
            "Division\n",
            "------------------\n",
            " [[inf inf inf]\n",
            " [inf inf inf]\n",
            " [inf inf inf]]\n"
          ],
          "name": "stdout"
        },
        {
          "output_type": "stream",
          "text": [
            "/Users/sudhanshukumar/anaconda3/lib/python3.7/site-packages/ipykernel_launcher.py:1: RuntimeWarning: divide by zero encountered in true_divide\n",
            "  \"\"\"Entry point for launching an IPython kernel.\n"
          ],
          "name": "stderr"
        }
      ]
    },
    {
      "cell_type": "code",
      "metadata": {
        "id": "lWc1Jk1pbg-a",
        "colab_type": "code",
        "colab": {},
        "outputId": "ed4e65f0-20b7-4158-a3e9-f15c3d1c0111"
      },
      "source": [
        "print(\"\\nAddition of a scalar (100)\\n-------------------------\\n\", 100+mat1)\n"
      ],
      "execution_count": null,
      "outputs": [
        {
          "output_type": "stream",
          "text": [
            "\n",
            "Addition of a scalar (100)\n",
            "-------------------------\n",
            " [[103 103 109]\n",
            " [106 101 108]\n",
            " [105 109 101]]\n"
          ],
          "name": "stdout"
        }
      ]
    },
    {
      "cell_type": "code",
      "metadata": {
        "id": "IAIH-5_jbg-c",
        "colab_type": "code",
        "colab": {},
        "outputId": "c196e5c4-867f-4605-a3f7-7e03180dc959"
      },
      "source": [
        "print(\"\\nExponentiation, matrix cubed here\\n----------------------------------------\\n\", mat1**3)\n",
        "print(\"\\nExponentiation, sq-root using pow function\\n-------------------------------------------\\n\",pow(mat1,3))"
      ],
      "execution_count": null,
      "outputs": [
        {
          "output_type": "stream",
          "text": [
            "\n",
            "Exponentiation, matrix cubed here\n",
            "----------------------------------------\n",
            " [[ 27  27 729]\n",
            " [216   1 512]\n",
            " [125 729   1]]\n",
            "\n",
            "Exponentiation, sq-root using pow function\n",
            "-------------------------------------------\n",
            " [[ 27  27 729]\n",
            " [216   1 512]\n",
            " [125 729   1]]\n"
          ],
          "name": "stdout"
        }
      ]
    },
    {
      "cell_type": "markdown",
      "metadata": {
        "id": "ADFO-Fw1bg-d",
        "colab_type": "text"
      },
      "source": [
        "# Broadcasting"
      ]
    },
    {
      "cell_type": "code",
      "metadata": {
        "collapsed": true,
        "id": "JZQx8-MEbg-e",
        "colab_type": "code",
        "colab": {}
      },
      "source": [
        "#NumPy operations are usually done on pairs of arrays on an element-by-element basis. \n",
        "#In the simplest case, the two arrays must have exactly the same shape.\n",
        "#NumPy’s broadcasting rule relaxes this constraint when the arrays’ shapes meet certain constraints. \n",
        "#When operating on two arrays, NumPy compares their shapes element-wise. It starts with the trailing \n",
        "#dimensions, and works its way forward. Two dimensions are compatible when\n",
        "#they are equal, or one of them is 1"
      ],
      "execution_count": null,
      "outputs": []
    },
    {
      "cell_type": "code",
      "metadata": {
        "id": "LDWfi5Lebg-f",
        "colab_type": "code",
        "colab": {},
        "outputId": "e30ff3f1-91d4-4439-bf4f-512597653fbb"
      },
      "source": [
        "start = np.zeros((4,4))\n",
        "start= start+100\n",
        "start"
      ],
      "execution_count": null,
      "outputs": [
        {
          "output_type": "execute_result",
          "data": {
            "text/plain": [
              "array([[100., 100., 100., 100.],\n",
              "       [100., 100., 100., 100.],\n",
              "       [100., 100., 100., 100.],\n",
              "       [100., 100., 100., 100.]])"
            ]
          },
          "metadata": {
            "tags": []
          },
          "execution_count": 254
        }
      ]
    },
    {
      "cell_type": "code",
      "metadata": {
        "id": "Sz12aWWxbg-g",
        "colab_type": "code",
        "colab": {},
        "outputId": "70dc903b-5aef-4bae-e23d-4f74c6bc86ef"
      },
      "source": [
        "# create a rank 1 ndarray with 3 values\n",
        "add_rows = np.array([1, 0, 2,5])\n",
        "print(add_rows)"
      ],
      "execution_count": null,
      "outputs": [
        {
          "output_type": "stream",
          "text": [
            "[1 0 2 5]\n"
          ],
          "name": "stdout"
        }
      ]
    },
    {
      "cell_type": "code",
      "metadata": {
        "id": "F-jffJaubg-i",
        "colab_type": "code",
        "colab": {},
        "outputId": "135b9a5f-2e50-4163-b54f-84bf9f1854aa"
      },
      "source": [
        "y = start + add_rows  # add to each row of 'start' using broadcasting\n",
        "print(y)"
      ],
      "execution_count": null,
      "outputs": [
        {
          "output_type": "stream",
          "text": [
            "[[101. 100. 102. 105.]\n",
            " [101. 100. 102. 105.]\n",
            " [101. 100. 102. 105.]\n",
            " [101. 100. 102. 105.]]\n"
          ],
          "name": "stdout"
        }
      ]
    },
    {
      "cell_type": "code",
      "metadata": {
        "id": "LOGFOxEabg-j",
        "colab_type": "code",
        "colab": {},
        "outputId": "529e1adc-192a-4e45-e4b0-e77fdfbb4d9d"
      },
      "source": [
        "# create an ndarray which is 4 x 1 to broadcast across columns\n",
        "add_cols = np.array([[0,1,2,3]])\n",
        "add_cols = add_cols.T\n",
        "print(add_cols)"
      ],
      "execution_count": null,
      "outputs": [
        {
          "output_type": "stream",
          "text": [
            "[[0]\n",
            " [1]\n",
            " [2]\n",
            " [3]]\n"
          ],
          "name": "stdout"
        }
      ]
    },
    {
      "cell_type": "code",
      "metadata": {
        "id": "sFzxAcXtbg-k",
        "colab_type": "code",
        "colab": {},
        "outputId": "7bf7b2bb-84a6-4929-ad85-129304a411c2"
      },
      "source": [
        "# add to each column of 'start' using broadcasting\n",
        "y = start + add_cols \n",
        "print(y)"
      ],
      "execution_count": null,
      "outputs": [
        {
          "output_type": "stream",
          "text": [
            "[[100. 100. 100. 100.]\n",
            " [101. 101. 101. 101.]\n",
            " [102. 102. 102. 102.]\n",
            " [103. 103. 103. 103.]]\n"
          ],
          "name": "stdout"
        }
      ]
    },
    {
      "cell_type": "code",
      "metadata": {
        "id": "SWs-ycuibg-k",
        "colab_type": "code",
        "colab": {},
        "outputId": "aaf0c142-0e11-4f5b-8f73-aadcb0a95352"
      },
      "source": [
        "# this will just broadcast in both dimensions\n",
        "add_scalar = np.array([100])  \n",
        "print(start+y)"
      ],
      "execution_count": null,
      "outputs": [
        {
          "output_type": "stream",
          "text": [
            "[[200. 200. 200. 200.]\n",
            " [201. 201. 201. 201.]\n",
            " [202. 202. 202. 202.]\n",
            " [203. 203. 203. 203.]]\n"
          ],
          "name": "stdout"
        }
      ]
    },
    {
      "cell_type": "markdown",
      "metadata": {
        "id": "RSEbis4kbg-l",
        "colab_type": "text"
      },
      "source": [
        "# Array Math"
      ]
    },
    {
      "cell_type": "code",
      "metadata": {
        "id": "bxyrtqBvbg-m",
        "colab_type": "code",
        "colab": {},
        "outputId": "a061dfbe-7283-4b0f-b3bc-461da2fbb67d"
      },
      "source": [
        "mat1 = np.array(ri(1,10,9)).reshape(3,3)\n",
        "mat2 = np.array(ri(1,10,9)).reshape(3,3)\n",
        "print(\"\\n1st Matrix of random single-digit numbers\\n\\n\",mat1)\n",
        "print(\"\\n2nd Matrix of random single-digit numbers\\n------------\\n\",mat2)\n"
      ],
      "execution_count": null,
      "outputs": [
        {
          "output_type": "stream",
          "text": [
            "\n",
            "1st Matrix of random single-digit numbers\n",
            "\n",
            " [[9 5 4]\n",
            " [1 7 3]\n",
            " [8 3 5]]\n",
            "\n",
            "2nd Matrix of random single-digit numbers\n",
            "------------\n",
            " [[4 8 6]\n",
            " [7 6 8]\n",
            " [4 6 5]]\n"
          ],
          "name": "stdout"
        }
      ]
    },
    {
      "cell_type": "code",
      "metadata": {
        "id": "bQfWsXRhbg-m",
        "colab_type": "code",
        "colab": {},
        "outputId": "97334e54-4633-4672-d3a9-97737f69d743"
      },
      "source": [
        "print(\"\\nSq-root of 1st matrix using np\\n------------------\\n\", np.sqrt(mat1))\n"
      ],
      "execution_count": null,
      "outputs": [
        {
          "output_type": "stream",
          "text": [
            "\n",
            "Sq-root of 1st matrix using np\n",
            "------------------\n",
            " [[3.         2.23606798 2.        ]\n",
            " [1.         2.64575131 1.73205081]\n",
            " [2.82842712 1.73205081 2.23606798]]\n"
          ],
          "name": "stdout"
        }
      ]
    },
    {
      "cell_type": "code",
      "metadata": {
        "id": "bZL9SE8pbg-n",
        "colab_type": "code",
        "colab": {},
        "outputId": "bb0ffbd0-67bc-4fb7-ca31-21327e2e9fb0"
      },
      "source": [
        "print(\"\\nExponential power of 1st matrix using np\\n\",'-'*50,\"\\n\", np.exp(mat1))\n"
      ],
      "execution_count": null,
      "outputs": [
        {
          "output_type": "stream",
          "text": [
            "\n",
            "Exponential power of 1st matrix using np\n",
            " -------------------------------------------------- \n",
            " [[8.10308393e+03 1.48413159e+02 5.45981500e+01]\n",
            " [2.71828183e+00 1.09663316e+03 2.00855369e+01]\n",
            " [2.98095799e+03 2.00855369e+01 1.48413159e+02]]\n"
          ],
          "name": "stdout"
        }
      ]
    },
    {
      "cell_type": "code",
      "metadata": {
        "id": "aYg5LDHkbg-p",
        "colab_type": "code",
        "colab": {},
        "outputId": "0295fb1c-b9c8-4973-8358-ab12a7836c3d"
      },
      "source": [
        "print(\"\\n10-base logarithm on 1st matrix using np\\n\",'-'*50,\"\\n\", np.log10(mat1))\n",
        "print(mat1)\n",
        "print(mat2)"
      ],
      "execution_count": null,
      "outputs": [
        {
          "output_type": "stream",
          "text": [
            "\n",
            "10-base logarithm on 1st matrix using np\n",
            " -------------------------------------------------- \n",
            " [[0.95424251 0.69897    0.60205999]\n",
            " [0.         0.84509804 0.47712125]\n",
            " [0.90308999 0.47712125 0.69897   ]]\n",
            "[[9 5 4]\n",
            " [1 7 3]\n",
            " [8 3 5]]\n",
            "[[4 8 6]\n",
            " [7 6 8]\n",
            " [4 6 5]]\n"
          ],
          "name": "stdout"
        }
      ]
    },
    {
      "cell_type": "code",
      "metadata": {
        "id": "B2rBTSHCbg-q",
        "colab_type": "code",
        "colab": {},
        "outputId": "651eb64a-6637-449f-815a-e82e66ac0ae6"
      },
      "source": [
        "print(\"\\nModulo reminder using np\\n\",'-'*50,\"\\n\", np.fmod(mat1,mat2))\n",
        "mat1%mat2"
      ],
      "execution_count": null,
      "outputs": [
        {
          "output_type": "stream",
          "text": [
            "\n",
            "Modulo reminder using np\n",
            " -------------------------------------------------- \n",
            " [[1 5 4]\n",
            " [1 1 3]\n",
            " [0 3 0]]\n"
          ],
          "name": "stdout"
        },
        {
          "output_type": "execute_result",
          "data": {
            "text/plain": [
              "array([[1, 5, 4],\n",
              "       [1, 1, 3],\n",
              "       [0, 3, 0]])"
            ]
          },
          "metadata": {
            "tags": []
          },
          "execution_count": 270
        }
      ]
    },
    {
      "cell_type": "code",
      "metadata": {
        "id": "kA_XsOFJbg-r",
        "colab_type": "code",
        "colab": {},
        "outputId": "95197810-37db-4d6e-f8c8-a7da5fae07ec"
      },
      "source": [
        "print(\"\\nCombination of functions by shwoing exponetial decay of a sine wave\\n\",'-'*70)\n"
      ],
      "execution_count": null,
      "outputs": [
        {
          "output_type": "stream",
          "text": [
            "\n",
            "Combination of functions by shwoing exponetial decay of a sine wave\n",
            " ----------------------------------------------------------------------\n"
          ],
          "name": "stdout"
        }
      ]
    },
    {
      "cell_type": "code",
      "metadata": {
        "id": "6jDd5W1Rbg-s",
        "colab_type": "code",
        "colab": {}
      },
      "source": [
        "A = np.linspace(0,12*np.pi,1001)\n"
      ],
      "execution_count": null,
      "outputs": []
    },
    {
      "cell_type": "code",
      "metadata": {
        "id": "lOf_GVr3bg-t",
        "colab_type": "code",
        "colab": {},
        "outputId": "309cfdb1-8016-46c2-84ce-28218ed2154b"
      },
      "source": [
        "A"
      ],
      "execution_count": null,
      "outputs": [
        {
          "output_type": "execute_result",
          "data": {
            "text/plain": [
              "array([ 0.        ,  0.03769911,  0.07539822, ..., 37.62371362,\n",
              "       37.66141273, 37.69911184])"
            ]
          },
          "metadata": {
            "tags": []
          },
          "execution_count": 208
        }
      ]
    },
    {
      "cell_type": "code",
      "metadata": {
        "id": "_sBiwrSPbg-w",
        "colab_type": "code",
        "colab": {}
      },
      "source": [
        ""
      ],
      "execution_count": null,
      "outputs": []
    }
  ]
}