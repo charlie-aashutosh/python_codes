{
  "nbformat": 4,
  "nbformat_minor": 0,
  "metadata": {
    "colab": {
      "name": "Queues_DataStructure.ipynb",
      "provenance": [],
      "authorship_tag": "ABX9TyNJsPU0RTghf8RXvyUQ9phQ",
      "include_colab_link": true
    },
    "kernelspec": {
      "name": "python3",
      "display_name": "Python 3"
    }
  },
  "cells": [
    {
      "cell_type": "markdown",
      "metadata": {
        "id": "view-in-github",
        "colab_type": "text"
      },
      "source": [
        "<a href=\"https://colab.research.google.com/github/charlie-aashutosh/python_codes/blob/master/Queues_DataStructure.ipynb\" target=\"_parent\"><img src=\"https://colab.research.google.com/assets/colab-badge.svg\" alt=\"Open In Colab\"/></a>"
      ]
    },
    {
      "cell_type": "code",
      "metadata": {
        "id": "gzTjOkFaJCLh"
      },
      "source": [
        "#Queues\r\n",
        "\r\n",
        "stock_price_queue=[]\r\n",
        "\r\n",
        "stock_price_queue.insert(0,131.10)\r\n",
        "stock_price_queue.insert(0,132.12)\r\n",
        "stock_price_queue.insert(0,135.00)"
      ],
      "execution_count": 1,
      "outputs": []
    },
    {
      "cell_type": "code",
      "metadata": {
        "colab": {
          "base_uri": "https://localhost:8080/"
        },
        "id": "TFHfXx1ENCBu",
        "outputId": "5f799134-317e-47a3-c1a3-17444f72a11f"
      },
      "source": [
        "stock_price_queue"
      ],
      "execution_count": 2,
      "outputs": [
        {
          "output_type": "execute_result",
          "data": {
            "text/plain": [
              "[135.0, 132.12, 131.1]"
            ]
          },
          "metadata": {
            "tags": []
          },
          "execution_count": 2
        }
      ]
    },
    {
      "cell_type": "code",
      "metadata": {
        "colab": {
          "base_uri": "https://localhost:8080/"
        },
        "id": "WqFp8Y3wNDBu",
        "outputId": "afc0e490-2711-4c2a-fc17-3d89d455b90b"
      },
      "source": [
        "stock_price_queue.pop() #FIFO"
      ],
      "execution_count": 3,
      "outputs": [
        {
          "output_type": "execute_result",
          "data": {
            "text/plain": [
              "131.1"
            ]
          },
          "metadata": {
            "tags": []
          },
          "execution_count": 3
        }
      ]
    },
    {
      "cell_type": "code",
      "metadata": {
        "colab": {
          "base_uri": "https://localhost:8080/"
        },
        "id": "RHHEQy2vNPt3",
        "outputId": "20ae72c9-baa9-4ac3-9f11-ce2c93c1294a"
      },
      "source": [
        "stock_price_queue.pop()"
      ],
      "execution_count": 4,
      "outputs": [
        {
          "output_type": "execute_result",
          "data": {
            "text/plain": [
              "132.12"
            ]
          },
          "metadata": {
            "tags": []
          },
          "execution_count": 4
        }
      ]
    },
    {
      "cell_type": "code",
      "metadata": {
        "colab": {
          "base_uri": "https://localhost:8080/"
        },
        "id": "FEaJXmkINUlb",
        "outputId": "9eaa418f-24c9-42df-a4d3-415b4a5226c0"
      },
      "source": [
        "stock_price_queue.pop()"
      ],
      "execution_count": 5,
      "outputs": [
        {
          "output_type": "execute_result",
          "data": {
            "text/plain": [
              "135.0"
            ]
          },
          "metadata": {
            "tags": []
          },
          "execution_count": 5
        }
      ]
    },
    {
      "cell_type": "code",
      "metadata": {
        "id": "zV72YTZBNWs3"
      },
      "source": [
        "from collections import deque"
      ],
      "execution_count": 6,
      "outputs": []
    },
    {
      "cell_type": "code",
      "metadata": {
        "id": "UKdd0w6PNuCx"
      },
      "source": [
        "q=deque()"
      ],
      "execution_count": 7,
      "outputs": []
    },
    {
      "cell_type": "code",
      "metadata": {
        "id": "EZh9E5i5NwJv"
      },
      "source": [
        "q.appendleft(5) #push operation in deque"
      ],
      "execution_count": 8,
      "outputs": []
    },
    {
      "cell_type": "code",
      "metadata": {
        "id": "McHmtMjPN4e3"
      },
      "source": [
        "q.appendleft(6)"
      ],
      "execution_count": 9,
      "outputs": []
    },
    {
      "cell_type": "code",
      "metadata": {
        "id": "Wk1-WMD9N7cm"
      },
      "source": [
        "q.appendleft(7)"
      ],
      "execution_count": 10,
      "outputs": []
    },
    {
      "cell_type": "code",
      "metadata": {
        "colab": {
          "base_uri": "https://localhost:8080/"
        },
        "id": "fem1b318N-Fv",
        "outputId": "9c92de15-41f9-484e-addb-ed99e7309912"
      },
      "source": [
        "print(q)"
      ],
      "execution_count": 11,
      "outputs": [
        {
          "output_type": "stream",
          "text": [
            "deque([7, 6, 5])\n"
          ],
          "name": "stdout"
        }
      ]
    },
    {
      "cell_type": "code",
      "metadata": {
        "colab": {
          "base_uri": "https://localhost:8080/"
        },
        "id": "hT-GmZtBN_f2",
        "outputId": "0af76bc7-662d-44e5-e6b9-c0d5c25cd5a0"
      },
      "source": [
        "q.pop()"
      ],
      "execution_count": 12,
      "outputs": [
        {
          "output_type": "execute_result",
          "data": {
            "text/plain": [
              "5"
            ]
          },
          "metadata": {
            "tags": []
          },
          "execution_count": 12
        }
      ]
    },
    {
      "cell_type": "code",
      "metadata": {
        "colab": {
          "base_uri": "https://localhost:8080/"
        },
        "id": "0-8jJoz2OJ3t",
        "outputId": "8b252708-6e9e-4f3d-9e58-ede27a651868"
      },
      "source": [
        "q.pop()"
      ],
      "execution_count": 13,
      "outputs": [
        {
          "output_type": "execute_result",
          "data": {
            "text/plain": [
              "6"
            ]
          },
          "metadata": {
            "tags": []
          },
          "execution_count": 13
        }
      ]
    },
    {
      "cell_type": "code",
      "metadata": {
        "colab": {
          "base_uri": "https://localhost:8080/"
        },
        "id": "Ax7y-n3qOLxu",
        "outputId": "68e44eba-2690-4a21-f558-4e5ff2ca36b5"
      },
      "source": [
        "q.pop()"
      ],
      "execution_count": 14,
      "outputs": [
        {
          "output_type": "execute_result",
          "data": {
            "text/plain": [
              "7"
            ]
          },
          "metadata": {
            "tags": []
          },
          "execution_count": 14
        }
      ]
    },
    {
      "cell_type": "code",
      "metadata": {
        "id": "upwFWWuCOMyl"
      },
      "source": [
        "class Queue:\r\n",
        "\r\n",
        "  def __init__(self):\r\n",
        "    self.buffer=deque()\r\n",
        "\r\n",
        "  def enqueue(self, value):#add elements to queue\r\n",
        "    self.buffer.appendleft(value) \r\n",
        "\r\n",
        "  def dequeue(self):#removing elements from queue\r\n",
        "    return self.buffer.pop()\r\n",
        "\r\n",
        "  def is_empty(self):\r\n",
        "    return len(self,buffer)==0\r\n",
        "\r\n",
        "  def size(self):\r\n",
        "    return len(self.buffer) \r\n"
      ],
      "execution_count": 15,
      "outputs": []
    },
    {
      "cell_type": "code",
      "metadata": {
        "id": "7d2QZXFLPLcG"
      },
      "source": [
        "pq=Queue()\r\n",
        "\r\n",
        "pq.enqueue({'company':'BMW','model':'Z4','color':'Black'})\r\n",
        "\r\n",
        "pq.enqueue({'company':'Audi','model':'Q3','color':'Blue'})\r\n",
        "\r\n",
        "pq.enqueue({'company':'Mahindra','model':'Scorpio','color':'White'})\r\n",
        "\r\n",
        "\r\n",
        "\r\n"
      ],
      "execution_count": 16,
      "outputs": []
    },
    {
      "cell_type": "code",
      "metadata": {
        "colab": {
          "base_uri": "https://localhost:8080/"
        },
        "id": "9ciZvFrnQK6H",
        "outputId": "534983b4-3e4e-4106-9586-6fd924bd4408"
      },
      "source": [
        "pq.buffer"
      ],
      "execution_count": 17,
      "outputs": [
        {
          "output_type": "execute_result",
          "data": {
            "text/plain": [
              "deque([{'color': 'White', 'company': 'Mahindra', 'model': 'Scorpio'},\n",
              "       {'color': 'Blue', 'company': 'Audi', 'model': 'Q3'},\n",
              "       {'color': 'Black', 'company': 'BMW', 'model': 'Z4'}])"
            ]
          },
          "metadata": {
            "tags": []
          },
          "execution_count": 17
        }
      ]
    },
    {
      "cell_type": "code",
      "metadata": {
        "colab": {
          "base_uri": "https://localhost:8080/"
        },
        "id": "6eD_gYaoQOkK",
        "outputId": "7351e418-bef8-4ab4-cd41-6c8e539bd8c0"
      },
      "source": [
        "pq.dequeue()"
      ],
      "execution_count": 18,
      "outputs": [
        {
          "output_type": "execute_result",
          "data": {
            "text/plain": [
              "{'color': 'Black', 'company': 'BMW', 'model': 'Z4'}"
            ]
          },
          "metadata": {
            "tags": []
          },
          "execution_count": 18
        }
      ]
    },
    {
      "cell_type": "code",
      "metadata": {
        "colab": {
          "base_uri": "https://localhost:8080/"
        },
        "id": "yM2EmT5VQh6p",
        "outputId": "1f390705-aa04-4b70-d70d-94ce0f2200e7"
      },
      "source": [
        "pq.dequeue()"
      ],
      "execution_count": 19,
      "outputs": [
        {
          "output_type": "execute_result",
          "data": {
            "text/plain": [
              "{'color': 'Blue', 'company': 'Audi', 'model': 'Q3'}"
            ]
          },
          "metadata": {
            "tags": []
          },
          "execution_count": 19
        }
      ]
    },
    {
      "cell_type": "code",
      "metadata": {
        "colab": {
          "base_uri": "https://localhost:8080/"
        },
        "id": "lEW8qQPnQod4",
        "outputId": "a4e547b9-193b-43d9-e591-3936d2a6dab3"
      },
      "source": [
        "pq.dequeue()"
      ],
      "execution_count": 20,
      "outputs": [
        {
          "output_type": "execute_result",
          "data": {
            "text/plain": [
              "{'color': 'White', 'company': 'Mahindra', 'model': 'Scorpio'}"
            ]
          },
          "metadata": {
            "tags": []
          },
          "execution_count": 20
        }
      ]
    },
    {
      "cell_type": "code",
      "metadata": {
        "id": "9TcaZVBNQr3U"
      },
      "source": [
        ""
      ],
      "execution_count": null,
      "outputs": []
    }
  ]
}