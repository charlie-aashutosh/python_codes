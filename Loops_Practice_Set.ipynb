{
  "nbformat": 4,
  "nbformat_minor": 0,
  "metadata": {
    "colab": {
      "name": "Loops_Practice_Set.ipynb",
      "provenance": [],
      "collapsed_sections": [],
      "authorship_tag": "ABX9TyPcfVpr+RUw2PABgB1b/Gdg",
      "include_colab_link": true
    },
    "kernelspec": {
      "name": "python3",
      "display_name": "Python 3"
    }
  },
  "cells": [
    {
      "cell_type": "markdown",
      "metadata": {
        "id": "view-in-github",
        "colab_type": "text"
      },
      "source": [
        "<a href=\"https://colab.research.google.com/github/charlie-aashutosh/python_codes/blob/master/Loops_Practice_Set.ipynb\" target=\"_parent\"><img src=\"https://colab.research.google.com/assets/colab-badge.svg\" alt=\"Open In Colab\"/></a>"
      ]
    },
    {
      "cell_type": "markdown",
      "metadata": {
        "id": "2M7_25D0TyRi"
      },
      "source": [
        "Practice Set on Loops"
      ]
    },
    {
      "cell_type": "code",
      "metadata": {
        "colab": {
          "base_uri": "https://localhost:8080/"
        },
        "id": "6DYbRiOqTqF5",
        "outputId": "69e996ad-cb64-4417-94d8-eea9b2eeecbd"
      },
      "source": [
        "#accept user input for a number and calculate the sum of numbers between 1 and that user input\r\n",
        "sum1=0\r\n",
        "n=int(input(\"enter the value\"))\r\n",
        "\r\n",
        "for i in range(1, n+1, 1):\r\n",
        "  sum1+=i\r\n",
        "print(\"\\n\")\r\n",
        "print(\"Sum is: \", sum1)"
      ],
      "execution_count": null,
      "outputs": [
        {
          "output_type": "stream",
          "text": [
            "enter the value10\n",
            "\n",
            "\n",
            "Sum is:  55\n"
          ],
          "name": "stdout"
        }
      ]
    },
    {
      "cell_type": "code",
      "metadata": {
        "colab": {
          "base_uri": "https://localhost:8080/"
        },
        "id": "RH_3TkXzYkMN",
        "outputId": "67e10f4a-f3d1-4261-9ff3-c48684ae9a40"
      },
      "source": [
        "#Print the multiplication table of any number given by the user\r\n",
        "n=int(input(\"Enter your value\"))\r\n",
        "for a in range(1, 11, 1):\r\n",
        "  prod=n*a\r\n",
        "  print(prod)"
      ],
      "execution_count": null,
      "outputs": [
        {
          "output_type": "stream",
          "text": [
            "Enter your value13\n",
            "13\n",
            "26\n",
            "39\n",
            "52\n",
            "65\n",
            "78\n",
            "91\n",
            "104\n",
            "117\n",
            "130\n"
          ],
          "name": "stdout"
        }
      ]
    },
    {
      "cell_type": "markdown",
      "metadata": {
        "id": "w0WV9sAhbTSQ"
      },
      "source": [
        "We have a list and inside that list we are supposed to display all the elements which can be divided by 5"
      ]
    },
    {
      "cell_type": "code",
      "metadata": {
        "colab": {
          "base_uri": "https://localhost:8080/"
        },
        "id": "r8BEZFnIaHXv",
        "outputId": "8273ff89-c01a-4d74-bb2e-62367a5d39cf"
      },
      "source": [
        "list1=[23,55,90,35,78,120,470,45,95,112,83,27]\r\n",
        "\r\n",
        "for value in list1:\r\n",
        "  if (value%5==0):\r\n",
        "    print(value)"
      ],
      "execution_count": null,
      "outputs": [
        {
          "output_type": "stream",
          "text": [
            "55\n",
            "90\n",
            "35\n",
            "120\n",
            "470\n",
            "45\n",
            "95\n"
          ],
          "name": "stdout"
        }
      ]
    },
    {
      "cell_type": "code",
      "metadata": {
        "colab": {
          "base_uri": "https://localhost:8080/"
        },
        "id": "xD88kzQ4dol7",
        "outputId": "4d55bab0-8d70-40ef-d108-01a901aa6892"
      },
      "source": [
        "#List reversal using Loops\r\n",
        "list2=[23,54,89,36,43,12,89,34]\r\n",
        "start=len(list2)-1\r\n",
        "stop=-1\r\n",
        "step=-1\r\n",
        "for i in range(start, stop, step):\r\n",
        "  print(list2[i])"
      ],
      "execution_count": null,
      "outputs": [
        {
          "output_type": "stream",
          "text": [
            "34\n",
            "89\n",
            "12\n",
            "43\n",
            "36\n",
            "89\n",
            "54\n",
            "23\n"
          ],
          "name": "stdout"
        }
      ]
    },
    {
      "cell_type": "code",
      "metadata": {
        "colab": {
          "base_uri": "https://localhost:8080/"
        },
        "id": "sBK9xnbrdMuk",
        "outputId": "c25357ca-f3a9-404f-9163-fb2d9639ec9b"
      },
      "source": [
        "#Display -10 to -1 using for loop\r\n",
        "for i in range(-10, 0, 1):\r\n",
        "  print(i)"
      ],
      "execution_count": null,
      "outputs": [
        {
          "output_type": "stream",
          "text": [
            "-10\n",
            "-9\n",
            "-8\n",
            "-7\n",
            "-6\n",
            "-5\n",
            "-4\n",
            "-3\n",
            "-2\n",
            "-1\n"
          ],
          "name": "stdout"
        }
      ]
    },
    {
      "cell_type": "code",
      "metadata": {
        "colab": {
          "base_uri": "https://localhost:8080/"
        },
        "id": "KV1_16cIeyd8",
        "outputId": "558bfe7f-331b-48d7-9ee1-b9f294628e8e"
      },
      "source": [
        "list=[12,23,45,67,86,87,544,643,67,34]\r\n",
        "for i in list:\r\n",
        "  print(list[::-1]) #indexing technique\r\n",
        "  break\r\n"
      ],
      "execution_count": null,
      "outputs": [
        {
          "output_type": "stream",
          "text": [
            "[34, 67, 643, 544, 87, 86, 67, 45, 23, 12]\n"
          ],
          "name": "stdout"
        }
      ]
    },
    {
      "cell_type": "code",
      "metadata": {
        "colab": {
          "base_uri": "https://localhost:8080/"
        },
        "id": "drtf0sfte0aA",
        "outputId": "f2a7ced0-4990-492c-e731-cdb1c5dd4945"
      },
      "source": [
        "#Write a program to display all the prime numbers in a range\r\n",
        "start=25\r\n",
        "stop=120\r\n",
        "print(\"Prime numbers between\", start, \"and\", stop, \"are:\")\r\n",
        "\r\n",
        "for num in range(start, stop+1):\r\n",
        "  if num>1:\r\n",
        "    for i in range(2, num):#Prime number starts from 2\r\n",
        "      if (num%i==0):\r\n",
        "        break\r\n",
        "    else:\r\n",
        "      print(num)\r\n"
      ],
      "execution_count": null,
      "outputs": [
        {
          "output_type": "stream",
          "text": [
            "Prime numbers between 25 and 120 are:\n",
            "29\n",
            "31\n",
            "37\n",
            "41\n",
            "43\n",
            "47\n",
            "53\n",
            "59\n",
            "61\n",
            "67\n",
            "71\n",
            "73\n",
            "79\n",
            "83\n",
            "89\n",
            "97\n",
            "101\n",
            "103\n",
            "107\n",
            "109\n",
            "113\n"
          ],
          "name": "stdout"
        }
      ]
    },
    {
      "cell_type": "code",
      "metadata": {
        "colab": {
          "base_uri": "https://localhost:8080/"
        },
        "id": "BzYb4a3xisCv",
        "outputId": "cc531b82-7552-493d-d99b-4b72b045baa8"
      },
      "source": [
        "#Fibonacci Series\r\n",
        "#0,1,1,2,3,5,8,13,21,34.....\r\n",
        "terms=20\r\n",
        "#first two numbers\r\n",
        "num1,num2=0,1\r\n",
        "count=0\r\n",
        "\r\n",
        "print(\"Fibonacci Sequence: \")\r\n",
        "while count<terms:\r\n",
        "  print(num1, end=\" \")\r\n",
        "  temp=num1+num2\r\n",
        "  #update\r\n",
        "  num1=num2\r\n",
        "  num2=temp\r\n",
        "  count+=1\r\n"
      ],
      "execution_count": null,
      "outputs": [
        {
          "output_type": "stream",
          "text": [
            "Fibonacci Sequence: \n",
            "0 1 1 2 3 5 8 13 21 34 55 89 144 233 377 610 987 1597 2584 4181 "
          ],
          "name": "stdout"
        }
      ]
    },
    {
      "cell_type": "code",
      "metadata": {
        "id": "7p4rHOQ1k9Hh",
        "colab": {
          "base_uri": "https://localhost:8080/"
        },
        "outputId": "99a031e9-b7d2-4c36-aa40-d33c3ecac93b"
      },
      "source": [
        "#Printing pattern examples\r\n",
        "#*\r\n",
        "#**\r\n",
        "#***\r\n",
        "#****\r\n",
        "#***\r\n",
        "#**\r\n",
        "#*\r\n",
        "rows = 5\r\n",
        "for i in range(0, rows):\r\n",
        "    for j in range(0, i + 1):\r\n",
        "        print(\"*\", end=' ')\r\n",
        "    print(\"\\r\")\r\n",
        "\r\n",
        "for i in range(rows, 0, -1):\r\n",
        "    for j in range(0, i - 1):\r\n",
        "        print(\"*\", end=' ')\r\n",
        "    print(\"\\r\")\r\n"
      ],
      "execution_count": 1,
      "outputs": [
        {
          "output_type": "stream",
          "text": [
            "* \r\n",
            "* * \r\n",
            "* * * \r\n",
            "* * * * \r\n",
            "* * * * * \r\n",
            "* * * * \r\n",
            "* * * \r\n",
            "* * \r\n",
            "* \r\n",
            "\r\n"
          ],
          "name": "stdout"
        }
      ]
    },
    {
      "cell_type": "code",
      "metadata": {
        "colab": {
          "base_uri": "https://localhost:8080/"
        },
        "id": "eScWeDY8i71n",
        "outputId": "a13d6f5e-6d3d-4ef5-dd0e-b6953cd13d8e"
      },
      "source": [
        "#Print the following pattern using for loop\r\n",
        "\r\n",
        "#5 4 3 2 1 \r\n",
        "#4 3 2 1 \r\n",
        "#3 2 1 \r\n",
        "#2 1 \r\n",
        "#1\r\n",
        "\r\n",
        "n = 5\r\n",
        "k = 5\r\n",
        "for i in range(0,n+1):\r\n",
        "    for j in range(k-i,0,-1):\r\n",
        "        print(j,end=' ')\r\n",
        "    print()\r\n"
      ],
      "execution_count": 3,
      "outputs": [
        {
          "output_type": "stream",
          "text": [
            "5 4 3 2 1 \n",
            "4 3 2 1 \n",
            "3 2 1 \n",
            "2 1 \n",
            "1 \n",
            "\n"
          ],
          "name": "stdout"
        }
      ]
    },
    {
      "cell_type": "code",
      "metadata": {
        "colab": {
          "base_uri": "https://localhost:8080/"
        },
        "id": "i8w48sE4jIG5",
        "outputId": "a9da6121-3778-4615-ab59-0e7f280cc436"
      },
      "source": [
        "#Print the following pattern\r\n",
        "\r\n",
        "#1 \r\n",
        "#1 2 \r\n",
        "#1 2 3 \r\n",
        "#1 2 3 4 \r\n",
        "#1 2 3 4 5\r\n",
        "\r\n",
        "print(\"Number Pattern \")\r\n",
        "lastNumber = 6\r\n",
        "for row in range(1, lastNumber):\r\n",
        "    for column in range(1, row + 1):\r\n",
        "        print(column, end=' ')\r\n",
        "    print(\"\")"
      ],
      "execution_count": 4,
      "outputs": [
        {
          "output_type": "stream",
          "text": [
            "Number Pattern \n",
            "1 \n",
            "1 2 \n",
            "1 2 3 \n",
            "1 2 3 4 \n",
            "1 2 3 4 5 \n"
          ],
          "name": "stdout"
        }
      ]
    },
    {
      "cell_type": "code",
      "metadata": {
        "colab": {
          "base_uri": "https://localhost:8080/"
        },
        "id": "udEr6ovujkgx",
        "outputId": "62fc0974-11a4-4101-fb4c-69633a77a98c"
      },
      "source": [
        "#Write a loop to find the factorial of any number\r\n",
        "num = int(input(\"Enter number whose factorial is needed\"))\r\n",
        "factorial = 1\r\n",
        "if num < 0:\r\n",
        "    print(\"Factorial does not exist for negative numbers\")\r\n",
        "elif num == 0:\r\n",
        "    print(\"The factorial of 0 is 1\")\r\n",
        "else:\r\n",
        "    for i in range(1, num + 1):\r\n",
        "        factorial = factorial * i\r\n",
        "    print(\"The factorial of\", num, \"is\", factorial)"
      ],
      "execution_count": 7,
      "outputs": [
        {
          "output_type": "stream",
          "text": [
            "Enter number whose factorial is needed12\n",
            "The factorial of 12 is 479001600\n"
          ],
          "name": "stdout"
        }
      ]
    },
    {
      "cell_type": "code",
      "metadata": {
        "colab": {
          "base_uri": "https://localhost:8080/"
        },
        "id": "dbrG5SZDjzbZ",
        "outputId": "5eebd47f-9757-4d4e-b02b-00b304187bd2"
      },
      "source": [
        "#Reverse a given integer number\r\n",
        "num = int(input('Enter number whose reverse you need to calculate'))\r\n",
        "reverse_number = 0\r\n",
        "print(\"Given Number \", num)\r\n",
        "while num > 0:\r\n",
        "    reminder = num % 10\r\n",
        "    reverse_number = (reverse_number * 10) + reminder\r\n",
        "    num = num // 10\r\n",
        "print(\"Revered Number \", reverse_number)"
      ],
      "execution_count": 8,
      "outputs": [
        {
          "output_type": "stream",
          "text": [
            "Enter number whose reverse you need to calculate12345\n",
            "Given Number  12345\n",
            "Revered Number  54321\n"
          ],
          "name": "stdout"
        }
      ]
    },
    {
      "cell_type": "code",
      "metadata": {
        "colab": {
          "base_uri": "https://localhost:8080/"
        },
        "id": "8eIqBemkkO5k",
        "outputId": "c62b9aae-5448-48eb-fe69-27e5d83d6e22"
      },
      "source": [
        "#Use a loop to display elements from a given list which are present at even positions\r\n",
        "my_list = [10, 20, 30, 40, 50, 60, 70, 80, 90, 100]\r\n",
        "for i in my_list[1::2]:\r\n",
        "    print(i, end=\" \")"
      ],
      "execution_count": 9,
      "outputs": [
        {
          "output_type": "stream",
          "text": [
            "20 40 60 80 100 "
          ],
          "name": "stdout"
        }
      ]
    },
    {
      "cell_type": "code",
      "metadata": {
        "colab": {
          "base_uri": "https://localhost:8080/"
        },
        "id": "FAViPJoTkcI5",
        "outputId": "334a5f10-8eae-4db7-def7-980a3edc341e"
      },
      "source": [
        "#Display the cube of the number up to a given integer\r\n",
        "input_number = 12\r\n",
        "for i in range(1, input_number + 1):\r\n",
        "  print(\"Current Number is :\", i, \" and the cube is\", (i * i * i))"
      ],
      "execution_count": 12,
      "outputs": [
        {
          "output_type": "stream",
          "text": [
            "Current Number is : 1  and the cube is 1\n",
            "Current Number is : 2  and the cube is 8\n",
            "Current Number is : 3  and the cube is 27\n",
            "Current Number is : 4  and the cube is 64\n",
            "Current Number is : 5  and the cube is 125\n",
            "Current Number is : 6  and the cube is 216\n",
            "Current Number is : 7  and the cube is 343\n",
            "Current Number is : 8  and the cube is 512\n",
            "Current Number is : 9  and the cube is 729\n",
            "Current Number is : 10  and the cube is 1000\n",
            "Current Number is : 11  and the cube is 1331\n",
            "Current Number is : 12  and the cube is 1728\n"
          ],
          "name": "stdout"
        }
      ]
    },
    {
      "cell_type": "code",
      "metadata": {
        "colab": {
          "base_uri": "https://localhost:8080/"
        },
        "id": "Ifwm_1mrkofo",
        "outputId": "b556dc8a-bf2b-4c01-a654-84ec80b03896"
      },
      "source": [
        "#Find the sum of the series 2 +22 + 222 + 2222 + .. n terms\r\n",
        "number_of_terms = 5\r\n",
        "start = 2\r\n",
        "sum = 0\r\n",
        "for i in range(0, number_of_terms):\r\n",
        "    print(start, end=\" \")\r\n",
        "    sum += start\r\n",
        "    start = (start * 10) + 2\r\n",
        "print(\"\\nSum of above series is:\", sum)"
      ],
      "execution_count": 13,
      "outputs": [
        {
          "output_type": "stream",
          "text": [
            "2 22 222 2222 22222 \n",
            "Sum of above series is: 24690\n"
          ],
          "name": "stdout"
        }
      ]
    },
    {
      "cell_type": "code",
      "metadata": {
        "id": "oxyzQ2zQk77q"
      },
      "source": [
        ""
      ],
      "execution_count": null,
      "outputs": []
    }
  ]
}