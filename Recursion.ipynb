{
  "nbformat": 4,
  "nbformat_minor": 0,
  "metadata": {
    "colab": {
      "name": "Recursion.ipynb",
      "provenance": [],
      "authorship_tag": "ABX9TyMGrczOuEWhFZuusf54SRMg",
      "include_colab_link": true
    },
    "kernelspec": {
      "name": "python3",
      "display_name": "Python 3"
    }
  },
  "cells": [
    {
      "cell_type": "markdown",
      "metadata": {
        "id": "view-in-github",
        "colab_type": "text"
      },
      "source": [
        "<a href=\"https://colab.research.google.com/github/charlie-aashutosh/python_codes/blob/master/Recursion.ipynb\" target=\"_parent\"><img src=\"https://colab.research.google.com/assets/colab-badge.svg\" alt=\"Open In Colab\"/></a>"
      ]
    },
    {
      "cell_type": "code",
      "metadata": {
        "colab": {
          "base_uri": "https://localhost:8080/"
        },
        "id": "e7ViheLEKEKj",
        "outputId": "42556313-9721-45b9-b699-d0b69edee0ae"
      },
      "source": [
        "def find_sum(n):\r\n",
        "\r\n",
        "  sum=0\r\n",
        "\r\n",
        "  for i in range(1,n+1):\r\n",
        "    sum=sum+i\r\n",
        "\r\n",
        "  return sum\r\n",
        "\r\n",
        "if __name__=='__main__':\r\n",
        "  print(find_sum(10))"
      ],
      "execution_count": 2,
      "outputs": [
        {
          "output_type": "stream",
          "text": [
            "55\n"
          ],
          "name": "stdout"
        }
      ]
    },
    {
      "cell_type": "code",
      "metadata": {
        "colab": {
          "base_uri": "https://localhost:8080/"
        },
        "id": "Uhz8WFKbNXvH",
        "outputId": "f54357dd-3501-4c60-d744-3008e4635e57"
      },
      "source": [
        "#using recursion\r\n",
        "\r\n",
        "def find_sum(n):\r\n",
        "\r\n",
        "  if n==1:\r\n",
        "    return 1\r\n",
        "\r\n",
        "  return n + find_sum(n-1) #base condition \r\n",
        "\r\n",
        "if __name__=='__main__':\r\n",
        "  print(find_sum(5))\r\n",
        "\r\n"
      ],
      "execution_count": 4,
      "outputs": [
        {
          "output_type": "stream",
          "text": [
            "15\n"
          ],
          "name": "stdout"
        }
      ]
    },
    {
      "cell_type": "code",
      "metadata": {
        "colab": {
          "base_uri": "https://localhost:8080/"
        },
        "id": "FsDfY8T7OAu2",
        "outputId": "2c326be5-0295-44aa-af93-e1ee45d6834f"
      },
      "source": [
        "#Fibonacci Series\r\n",
        "#0,1,1,2,3,5,8...\r\n",
        "#0,1,2,3,4,5,6... index values \r\n",
        "\r\n",
        "def fibo(n):\r\n",
        "\r\n",
        "  if n==0 or n==1:\r\n",
        "    return n\r\n",
        "\r\n",
        "  return fibo(n-1) + fibo(n-2) #base condition\r\n",
        "\r\n",
        "if __name__=='__main__':\r\n",
        "  print(fibo(10))"
      ],
      "execution_count": 6,
      "outputs": [
        {
          "output_type": "stream",
          "text": [
            "55\n"
          ],
          "name": "stdout"
        }
      ]
    },
    {
      "cell_type": "code",
      "metadata": {
        "id": "Z9X_onPGPK5E"
      },
      "source": [
        ""
      ],
      "execution_count": null,
      "outputs": []
    }
  ]
}