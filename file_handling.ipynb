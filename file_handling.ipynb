{
  "nbformat": 4,
  "nbformat_minor": 0,
  "metadata": {
    "colab": {
      "name": "file_handling.ipynb",
      "provenance": []
    },
    "kernelspec": {
      "name": "python3",
      "display_name": "Python 3"
    },
    "language_info": {
      "name": "python"
    }
  },
  "cells": [
    {
      "cell_type": "code",
      "metadata": {
        "id": "8e2X_h-gOpwL"
      },
      "source": [
        "#open function - opens the file in append mode\n",
        "file1=open(\"demo.txt\", \"a\") #\"a\" denotes append mode"
      ],
      "execution_count": 1,
      "outputs": []
    },
    {
      "cell_type": "code",
      "metadata": {
        "id": "8oSArtbVUeNL"
      },
      "source": [
        "file2=open('demo.txt',\"w+\") #\"w+\" denotes write and read mode"
      ],
      "execution_count": 2,
      "outputs": []
    },
    {
      "cell_type": "code",
      "metadata": {
        "id": "wpIz4BFMVbYK"
      },
      "source": [
        "file1=open(\"demo.txt\",\"a\")"
      ],
      "execution_count": 3,
      "outputs": []
    },
    {
      "cell_type": "code",
      "metadata": {
        "id": "5jI8NO_aVrI0"
      },
      "source": [
        "file1.close()#close() will close the file which had been opened in append mode"
      ],
      "execution_count": 4,
      "outputs": []
    },
    {
      "cell_type": "code",
      "metadata": {
        "id": "CJOJI4uuVtQI"
      },
      "source": [
        "#writing \n",
        "\n",
        "#write() - insert the string in single line of text file\n",
        "#writelines() - insert multiple strings in a single line of text file"
      ],
      "execution_count": 6,
      "outputs": []
    },
    {
      "cell_type": "code",
      "metadata": {
        "id": "F45cAbIoWLiw"
      },
      "source": [
        "#reading \n",
        "\n",
        "#read() - returns the read bytes in the form of strings \n",
        "#readline() - reads a line and returns that in the form of string\n",
        "#readlines() - reads all the lines and returns them in form of string"
      ],
      "execution_count": 7,
      "outputs": []
    },
    {
      "cell_type": "code",
      "metadata": {
        "id": "80QQ0RGjW9jm"
      },
      "source": [
        "#writing data in a file\n",
        "file1=open(\"demo.txt\", \"w\")"
      ],
      "execution_count": 8,
      "outputs": []
    },
    {
      "cell_type": "code",
      "metadata": {
        "id": "q8jU8aW0XGGu"
      },
      "source": [
        "L=['This is Delhi \\n','This is Paris \\n','This is London \\n']#\\n is placed as EOL"
      ],
      "execution_count": 10,
      "outputs": []
    },
    {
      "cell_type": "code",
      "metadata": {
        "id": "gss5qDC-XWAT"
      },
      "source": [
        "file1.write('Hello\\n')\n",
        "file1.writelines(L)\n",
        "file1.close()#to change file access modes"
      ],
      "execution_count": 11,
      "outputs": []
    },
    {
      "cell_type": "code",
      "metadata": {
        "id": "JW74Rtn7XbRh"
      },
      "source": [
        "file1=open(\"demo.txt\",\"r+\")"
      ],
      "execution_count": 12,
      "outputs": []
    },
    {
      "cell_type": "code",
      "metadata": {
        "colab": {
          "base_uri": "https://localhost:8080/"
        },
        "id": "P9UwEdFJX-zB",
        "outputId": "17a8d3d6-93ac-4a3e-f6cb-283f563899a3"
      },
      "source": [
        "#read function\n",
        "print(\"output of read function is \")\n",
        "print(file1.read())\n",
        "print()"
      ],
      "execution_count": 13,
      "outputs": [
        {
          "output_type": "stream",
          "text": [
            "output of read function is \n",
            "Hello\n",
            "This is Delhi \n",
            "This is Paris \n",
            "This is London \n",
            "\n",
            "\n"
          ],
          "name": "stdout"
        }
      ]
    },
    {
      "cell_type": "code",
      "metadata": {
        "id": "gmYRjnx8YFHt"
      },
      "source": [
        "#seek(n)- takes the file handle to the nth bite from the beginning"
      ],
      "execution_count": 14,
      "outputs": []
    },
    {
      "cell_type": "code",
      "metadata": {
        "colab": {
          "base_uri": "https://localhost:8080/"
        },
        "id": "_RCHIRxRYf11",
        "outputId": "ccb45318-c4f8-49a0-f400-39ad2ccecb69"
      },
      "source": [
        "file1.seek(0)"
      ],
      "execution_count": 22,
      "outputs": [
        {
          "output_type": "execute_result",
          "data": {
            "text/plain": [
              "0"
            ]
          },
          "metadata": {
            "tags": []
          },
          "execution_count": 22
        }
      ]
    },
    {
      "cell_type": "code",
      "metadata": {
        "colab": {
          "base_uri": "https://localhost:8080/"
        },
        "id": "FO2FepQ1YjB1",
        "outputId": "095eee9a-b4f4-4208-af52-5c1192d5fa11"
      },
      "source": [
        "#readline function\n",
        "print(\"Output of readline function\")\n",
        "print(file1.readline())\n",
        "print()"
      ],
      "execution_count": 26,
      "outputs": [
        {
          "output_type": "stream",
          "text": [
            "Output of readline function\n",
            "This is London \n",
            "\n",
            "\n"
          ],
          "name": "stdout"
        }
      ]
    },
    {
      "cell_type": "code",
      "metadata": {
        "colab": {
          "base_uri": "https://localhost:8080/"
        },
        "id": "2H2Q8AjdYvXK",
        "outputId": "8651eb83-0126-49fe-9129-6a080621ec56"
      },
      "source": [
        "file1.seek(0)"
      ],
      "execution_count": 27,
      "outputs": [
        {
          "output_type": "execute_result",
          "data": {
            "text/plain": [
              "0"
            ]
          },
          "metadata": {
            "tags": []
          },
          "execution_count": 27
        }
      ]
    },
    {
      "cell_type": "code",
      "metadata": {
        "colab": {
          "base_uri": "https://localhost:8080/"
        },
        "id": "sq6UNj-IaT1b",
        "outputId": "0880387a-43df-47a4-a844-6afe5e68be38"
      },
      "source": [
        "#readlines function\n",
        "print(\"output of readlines function is\")\n",
        "print(file1.readlines())\n",
        "print()"
      ],
      "execution_count": 28,
      "outputs": [
        {
          "output_type": "stream",
          "text": [
            "output of readlines function is\n",
            "['Hello\\n', 'This is Delhi \\n', 'This is Paris \\n', 'This is London \\n']\n",
            "\n"
          ],
          "name": "stdout"
        }
      ]
    },
    {
      "cell_type": "code",
      "metadata": {
        "id": "6R0DX3GVaqsj"
      },
      "source": [
        ""
      ],
      "execution_count": null,
      "outputs": []
    }
  ]
}