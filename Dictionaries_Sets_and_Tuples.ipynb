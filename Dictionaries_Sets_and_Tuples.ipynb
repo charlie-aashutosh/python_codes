{
  "nbformat": 4,
  "nbformat_minor": 0,
  "metadata": {
    "colab": {
      "name": "Practice_Set_01.ipynb",
      "provenance": []
    },
    "kernelspec": {
      "name": "python3",
      "display_name": "Python 3"
    }
  },
  "cells": [
    {
      "cell_type": "markdown",
      "metadata": {
        "id": "cnSqFFVVLlsJ"
      },
      "source": [
        "Dictionaries"
      ]
    },
    {
      "cell_type": "code",
      "metadata": {
        "id": "I7Q2kjCQM2FV"
      },
      "source": [
        "#Below are the two lists convert it into the dictionary\r\n",
        "keys = ['Ten', 'Twenty', 'Thirty']\r\n",
        "values = [10, 20, 30]"
      ],
      "execution_count": null,
      "outputs": []
    },
    {
      "cell_type": "code",
      "metadata": {
        "colab": {
          "base_uri": "https://localhost:8080/"
        },
        "id": "fD4PftRKUzVh",
        "outputId": "7b433d13-e047-4c11-fe36-d15757438899"
      },
      "source": [
        "keys = ['Ten', 'Twenty', 'Thirty']\r\n",
        "values = [10, 20, 30]\r\n",
        "\r\n",
        "new_dict=dict(zip(keys, values))\r\n",
        "print(new_dict)"
      ],
      "execution_count": null,
      "outputs": [
        {
          "output_type": "stream",
          "text": [
            "{'Ten': 10, 'Twenty': 20, 'Thirty': 30}\n"
          ],
          "name": "stdout"
        }
      ]
    },
    {
      "cell_type": "code",
      "metadata": {
        "colab": {
          "base_uri": "https://localhost:8080/"
        },
        "id": "Uj9EjqKQVIUC",
        "outputId": "e5901927-544f-4868-cc58-31814dafb324"
      },
      "source": [
        "type(new_dict)"
      ],
      "execution_count": null,
      "outputs": [
        {
          "output_type": "execute_result",
          "data": {
            "text/plain": [
              "dict"
            ]
          },
          "metadata": {
            "tags": []
          },
          "execution_count": 2
        }
      ]
    },
    {
      "cell_type": "code",
      "metadata": {
        "id": "c4Z_5bMMMuN0"
      },
      "source": [
        "#Merge following two Python dictionaries into one\r\n",
        "dict1 = {'Ten': 10, 'Twenty': 20, 'Thirty': 30}\r\n",
        "dict2 = {'Thirty': 30, 'Fourty': 40, 'Fifty': 50}"
      ],
      "execution_count": null,
      "outputs": []
    },
    {
      "cell_type": "code",
      "metadata": {
        "colab": {
          "base_uri": "https://localhost:8080/"
        },
        "id": "nl_muoAKVMUR",
        "outputId": "06e091b7-15e4-431f-e8f4-80571d3afa64"
      },
      "source": [
        "dict3={**dict1, **dict2} #** are used to concatinate two dictionaries into one\r\n",
        "print(dict3)"
      ],
      "execution_count": null,
      "outputs": [
        {
          "output_type": "stream",
          "text": [
            "{'Ten': 10, 'Twenty': 20, 'Thirty': 30, 'Fourty': 40, 'Fifty': 50}\n"
          ],
          "name": "stdout"
        }
      ]
    },
    {
      "cell_type": "code",
      "metadata": {
        "id": "t2bsm0nAMkN8"
      },
      "source": [
        "#Access the value of key ‘history’\r\n",
        "sampleDict = { \r\n",
        "   \"class\":{ \r\n",
        "      \"student\":{ \r\n",
        "         \"name\":\"Mike\",\r\n",
        "         \"marks\":{ \r\n",
        "            \"physics\":70,\r\n",
        "            \"history\":80\r\n",
        "         }\r\n",
        "      }\r\n",
        "   }\r\n",
        "}"
      ],
      "execution_count": null,
      "outputs": []
    },
    {
      "cell_type": "code",
      "metadata": {
        "colab": {
          "base_uri": "https://localhost:8080/"
        },
        "id": "vRSfMu9SV6gZ",
        "outputId": "77c5f43e-e014-4109-e297-5c951a007f9c"
      },
      "source": [
        "print(sampleDict['class']['student']['marks']['physics'])"
      ],
      "execution_count": null,
      "outputs": [
        {
          "output_type": "stream",
          "text": [
            "70\n"
          ],
          "name": "stdout"
        }
      ]
    },
    {
      "cell_type": "code",
      "metadata": {
        "id": "oSJEMEiHMpN7"
      },
      "source": [
        "#Initialize dictionary with default values\r\n",
        "employees = ['Kelly', 'Emma', 'John']\r\n",
        "defaults = {\"designation\": 'Application Developer', \"salary\": 8000}"
      ],
      "execution_count": null,
      "outputs": []
    },
    {
      "cell_type": "code",
      "metadata": {
        "colab": {
          "base_uri": "https://localhost:8080/"
        },
        "id": "1btUsjgDWgVh",
        "outputId": "93f1878b-9fd4-48af-d7da-28c493fcbae2"
      },
      "source": [
        "answer=dict.fromkeys(employees, defaults)\r\n",
        "print(answer)"
      ],
      "execution_count": null,
      "outputs": [
        {
          "output_type": "stream",
          "text": [
            "{'Kelly': {'designation': 'Application Developer', 'salary': 8000}, 'Emma': {'designation': 'Application Developer', 'salary': 8000}, 'John': {'designation': 'Application Developer', 'salary': 8000}}\n"
          ],
          "name": "stdout"
        }
      ]
    },
    {
      "cell_type": "code",
      "metadata": {
        "id": "DKEOBvgBNFZy"
      },
      "source": [
        "#Create a new dictionary by extracting the following keys from a given dictionary\r\n",
        "sampleDict = {\r\n",
        "  \"name\": \"Kelly\",\r\n",
        "  \"age\":25,\r\n",
        "  \"salary\": 8000,\r\n",
        "  \"city\": \"New york\"\r\n",
        "  \r\n",
        "}\r\n",
        "#Keys to extract\r\n",
        "\r\n",
        "keys = [\"name\", \"salary\"]"
      ],
      "execution_count": null,
      "outputs": []
    },
    {
      "cell_type": "code",
      "metadata": {
        "colab": {
          "base_uri": "https://localhost:8080/"
        },
        "id": "gFEMUPy6Xru6",
        "outputId": "2465fe72-c717-473d-97ef-75e77d19a06f"
      },
      "source": [
        "new_dict={keys:sampleDict[keys] for keys in keys}\r\n",
        "print(new_dict)"
      ],
      "execution_count": null,
      "outputs": [
        {
          "output_type": "stream",
          "text": [
            "{'name': 'Kelly', 'salary': 8000}\n"
          ],
          "name": "stdout"
        }
      ]
    },
    {
      "cell_type": "markdown",
      "metadata": {
        "id": "pt7VwmsqY2SS"
      },
      "source": [
        "Discussion"
      ]
    },
    {
      "cell_type": "code",
      "metadata": {
        "colab": {
          "base_uri": "https://localhost:8080/"
        },
        "id": "s214XOWSYSbF",
        "outputId": "93dc6a0e-5635-4f8c-8853-bc0ad6ea2e72"
      },
      "source": [
        "list1=['name','age','salary','city']\r\n",
        "list2=['Kelly',25, 8000,'New York']\r\n",
        "new_dict=dict(zip(list1, list2))\r\n",
        "print(new_dict)\r\n"
      ],
      "execution_count": null,
      "outputs": [
        {
          "output_type": "stream",
          "text": [
            "{'name': 'Kelly', 'age': 25, 'salary': 8000, 'city': 'New York'}\n"
          ],
          "name": "stdout"
        }
      ]
    },
    {
      "cell_type": "code",
      "metadata": {
        "id": "nfPTgdnANL_j"
      },
      "source": [
        "#Delete set of keys from Python Dictionary\r\n",
        "sampleDict = {\r\n",
        "  \"name\": \"Kelly\",\r\n",
        "  \"age\":25,\r\n",
        "  \"salary\": 8000,\r\n",
        "  \"city\": \"New york\"\r\n",
        "  \r\n",
        "}\r\n",
        "keysToRemove = [\"name\", \"salary\"]\r\n",
        "\r\n"
      ],
      "execution_count": null,
      "outputs": []
    },
    {
      "cell_type": "code",
      "metadata": {
        "colab": {
          "base_uri": "https://localhost:8080/"
        },
        "id": "t-zL73VQZq8y",
        "outputId": "83e7b00d-ddd7-461d-d181-cd75a03eeb66"
      },
      "source": [
        "sampleDict={a:sampleDict[a] for a in sampleDict.keys() - keysToRemove}\r\n",
        "print(sampleDict)\r\n",
        "#keysToRemove is keyword which helps in removing the keys"
      ],
      "execution_count": null,
      "outputs": [
        {
          "output_type": "stream",
          "text": [
            "{'age': 25, 'city': 'New york'}\n"
          ],
          "name": "stdout"
        }
      ]
    },
    {
      "cell_type": "code",
      "metadata": {
        "id": "N7mHSjkbNpzt"
      },
      "source": [
        "#Check if a value 200 exists in a dictionary\r\n",
        "sampleDict = {'a': 100, 'b': 200, 'c': 300}"
      ],
      "execution_count": null,
      "outputs": []
    },
    {
      "cell_type": "code",
      "metadata": {
        "colab": {
          "base_uri": "https://localhost:8080/"
        },
        "id": "CIxPa9z8bSeW",
        "outputId": "9c087ced-1bbc-4876-b3ba-24250f35a106"
      },
      "source": [
        "sampleDict.values()"
      ],
      "execution_count": null,
      "outputs": [
        {
          "output_type": "execute_result",
          "data": {
            "text/plain": [
              "dict_values([100, 200, 300])"
            ]
          },
          "metadata": {
            "tags": []
          },
          "execution_count": 23
        }
      ]
    },
    {
      "cell_type": "code",
      "metadata": {
        "colab": {
          "base_uri": "https://localhost:8080/"
        },
        "id": "GicvSXGEbWfK",
        "outputId": "2edbc246-09dc-4597-9aa7-5d8b3bae1eb9"
      },
      "source": [
        "sampleDict.keys()"
      ],
      "execution_count": null,
      "outputs": [
        {
          "output_type": "execute_result",
          "data": {
            "text/plain": [
              "dict_keys(['a', 'b', 'c'])"
            ]
          },
          "metadata": {
            "tags": []
          },
          "execution_count": 24
        }
      ]
    },
    {
      "cell_type": "code",
      "metadata": {
        "colab": {
          "base_uri": "https://localhost:8080/"
        },
        "id": "G-W_SW27a99_",
        "outputId": "2c80c9b3-0bda-4c72-f982-00b59b9fd759"
      },
      "source": [
        "print(300 in sampleDict.values())"
      ],
      "execution_count": null,
      "outputs": [
        {
          "output_type": "stream",
          "text": [
            "True\n"
          ],
          "name": "stdout"
        }
      ]
    },
    {
      "cell_type": "code",
      "metadata": {
        "id": "TFJx8yNkNvlG"
      },
      "source": [
        "#Rename key city to location in the following dictionary\r\n",
        "sampleDict = {\r\n",
        "  \"name\": \"Kelly\",\r\n",
        "  \"age\":25,\r\n",
        "  \"salary\": 8000,\r\n",
        "  \"city\": \"New york\"\r\n",
        "}"
      ],
      "execution_count": null,
      "outputs": []
    },
    {
      "cell_type": "code",
      "metadata": {
        "colab": {
          "base_uri": "https://localhost:8080/"
        },
        "id": "7pFCM5lKb0d_",
        "outputId": "ebdabd10-e5e9-4258-fc83-a16a8077be51"
      },
      "source": [
        "sampleDict['location']=sampleDict.pop('city')\r\n",
        "print(sampleDict)"
      ],
      "execution_count": null,
      "outputs": [
        {
          "output_type": "stream",
          "text": [
            "{'name': 'Kelly', 'age': 25, 'salary': 8000, 'location': 'New york'}\n"
          ],
          "name": "stdout"
        }
      ]
    },
    {
      "cell_type": "code",
      "metadata": {
        "id": "ciltveYrN2KX"
      },
      "source": [
        "#Get the key corresponding to the minimum value from the following dictionary\r\n",
        "sampleDict = {\r\n",
        "  'Physics': 82,\r\n",
        "  'Math': 65,\r\n",
        "  'history': 75\r\n",
        "}"
      ],
      "execution_count": null,
      "outputs": []
    },
    {
      "cell_type": "code",
      "metadata": {
        "colab": {
          "base_uri": "https://localhost:8080/"
        },
        "id": "Y7juPFj7c6by",
        "outputId": "cd427008-d05e-438b-b504-f7e618fa8186"
      },
      "source": [
        "list=[34,56,78,22,89,90,12,11,74,]\r\n",
        "min(list)\r\n",
        "max(list)"
      ],
      "execution_count": null,
      "outputs": [
        {
          "output_type": "execute_result",
          "data": {
            "text/plain": [
              "90"
            ]
          },
          "metadata": {
            "tags": []
          },
          "execution_count": 32
        }
      ]
    },
    {
      "cell_type": "code",
      "metadata": {
        "colab": {
          "base_uri": "https://localhost:8080/"
        },
        "id": "eydWr3vBcgQc",
        "outputId": "2643f78f-b474-44e1-fd50-b24931bef99e"
      },
      "source": [
        "print(min(sampleDict, key=sampleDict.get))"
      ],
      "execution_count": null,
      "outputs": [
        {
          "output_type": "stream",
          "text": [
            "Math\n"
          ],
          "name": "stdout"
        }
      ]
    },
    {
      "cell_type": "code",
      "metadata": {
        "id": "6KlvSaDVN7cR"
      },
      "source": [
        "#Given a Python dictionary, Change Brad’s salary to 8500\r\n",
        "sampleDict = {\r\n",
        "     'emp1': {'name': 'Jhon', 'salary': 7500},\r\n",
        "     'emp2': {'name': 'Emma', 'salary': 8000},\r\n",
        "     'emp3': {'name': 'Brad', 'salary': 6500}\r\n",
        "}"
      ],
      "execution_count": null,
      "outputs": []
    },
    {
      "cell_type": "code",
      "metadata": {
        "colab": {
          "base_uri": "https://localhost:8080/"
        },
        "id": "MH-NmOu5dPE6",
        "outputId": "bee695e4-c1c9-4d22-dcc5-2152411e5d46"
      },
      "source": [
        "sampleDict['emp3']['salary']=8500\r\n",
        "print(sampleDict)"
      ],
      "execution_count": null,
      "outputs": [
        {
          "output_type": "stream",
          "text": [
            "{'emp1': {'name': 'Jhon', 'salary': 7500}, 'emp2': {'name': 'Emma', 'salary': 8000}, 'emp3': {'name': 'Brad', 'salary': 8500}}\n"
          ],
          "name": "stdout"
        }
      ]
    },
    {
      "cell_type": "markdown",
      "metadata": {
        "id": "dLTro4V6OHJk"
      },
      "source": [
        "Sets"
      ]
    },
    {
      "cell_type": "code",
      "metadata": {
        "id": "_NMqcSmhOCWU"
      },
      "source": [
        "# Add a list of elements to a given set\r\n",
        "sampleSet = {\"Yellow\", \"Orange\", \"Black\"}\r\n",
        "sampleList = [\"Blue\", \"Green\", \"Red\"]\r\n",
        "\r\n",
        "#In set item order is not a concern\r\n",
        "\r\n",
        "#Expected output: {'Green', 'Yellow', 'Black', 'Orange', 'Red', 'Blue'}"
      ],
      "execution_count": null,
      "outputs": []
    },
    {
      "cell_type": "code",
      "metadata": {
        "colab": {
          "base_uri": "https://localhost:8080/"
        },
        "id": "xBsVdqBWfFQX",
        "outputId": "a43b12c1-facb-45b0-9674-64ce8db17baf"
      },
      "source": [
        "sampleSet.update(sampleList)\r\n",
        "print(sampleSet)"
      ],
      "execution_count": null,
      "outputs": [
        {
          "output_type": "stream",
          "text": [
            "{'Green', 'Red', 'Black', 'Orange', 'Blue', 'Yellow'}\n"
          ],
          "name": "stdout"
        }
      ]
    },
    {
      "cell_type": "code",
      "metadata": {
        "id": "mkrkxkBUOg63"
      },
      "source": [
        "#Return a set of identical items from a given two Python set\r\n",
        "set1 = {10, 20, 30, 40, 50}\r\n",
        "set2 = {30, 40, 50, 60, 70}"
      ],
      "execution_count": null,
      "outputs": []
    },
    {
      "cell_type": "code",
      "metadata": {
        "colab": {
          "base_uri": "https://localhost:8080/"
        },
        "id": "btWoc9sBftkm",
        "outputId": "5bbec573-e1b8-44a5-f234-24189a0da038"
      },
      "source": [
        "print(set1.intersection(set2))#same values"
      ],
      "execution_count": null,
      "outputs": [
        {
          "output_type": "stream",
          "text": [
            "{40, 50, 30}\n"
          ],
          "name": "stdout"
        }
      ]
    },
    {
      "cell_type": "code",
      "metadata": {
        "id": "LW9fkgeqOc0p"
      },
      "source": [
        "#Returns a new set with all items from both sets by removing duplicates\r\n",
        "set1 = {10, 20, 30, 40, 50}\r\n",
        "set2 = {30, 40, 50, 60, 70}"
      ],
      "execution_count": null,
      "outputs": []
    },
    {
      "cell_type": "code",
      "metadata": {
        "id": "LJBG2a6LgxgP"
      },
      "source": [
        "set3=set1.union(set2)"
      ],
      "execution_count": null,
      "outputs": []
    },
    {
      "cell_type": "code",
      "metadata": {
        "colab": {
          "base_uri": "https://localhost:8080/"
        },
        "id": "5GERmveBg2sf",
        "outputId": "a0601ab7-19cb-4e5b-b1ca-82e99b5b3c4a"
      },
      "source": [
        "print(set3)"
      ],
      "execution_count": null,
      "outputs": [
        {
          "output_type": "stream",
          "text": [
            "{70, 40, 10, 50, 20, 60, 30}\n"
          ],
          "name": "stdout"
        }
      ]
    },
    {
      "cell_type": "code",
      "metadata": {
        "colab": {
          "base_uri": "https://localhost:8080/"
        },
        "id": "hFjC5UDNgN-N",
        "outputId": "ef8aad58-ed7c-4d27-cf0f-1e8a8cfe8e86"
      },
      "source": [
        "#unique values will be displayed\r\n",
        "print(set1.union(set2))\r\n",
        "print(set1.intersection(set2))"
      ],
      "execution_count": null,
      "outputs": [
        {
          "output_type": "stream",
          "text": [
            "{70, 40, 10, 50, 20, 60, 30}\n",
            "{40, 50, 30}\n"
          ],
          "name": "stdout"
        }
      ]
    },
    {
      "cell_type": "code",
      "metadata": {
        "id": "aQP5s396O6qV"
      },
      "source": [
        "#Given two Python sets, update first set with items that exist only in the first set and not in the second set.\r\n",
        "set1 = {10, 20, 30, 50, 100}\r\n",
        "set2 = {20, 40, 50}"
      ],
      "execution_count": null,
      "outputs": []
    },
    {
      "cell_type": "code",
      "metadata": {
        "colab": {
          "base_uri": "https://localhost:8080/"
        },
        "id": "FS5RclBFg8hd",
        "outputId": "54aa326c-6b5d-4170-ba39-c632dab8a230"
      },
      "source": [
        "set1.difference_update(set2)\r\n",
        "print(set1)"
      ],
      "execution_count": null,
      "outputs": [
        {
          "output_type": "stream",
          "text": [
            "{100, 10, 30}\n"
          ],
          "name": "stdout"
        }
      ]
    },
    {
      "cell_type": "code",
      "metadata": {
        "id": "q9nMGUpNPBJ-"
      },
      "source": [
        "#Remove 10, 20, 30 elements from a following set at once\r\n",
        "\r\n",
        "set1 = {10, 20, 30, 40, 50}"
      ],
      "execution_count": null,
      "outputs": []
    },
    {
      "cell_type": "code",
      "metadata": {
        "colab": {
          "base_uri": "https://localhost:8080/"
        },
        "id": "jeWGPAJ8hw4n",
        "outputId": "e1246cb7-392f-4c44-c7cf-50a48e2d1b4f"
      },
      "source": [
        "set1.difference_update({10, 20, 30})\r\n",
        "print(set1)"
      ],
      "execution_count": null,
      "outputs": [
        {
          "output_type": "stream",
          "text": [
            "{40, 50}\n"
          ],
          "name": "stdout"
        }
      ]
    },
    {
      "cell_type": "code",
      "metadata": {
        "id": "cN_axIbGPEPX"
      },
      "source": [
        "#Return a set of all elements in either A or B, but not both\r\n",
        "\r\n",
        "set1 = {10, 20, 30, 40, 50}\r\n",
        "set2 = {30, 40, 50, 60, 70}"
      ],
      "execution_count": null,
      "outputs": []
    },
    {
      "cell_type": "code",
      "metadata": {
        "colab": {
          "base_uri": "https://localhost:8080/"
        },
        "id": "ZSf832w4iD5U",
        "outputId": "e8564fb7-87b6-4718-dd47-ffc8b6071b41"
      },
      "source": [
        "print(set1.symmetric_difference(set2))"
      ],
      "execution_count": null,
      "outputs": [
        {
          "output_type": "stream",
          "text": [
            "{20}\n"
          ],
          "name": "stdout"
        }
      ]
    },
    {
      "cell_type": "code",
      "metadata": {
        "id": "CuiAG491PIUA"
      },
      "source": [
        "#Determine whether or not the following two sets have any elements in common. If yes display the common elements\r\n",
        "\r\n",
        "set1 = {10, 20, 30, 40, 50}\r\n",
        "set2 = {60, 70, 80, 90, 10}"
      ],
      "execution_count": null,
      "outputs": []
    },
    {
      "cell_type": "code",
      "metadata": {
        "colab": {
          "base_uri": "https://localhost:8080/"
        },
        "id": "MYlD2lpiib8T",
        "outputId": "150d11cf-2ee4-4a8d-90e0-43d5936c5506"
      },
      "source": [
        "if set1.isdisjoint(set2):\r\n",
        "  print(\"two sets have no elements in common\")\r\n",
        "\r\n",
        "else:\r\n",
        "  print(\"two sets have items in common\")\r\n",
        "  print(set1.intersection(set2))\r\n"
      ],
      "execution_count": null,
      "outputs": [
        {
          "output_type": "stream",
          "text": [
            "two sets have items in common\n",
            "{10}\n"
          ],
          "name": "stdout"
        }
      ]
    },
    {
      "cell_type": "code",
      "metadata": {
        "id": "s4URLcBZPL-x"
      },
      "source": [
        "#Update set1 by adding items from set2, except common items\r\n",
        "\r\n",
        "set1 = {10, 20, 30, 40, 50}\r\n",
        "set2 = {30, 40, 50, 60, 70}"
      ],
      "execution_count": null,
      "outputs": []
    },
    {
      "cell_type": "code",
      "metadata": {
        "id": "uUZ69x9zj_Zf"
      },
      "source": [
        "set1.symmetric_difference_update(set2)"
      ],
      "execution_count": null,
      "outputs": []
    },
    {
      "cell_type": "code",
      "metadata": {
        "colab": {
          "base_uri": "https://localhost:8080/"
        },
        "id": "Xp241JW6kSQ-",
        "outputId": "49b08ab7-c837-4ed0-d4a6-ba0f3a1d2f46"
      },
      "source": [
        "print(set1)"
      ],
      "execution_count": null,
      "outputs": [
        {
          "output_type": "stream",
          "text": [
            "{70, 10, 20, 60}\n"
          ],
          "name": "stdout"
        }
      ]
    },
    {
      "cell_type": "code",
      "metadata": {
        "id": "fG2lfCZHPR60"
      },
      "source": [
        "#Remove items from set1 that are not common to both set1 and set2\r\n",
        "\r\n",
        "set1 = {10, 20, 30, 40, 50}\r\n",
        "set2 = {30, 40, 50, 60, 70}"
      ],
      "execution_count": null,
      "outputs": []
    },
    {
      "cell_type": "code",
      "metadata": {
        "colab": {
          "base_uri": "https://localhost:8080/"
        },
        "id": "g4jqewV5kjbQ",
        "outputId": "7caca055-a233-430e-cd78-2518b0c84b43"
      },
      "source": [
        "set1.intersection_update(set2)\r\n",
        "print(set1)"
      ],
      "execution_count": null,
      "outputs": [
        {
          "output_type": "stream",
          "text": [
            "{40, 50, 30}\n"
          ],
          "name": "stdout"
        }
      ]
    },
    {
      "cell_type": "markdown",
      "metadata": {
        "id": "l_4DHpoHPnIJ"
      },
      "source": [
        "Tuples"
      ]
    },
    {
      "cell_type": "code",
      "metadata": {
        "id": "q8MUZw1RPU7T"
      },
      "source": [
        "#Reverse the following tuple\r\n",
        "\r\n",
        "aTuple = (10, 20, 30, 40, 50)"
      ],
      "execution_count": null,
      "outputs": []
    },
    {
      "cell_type": "code",
      "metadata": {
        "id": "eg6sYLMLUW4u"
      },
      "source": [
        "#slicing\r\n",
        "aTuple=aTuple[::-1]"
      ],
      "execution_count": null,
      "outputs": []
    },
    {
      "cell_type": "code",
      "metadata": {
        "colab": {
          "base_uri": "https://localhost:8080/"
        },
        "id": "qHgTxhuUVGjB",
        "outputId": "df33a82e-2302-44b7-c248-8d026e3cd202"
      },
      "source": [
        "print(aTuple)"
      ],
      "execution_count": null,
      "outputs": [
        {
          "output_type": "stream",
          "text": [
            "(50, 40, 30, 20, 10)\n"
          ],
          "name": "stdout"
        }
      ]
    },
    {
      "cell_type": "code",
      "metadata": {
        "id": "olowFaQgPsZi"
      },
      "source": [
        "#Access value 20 from the following tuple\r\n",
        "\r\n",
        "aTuple = (\"Orange\", [10, 20, 30], (5, 15, 25))"
      ],
      "execution_count": null,
      "outputs": []
    },
    {
      "cell_type": "code",
      "metadata": {
        "colab": {
          "base_uri": "https://localhost:8080/"
        },
        "id": "AgvZKGEDVM2W",
        "outputId": "86b3d22f-0fdb-4795-dc69-4112632674f9"
      },
      "source": [
        "print(aTuple[1][1])"
      ],
      "execution_count": null,
      "outputs": [
        {
          "output_type": "stream",
          "text": [
            "20\n"
          ],
          "name": "stdout"
        }
      ]
    },
    {
      "cell_type": "code",
      "metadata": {
        "colab": {
          "base_uri": "https://localhost:8080/"
        },
        "id": "OtAQfVJ7VtEW",
        "outputId": "90caabab-be4b-48f9-efda-7eb2c52e0680"
      },
      "source": [
        "#fetch 25\r\n",
        "print(aTuple[2][2])"
      ],
      "execution_count": null,
      "outputs": [
        {
          "output_type": "stream",
          "text": [
            "25\n"
          ],
          "name": "stdout"
        }
      ]
    },
    {
      "cell_type": "code",
      "metadata": {
        "id": "s_8v_pp5PvsV"
      },
      "source": [
        "#Create a tuple with single item 50\r\n",
        "tup=(50,)#comma has to be there with single element "
      ],
      "execution_count": null,
      "outputs": []
    },
    {
      "cell_type": "code",
      "metadata": {
        "colab": {
          "base_uri": "https://localhost:8080/"
        },
        "id": "rnQCyktmWCfR",
        "outputId": "4d0e9fbb-b061-451d-8a3a-08b0dcdb77eb"
      },
      "source": [
        "type(tup)"
      ],
      "execution_count": null,
      "outputs": [
        {
          "output_type": "execute_result",
          "data": {
            "text/plain": [
              "tuple"
            ]
          },
          "metadata": {
            "tags": []
          },
          "execution_count": 47
        }
      ]
    },
    {
      "cell_type": "code",
      "metadata": {
        "id": "PIZcgupZPyuC"
      },
      "source": [
        "#Unpack the following tuple into 4 variables\r\n",
        "\r\n",
        "aTuple = (10, 20, 30, 40)\r\n",
        "\r\n",
        "#Expected output:\r\n",
        "\r\n",
        "aTuple = (10, 20, 30, 40)\r\n",
        "# Your code\r\n",
        "#print(a) # should print 10\r\n",
        "#print(b) # should print 20\r\n",
        "#print(c) # should print 30\r\n",
        "#print(d) # should print 40\r\n"
      ],
      "execution_count": null,
      "outputs": []
    },
    {
      "cell_type": "code",
      "metadata": {
        "id": "A9oULoFMWbBP"
      },
      "source": [
        "a,b,c,d=aTuple"
      ],
      "execution_count": null,
      "outputs": []
    },
    {
      "cell_type": "code",
      "metadata": {
        "colab": {
          "base_uri": "https://localhost:8080/"
        },
        "id": "upEiut0WXOMk",
        "outputId": "7edf709b-838a-4ca6-cf0c-57cbbaa9dc4f"
      },
      "source": [
        "print(a)"
      ],
      "execution_count": null,
      "outputs": [
        {
          "output_type": "stream",
          "text": [
            "10\n"
          ],
          "name": "stdout"
        }
      ]
    },
    {
      "cell_type": "code",
      "metadata": {
        "colab": {
          "base_uri": "https://localhost:8080/"
        },
        "id": "ZNdyRI7QXRF3",
        "outputId": "e6819c0f-bf2b-4301-e95c-9268aab68274"
      },
      "source": [
        "print(b)"
      ],
      "execution_count": null,
      "outputs": [
        {
          "output_type": "stream",
          "text": [
            "20\n"
          ],
          "name": "stdout"
        }
      ]
    },
    {
      "cell_type": "code",
      "metadata": {
        "colab": {
          "base_uri": "https://localhost:8080/"
        },
        "id": "l9em9zDcXRCM",
        "outputId": "26294e9a-2d5f-4fa9-db64-89fbc3f09a5a"
      },
      "source": [
        "print(c)"
      ],
      "execution_count": null,
      "outputs": [
        {
          "output_type": "stream",
          "text": [
            "30\n"
          ],
          "name": "stdout"
        }
      ]
    },
    {
      "cell_type": "code",
      "metadata": {
        "colab": {
          "base_uri": "https://localhost:8080/"
        },
        "id": "emrkLydoXRAe",
        "outputId": "cac07902-f2ea-4dc3-9cf9-53040c04e922"
      },
      "source": [
        "print(d)"
      ],
      "execution_count": null,
      "outputs": [
        {
          "output_type": "stream",
          "text": [
            "40\n"
          ],
          "name": "stdout"
        }
      ]
    },
    {
      "cell_type": "code",
      "metadata": {
        "id": "0wNfNUTqQATH"
      },
      "source": [
        "#Swap the following two tuples\r\n",
        "\r\n",
        "tuple1 = (11, 22)\r\n",
        "tuple2 = (99, 88)"
      ],
      "execution_count": null,
      "outputs": []
    },
    {
      "cell_type": "code",
      "metadata": {
        "id": "68IM5wa0Xe1a"
      },
      "source": [
        "tuple1, tuple2=tuple2, tuple1"
      ],
      "execution_count": null,
      "outputs": []
    },
    {
      "cell_type": "code",
      "metadata": {
        "colab": {
          "base_uri": "https://localhost:8080/"
        },
        "id": "1Vg7n-ugXy6V",
        "outputId": "25b475d1-5b44-443d-a18d-15f3fa19f631"
      },
      "source": [
        "print(tuple1)"
      ],
      "execution_count": null,
      "outputs": [
        {
          "output_type": "stream",
          "text": [
            "(99, 88)\n"
          ],
          "name": "stdout"
        }
      ]
    },
    {
      "cell_type": "code",
      "metadata": {
        "colab": {
          "base_uri": "https://localhost:8080/"
        },
        "id": "j3K4c7nMX8g4",
        "outputId": "e20de434-ffb1-419f-d60d-30804335971c"
      },
      "source": [
        "print(tuple2)"
      ],
      "execution_count": null,
      "outputs": [
        {
          "output_type": "stream",
          "text": [
            "(11, 22)\n"
          ],
          "name": "stdout"
        }
      ]
    },
    {
      "cell_type": "code",
      "metadata": {
        "id": "Opn9x6lCT32V"
      },
      "source": [
        "#Copy element 44 and 55 from the following tuple into a new tuple\r\n",
        "\r\n",
        "tuple1 = (11, 22, 33, 44, 55, 66)"
      ],
      "execution_count": null,
      "outputs": []
    },
    {
      "cell_type": "code",
      "metadata": {
        "id": "iGhVztwwYFNj"
      },
      "source": [
        "new_tup=tuple1[3:5]"
      ],
      "execution_count": null,
      "outputs": []
    },
    {
      "cell_type": "code",
      "metadata": {
        "colab": {
          "base_uri": "https://localhost:8080/"
        },
        "id": "SDgLPxhbYTYu",
        "outputId": "1e71fb20-a822-4473-d8b6-272dac138a3a"
      },
      "source": [
        "print(new_tup)"
      ],
      "execution_count": null,
      "outputs": [
        {
          "output_type": "stream",
          "text": [
            "(44, 55)\n"
          ],
          "name": "stdout"
        }
      ]
    },
    {
      "cell_type": "code",
      "metadata": {
        "id": "EIkV3dnKT7Qe"
      },
      "source": [
        "#Modify the first item (22) of a list inside a following tuple to 222\r\n",
        "\r\n",
        "tuple1 = (11, [22, 33], 44, 55)"
      ],
      "execution_count": null,
      "outputs": []
    },
    {
      "cell_type": "code",
      "metadata": {
        "id": "Y32FMjh4YqzU"
      },
      "source": [
        "tuple1[1][0]=222"
      ],
      "execution_count": null,
      "outputs": []
    },
    {
      "cell_type": "code",
      "metadata": {
        "colab": {
          "base_uri": "https://localhost:8080/"
        },
        "id": "39bIe_JbZGgh",
        "outputId": "81ec07f1-ef89-4c38-a2a2-dfac6bf9c087"
      },
      "source": [
        "tuple1"
      ],
      "execution_count": null,
      "outputs": [
        {
          "output_type": "execute_result",
          "data": {
            "text/plain": [
              "(11, [222, 33], 44, 55)"
            ]
          },
          "metadata": {
            "tags": []
          },
          "execution_count": 38
        }
      ]
    },
    {
      "cell_type": "code",
      "metadata": {
        "id": "dzWQILY7T_-g"
      },
      "source": [
        "#Sort a tuple of tuples by 2nd item\r\n",
        "\r\n",
        "tuple1 = (('a', 23),('b', 37),('c', 11), ('d',29))\r\n",
        "\r\n",
        "#Expected output:\r\n",
        "\r\n",
        "#(('c', 11), ('a', 23), ('d', 29), ('b', 37))"
      ],
      "execution_count": null,
      "outputs": []
    },
    {
      "cell_type": "markdown",
      "metadata": {
        "id": "e5d6Rkzictu8"
      },
      "source": [
        "NOTED"
      ]
    },
    {
      "cell_type": "code",
      "metadata": {
        "colab": {
          "base_uri": "https://localhost:8080/"
        },
        "id": "xK7lX1NLZpiP",
        "outputId": "fb993eba-f347-4b37-c96b-a60033bf55ed"
      },
      "source": [
        "tuple1=tuple(sorted(list(tuple1), key=lambda x:x[1]))\r\n",
        "print(tuple1)"
      ],
      "execution_count": null,
      "outputs": [
        {
          "output_type": "stream",
          "text": [
            "(('c', 11), ('a', 23), ('d', 29), ('b', 37))\n"
          ],
          "name": "stdout"
        }
      ]
    },
    {
      "cell_type": "code",
      "metadata": {
        "id": "d7NmTbhiUHVE"
      },
      "source": [
        "#Counts the number of occurrences of item 50 from a tuple\r\n",
        "\r\n",
        "tuple1 = (50, 10, 60, 70, 50)"
      ],
      "execution_count": null,
      "outputs": []
    },
    {
      "cell_type": "code",
      "metadata": {
        "colab": {
          "base_uri": "https://localhost:8080/"
        },
        "id": "47GNhfcRckza",
        "outputId": "191fb9c5-0a2e-4ee1-fa0b-fed739a35889"
      },
      "source": [
        "print(tuple1.count(50))"
      ],
      "execution_count": null,
      "outputs": [
        {
          "output_type": "stream",
          "text": [
            "2\n"
          ],
          "name": "stdout"
        }
      ]
    },
    {
      "cell_type": "code",
      "metadata": {
        "id": "iMuyJfV1UMQO"
      },
      "source": [
        "#Check if all items in the following tuple are the same\r\n",
        "\r\n",
        "tuple1 = (45, 45, 45, 45)\r\n",
        "\r\n",
        "#Expected output: True"
      ],
      "execution_count": null,
      "outputs": []
    },
    {
      "cell_type": "code",
      "metadata": {
        "id": "3D7eZZ8tdDYF"
      },
      "source": [
        "def check(sampleTuple):\r\n",
        "  return all(i==samppleTuple[0] for i in sampleTuple)\r\n",
        "\r\n",
        "tuple1=(45,45,45,45)\r\n",
        "print(check(tuple1))\r\n"
      ],
      "execution_count": null,
      "outputs": []
    },
    {
      "cell_type": "code",
      "metadata": {
        "id": "5lZwZR0pUUV_"
      },
      "source": [
        ""
      ],
      "execution_count": null,
      "outputs": []
    }
  ]
}