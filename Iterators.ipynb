{
  "nbformat": 4,
  "nbformat_minor": 0,
  "metadata": {
    "colab": {
      "name": "Iterators.ipynb",
      "provenance": [],
      "authorship_tag": "ABX9TyMo77y32LFBubuINREwhjuf",
      "include_colab_link": true
    },
    "kernelspec": {
      "name": "python3",
      "display_name": "Python 3"
    }
  },
  "cells": [
    {
      "cell_type": "markdown",
      "metadata": {
        "id": "view-in-github",
        "colab_type": "text"
      },
      "source": [
        "<a href=\"https://colab.research.google.com/github/charlie-aashutosh/python_codes/blob/master/Iterators.ipynb\" target=\"_parent\"><img src=\"https://colab.research.google.com/assets/colab-badge.svg\" alt=\"Open In Colab\"/></a>"
      ]
    },
    {
      "cell_type": "code",
      "metadata": {
        "colab": {
          "base_uri": "https://localhost:8080/"
        },
        "id": "UDtfJP0b0-bz",
        "outputId": "42d41405-70ac-409d-f18f-6c4003239b0d"
      },
      "source": [
        "l1=[12,15,25,27,30]\r\n",
        "\r\n",
        "it=iter(l1)\r\n",
        "\r\n",
        "print(it.__next__())"
      ],
      "execution_count": null,
      "outputs": [
        {
          "output_type": "stream",
          "text": [
            "12\n"
          ],
          "name": "stdout"
        }
      ]
    },
    {
      "cell_type": "code",
      "metadata": {
        "id": "-tl2q0Jj5xFg",
        "colab": {
          "base_uri": "https://localhost:8080/"
        },
        "outputId": "1479ae2d-4d8a-477e-89dd-554ef1cca5a3"
      },
      "source": [
        "print(it.__next__())"
      ],
      "execution_count": null,
      "outputs": [
        {
          "output_type": "stream",
          "text": [
            "15\n"
          ],
          "name": "stdout"
        }
      ]
    },
    {
      "cell_type": "code",
      "metadata": {
        "colab": {
          "base_uri": "https://localhost:8080/"
        },
        "id": "XRnEiX1D9VsI",
        "outputId": "3f95bc06-d9b9-4a0f-ae10-60b85164c1b1"
      },
      "source": [
        "class TopTen:\r\n",
        "\r\n",
        "  def __init__(self):\r\n",
        "    self.num=1 #the counter starts from 1\r\n",
        "\r\n",
        "  def __iter__(self):\r\n",
        "    return self\r\n",
        "\r\n",
        "  def __next__(self):\r\n",
        "    \r\n",
        "    if self.num<=10:\r\n",
        "      val=self.num\r\n",
        "      self.num +=1\r\n",
        "\r\n",
        "      return val\r\n",
        "      \r\n",
        "    else:\r\n",
        "      raise StopIteration\r\n",
        "\r\n",
        "values=TopTen()\r\n",
        "\r\n",
        "for i in values:\r\n",
        "  print(i)\r\n"
      ],
      "execution_count": null,
      "outputs": [
        {
          "output_type": "stream",
          "text": [
            "1\n",
            "2\n",
            "3\n",
            "4\n",
            "5\n",
            "6\n",
            "7\n",
            "8\n",
            "9\n",
            "10\n"
          ],
          "name": "stdout"
        }
      ]
    },
    {
      "cell_type": "code",
      "metadata": {
        "colab": {
          "base_uri": "https://localhost:8080/"
        },
        "id": "IrySgK2v-Y1R",
        "outputId": "662c700b-9750-4e12-9a46-10bfdf07395e"
      },
      "source": [
        "print(values.__next__())"
      ],
      "execution_count": null,
      "outputs": [
        {
          "output_type": "stream",
          "text": [
            "1\n"
          ],
          "name": "stdout"
        }
      ]
    },
    {
      "cell_type": "code",
      "metadata": {
        "colab": {
          "base_uri": "https://localhost:8080/"
        },
        "id": "zif6SR09-eky",
        "outputId": "8b55f2bf-ea0b-4c25-9595-8c3a91dbb2c1"
      },
      "source": [
        "print(values.__next__())"
      ],
      "execution_count": null,
      "outputs": [
        {
          "output_type": "stream",
          "text": [
            "2\n"
          ],
          "name": "stdout"
        }
      ]
    },
    {
      "cell_type": "code",
      "metadata": {
        "id": "_D_4YzhQ-hl4"
      },
      "source": [
        ""
      ],
      "execution_count": null,
      "outputs": []
    }
  ]
}