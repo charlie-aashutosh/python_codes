{
  "nbformat": 4,
  "nbformat_minor": 0,
  "metadata": {
    "colab": {
      "name": "Polymorphism.ipynb",
      "provenance": [],
      "authorship_tag": "ABX9TyN0CRcVBTVmvnK79ibF/bFc",
      "include_colab_link": true
    },
    "kernelspec": {
      "name": "python3",
      "display_name": "Python 3"
    }
  },
  "cells": [
    {
      "cell_type": "markdown",
      "metadata": {
        "id": "view-in-github",
        "colab_type": "text"
      },
      "source": [
        "<a href=\"https://colab.research.google.com/github/charlie-aashutosh/python_codes/blob/master/Polymorphism.ipynb\" target=\"_parent\"><img src=\"https://colab.research.google.com/assets/colab-badge.svg\" alt=\"Open In Colab\"/></a>"
      ]
    },
    {
      "cell_type": "code",
      "metadata": {
        "id": "6kt350CD5VaA"
      },
      "source": [
        "#Duck Typing\r\n",
        "#Operator Overloading\r\n",
        "#Method Overloading\r\n",
        "#Method Overriding"
      ],
      "execution_count": null,
      "outputs": []
    },
    {
      "cell_type": "code",
      "metadata": {
        "colab": {
          "base_uri": "https://localhost:8080/"
        },
        "id": "guMfUZKB7gT-",
        "outputId": "6a0df53a-d0a4-4d9a-d868-b8a5b6ea85f0"
      },
      "source": [
        "#Duck Typing\r\n",
        "class Pycharm:\r\n",
        "\r\n",
        "  def execute(self):\r\n",
        "    print('Compiling')\r\n",
        "    print('Running')\r\n",
        "\r\n",
        "class Laptop:\r\n",
        "\r\n",
        "  def code(self,idle):\r\n",
        "    idle.execute() #Polymorphed\r\n",
        "\r\n",
        "idle=Pycharm()\r\n",
        "\r\n",
        "lap1=Laptop()\r\n",
        "lap1.code(idle)\r\n",
        "\r\n"
      ],
      "execution_count": null,
      "outputs": [
        {
          "output_type": "stream",
          "text": [
            "Compiling\n",
            "Running\n"
          ],
          "name": "stdout"
        }
      ]
    },
    {
      "cell_type": "code",
      "metadata": {
        "colab": {
          "base_uri": "https://localhost:8080/",
          "height": 238
        },
        "id": "yFOE8pBO-1mK",
        "outputId": "bf6b3b8e-af9e-4349-a99c-4b3ed88b6a70"
      },
      "source": [
        "class Bird:\r\n",
        "  def fly(self):\r\n",
        "    print('Fly with wings')\r\n",
        "\r\n",
        "class aeroplane:\r\n",
        "  def fly(self):\r\n",
        "    print('fly with fuel')\r\n",
        "\r\n",
        "class dog:\r\n",
        "  def run(self):\r\n",
        "    print('runs with legs')\r\n",
        "\r\n",
        "#attributes having same name are considered as duck typing\r\n",
        "\r\n",
        "for obj in Bird(), aeroplane(), dog():\r\n",
        "  obj.fly()"
      ],
      "execution_count": null,
      "outputs": [
        {
          "output_type": "stream",
          "text": [
            "Fly with wings\n",
            "fly with fuel\n"
          ],
          "name": "stdout"
        },
        {
          "output_type": "error",
          "ename": "AttributeError",
          "evalue": "ignored",
          "traceback": [
            "\u001b[0;31m---------------------------------------------------------------------------\u001b[0m",
            "\u001b[0;31mAttributeError\u001b[0m                            Traceback (most recent call last)",
            "\u001b[0;32m<ipython-input-5-86ecfd7846a2>\u001b[0m in \u001b[0;36m<module>\u001b[0;34m()\u001b[0m\n\u001b[1;32m     12\u001b[0m \u001b[0;34m\u001b[0m\u001b[0m\n\u001b[1;32m     13\u001b[0m \u001b[0;32mfor\u001b[0m \u001b[0mobj\u001b[0m \u001b[0;32min\u001b[0m \u001b[0mBird\u001b[0m\u001b[0;34m(\u001b[0m\u001b[0;34m)\u001b[0m\u001b[0;34m,\u001b[0m \u001b[0maeroplane\u001b[0m\u001b[0;34m(\u001b[0m\u001b[0;34m)\u001b[0m\u001b[0;34m,\u001b[0m \u001b[0mdog\u001b[0m\u001b[0;34m(\u001b[0m\u001b[0;34m)\u001b[0m\u001b[0;34m:\u001b[0m\u001b[0;34m\u001b[0m\u001b[0;34m\u001b[0m\u001b[0m\n\u001b[0;32m---> 14\u001b[0;31m   \u001b[0mobj\u001b[0m\u001b[0;34m.\u001b[0m\u001b[0mfly\u001b[0m\u001b[0;34m(\u001b[0m\u001b[0;34m)\u001b[0m\u001b[0;34m\u001b[0m\u001b[0;34m\u001b[0m\u001b[0m\n\u001b[0m",
            "\u001b[0;31mAttributeError\u001b[0m: 'dog' object has no attribute 'fly'"
          ]
        }
      ]
    },
    {
      "cell_type": "code",
      "metadata": {
        "colab": {
          "base_uri": "https://localhost:8080/",
          "height": 202
        },
        "id": "cxwA_1UE_7Sa",
        "outputId": "25651879-409b-4358-c514-b7b329bc0e4f"
      },
      "source": [
        "#Operator overloading\r\n",
        "\r\n",
        "a=5 #int type\r\n",
        "b='World' #str type\r\n",
        "\r\n",
        "print(a+b) #same datatype should be there"
      ],
      "execution_count": null,
      "outputs": [
        {
          "output_type": "error",
          "ename": "TypeError",
          "evalue": "ignored",
          "traceback": [
            "\u001b[0;31m---------------------------------------------------------------------------\u001b[0m",
            "\u001b[0;31mTypeError\u001b[0m                                 Traceback (most recent call last)",
            "\u001b[0;32m<ipython-input-15-c41494d9884e>\u001b[0m in \u001b[0;36m<module>\u001b[0;34m()\u001b[0m\n\u001b[1;32m      4\u001b[0m \u001b[0mb\u001b[0m\u001b[0;34m=\u001b[0m\u001b[0;34m'World'\u001b[0m \u001b[0;31m#str type\u001b[0m\u001b[0;34m\u001b[0m\u001b[0;34m\u001b[0m\u001b[0m\n\u001b[1;32m      5\u001b[0m \u001b[0;34m\u001b[0m\u001b[0m\n\u001b[0;32m----> 6\u001b[0;31m \u001b[0mprint\u001b[0m\u001b[0;34m(\u001b[0m\u001b[0ma\u001b[0m\u001b[0;34m+\u001b[0m\u001b[0mb\u001b[0m\u001b[0;34m)\u001b[0m \u001b[0;31m#same datatype should be there\u001b[0m\u001b[0;34m\u001b[0m\u001b[0;34m\u001b[0m\u001b[0m\n\u001b[0m",
            "\u001b[0;31mTypeError\u001b[0m: unsupported operand type(s) for +: 'int' and 'str'"
          ]
        }
      ]
    },
    {
      "cell_type": "code",
      "metadata": {
        "id": "wV-CrK4wCewl"
      },
      "source": [
        "a='12'\r\n",
        "b='Sunday'\r\n"
      ],
      "execution_count": null,
      "outputs": []
    },
    {
      "cell_type": "code",
      "metadata": {
        "colab": {
          "base_uri": "https://localhost:8080/"
        },
        "id": "lM0bKz1YBMY4",
        "outputId": "d08d1b47-dae8-47ab-b07b-5efb6062224d"
      },
      "source": [
        "print(str.__add__(a,b))"
      ],
      "execution_count": null,
      "outputs": [
        {
          "output_type": "stream",
          "text": [
            "12Sunday\n"
          ],
          "name": "stdout"
        }
      ]
    },
    {
      "cell_type": "markdown",
      "metadata": {
        "id": "eS52-JcoBvmB"
      },
      "source": [
        "Magic Method:\r\n",
        "__add__()\r\n",
        "__sub__()\r\n",
        "and so on..."
      ]
    },
    {
      "cell_type": "code",
      "metadata": {
        "colab": {
          "base_uri": "https://localhost:8080/"
        },
        "id": "_1HVbP4_BkEc",
        "outputId": "ca85ed77-04b6-4386-86b3-fd86762f7d70"
      },
      "source": [
        "c=12\r\n",
        "d=15\r\n",
        "\r\n",
        "print(int.__add__(c,d))"
      ],
      "execution_count": null,
      "outputs": [
        {
          "output_type": "stream",
          "text": [
            "27\n"
          ],
          "name": "stdout"
        }
      ]
    },
    {
      "cell_type": "code",
      "metadata": {
        "id": "UkGwt2vdCPs0"
      },
      "source": [
        "#Operation overloading"
      ],
      "execution_count": null,
      "outputs": []
    },
    {
      "cell_type": "code",
      "metadata": {
        "id": "dz04Sc_fDBp1"
      },
      "source": [
        "class Square:\r\n",
        "  side=4\r\n",
        "\r\n",
        "  def cal_area_sq(self):\r\n",
        "    return self.side*self.side\r\n",
        "\r\n",
        "class Triangle:\r\n",
        "  base=5\r\n",
        "  height=4\r\n",
        "\r\n",
        "  def cal_area_tri(self):\r\n",
        "    return 0.5*self.base*self.height\r\n",
        "\r\n",
        "sq=Square()\r\n",
        "tri=Triangle()"
      ],
      "execution_count": null,
      "outputs": []
    },
    {
      "cell_type": "code",
      "metadata": {
        "colab": {
          "base_uri": "https://localhost:8080/"
        },
        "id": "lfEYu-GqDuDx",
        "outputId": "2102da24-867e-44e7-cc81-089b9ceddc2c"
      },
      "source": [
        "print('area of square ', sq.cal_area_sq())\r\n",
        "print('area of triangle ', tri.cal_area_tri())"
      ],
      "execution_count": null,
      "outputs": [
        {
          "output_type": "stream",
          "text": [
            "area of square  16\n",
            "area of triangle  10.0\n"
          ],
          "name": "stdout"
        }
      ]
    },
    {
      "cell_type": "code",
      "metadata": {
        "id": "NFZJtGlGD4YV"
      },
      "source": [
        "class Square:\r\n",
        "  side=4\r\n",
        "\r\n",
        "  def cal_area(self):\r\n",
        "    return self.side*self.side\r\n",
        "\r\n",
        "class Triangle:\r\n",
        "  base=5\r\n",
        "  height=4\r\n",
        "\r\n",
        "  def cal_area(self):\r\n",
        "    return 0.5*self.base*self.height\r\n",
        "\r\n",
        "sq=Square()\r\n",
        "tri=Triangle()"
      ],
      "execution_count": null,
      "outputs": []
    },
    {
      "cell_type": "code",
      "metadata": {
        "colab": {
          "base_uri": "https://localhost:8080/"
        },
        "id": "6c6-2DdeEaGo",
        "outputId": "aff52bdc-3dcb-4685-c3e4-b82d949193b6"
      },
      "source": [
        "print('area of square ', sq.cal_area())\r\n",
        "print('area of triangle ', tri.cal_area())"
      ],
      "execution_count": null,
      "outputs": [
        {
          "output_type": "stream",
          "text": [
            "area of square  16\n",
            "area of triangle  10.0\n"
          ],
          "name": "stdout"
        }
      ]
    },
    {
      "cell_type": "code",
      "metadata": {
        "id": "yo0KoeSAEe8B"
      },
      "source": [
        "sq=Square()\r\n",
        "tri=Triangle()\r\n",
        "\r\n",
        "for obj in sq, tri:\r\n",
        "  obj.cal_area()"
      ],
      "execution_count": null,
      "outputs": []
    },
    {
      "cell_type": "code",
      "metadata": {
        "colab": {
          "base_uri": "https://localhost:8080/"
        },
        "id": "LvNdGdphFmGG",
        "outputId": "e5215d86-decc-4fd5-8e40-15ec04b94713"
      },
      "source": [
        "print(obj.cal_area())"
      ],
      "execution_count": null,
      "outputs": [
        {
          "output_type": "stream",
          "text": [
            "10.0\n"
          ],
          "name": "stdout"
        }
      ]
    },
    {
      "cell_type": "code",
      "metadata": {
        "colab": {
          "base_uri": "https://localhost:8080/"
        },
        "id": "63WcBI_mGLPu",
        "outputId": "78acd775-93a1-4c2c-f252-c7e59566465a"
      },
      "source": [
        "#Inheritance and Polymorphism\r\n",
        "\r\n",
        "class Animal:\r\n",
        "  def type(self):\r\n",
        "    print('Various types of animals')\r\n",
        "\r\n",
        "  def age(self):\r\n",
        "    print('age of animal')\r\n",
        "\r\n",
        "class Cat(Animal):\r\n",
        "  def age(self):\r\n",
        "    print('age of cat')\r\n",
        "\r\n",
        "class Dog(Animal):\r\n",
        "  def age(self):\r\n",
        "    print('age of dog')\r\n",
        "\r\n",
        "obj_animal=Animal()\r\n",
        "\r\n",
        "obj_cat=Cat()\r\n",
        "\r\n",
        "obj_dog=Dog()\r\n",
        "\r\n",
        "\r\n",
        "\r\n",
        "obj_animal.type()\r\n",
        "\r\n",
        "obj_animal.age()\r\n",
        "\r\n",
        "obj_cat.type()\r\n",
        "obj_cat.age()\r\n",
        "\r\n",
        "obj_dog.type()\r\n",
        "obj_dog.age()\r\n",
        "\r\n",
        "\r\n",
        "\r\n",
        "\r\n"
      ],
      "execution_count": null,
      "outputs": [
        {
          "output_type": "stream",
          "text": [
            "Various types of animals\n",
            "age of animal\n",
            "Various types of animals\n",
            "age of cat\n",
            "Various types of animals\n",
            "age of dog\n"
          ],
          "name": "stdout"
        }
      ]
    },
    {
      "cell_type": "code",
      "metadata": {
        "id": "Uej88NpQJkbq"
      },
      "source": [
        "\r\n"
      ],
      "execution_count": null,
      "outputs": []
    }
  ]
}